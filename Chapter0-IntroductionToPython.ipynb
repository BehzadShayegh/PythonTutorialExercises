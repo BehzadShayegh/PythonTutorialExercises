{
  "nbformat": 4,
  "nbformat_minor": 0,
  "metadata": {
    "colab": {
      "name": "Python Tutorial.ipynb",
      "provenance": [],
      "collapsed_sections": [
        "GQ8MlITJOK9r",
        "kM03cDmsRa-N",
        "0s1W1zaxNySV",
        "Idt3itNDN_Zd",
        "CFazaxh6PlJ4",
        "XYC4O2yZP6pG",
        "7JGwIPSxQS3Q",
        "-p-zJWYjQVCJ",
        "0eWUmn65Qufe",
        "Pc_g9ZJLWgbF",
        "_aVXBm9UWgut",
        "286DbUZMfgp2",
        "FlJakUVDh5s3",
        "pGRdKHwKzIaR",
        "bZUCEoOrgiUt",
        "4aNxDmJK36pZ",
        "8VtmQCs54EEP",
        "Q7nyyY9t8evC",
        "4jbWW_k-HMtq",
        "YfyZxUECzuig",
        "puPRt16MDyJ2",
        "dUQi29s0Nr3Z",
        "Zbo7GrVq0JHR",
        "SdHEpcLfHQg-",
        "m0qE2lxZHvoW",
        "AUggAJeBIsGV",
        "9cBY2xJoh-pE",
        "XL7Er_wSYHv5",
        "Xk115rBDdDj8",
        "tqLuVsNxgrdD",
        "QbgtTXDxkMpa",
        "Aq5CSi9volUN",
        "4KOD8_YLeHzU",
        "9-Hs7mIWxoJ9",
        "kntEmHoe1YAg",
        "cNuVja8dO-qa",
        "2Joz2jKleQ1B",
        "FNEcVDZycw54",
        "cciTDUTFdrrY",
        "9zBN0he2nNUo",
        "7hIkTVBWQp5M",
        "Xc_SGeb4PRTE",
        "HW3jShz-Ovx7",
        "HcIcqxOEkCBg",
        "gKlMkXPLbk8Z",
        "UYglwYSouH8o",
        "-E-nqpA8oGAC",
        "9zIeOH6J9qL-"
      ],
      "include_colab_link": true
    },
    "kernelspec": {
      "name": "python3",
      "display_name": "Python 3"
    }
  },
  "cells": [
    {
      "cell_type": "markdown",
      "metadata": {
        "id": "view-in-github",
        "colab_type": "text"
      },
      "source": [
        "<a href=\"https://colab.research.google.com/github/BehzadShayegh/PythonTutorialExercises/blob/main/Chapter0-IntroductionToPython.ipynb\" target=\"_parent\"><img src=\"https://colab.research.google.com/assets/colab-badge.svg\" alt=\"Open In Colab\"/></a>"
      ]
    },
    {
      "cell_type": "markdown",
      "metadata": {
        "id": "gENAgk7JL7nQ"
      },
      "source": [
        "<img src='https://image.flaticon.com/icons/svg/1822/1822899.svg' alt=\"Amirkabir-University-Logo\" width=\"120\" height=\"120\" align=\"left\">\n",
        "\n",
        "<img src='https://aut.ac.ir/templates/tmpl_modern01/images/logo_fa.png' alt=\"Amirkabir-University-Logo\" width=\"120\" height=\"120\" align=\"right\">\n",
        "\n",
        "<h1 align=center><font size=5> <b><i>Python Tutorial</b><br>Chapter 0 : Introduction to Python</i></font></h1>"
      ]
    },
    {
      "cell_type": "markdown",
      "metadata": {
        "id": "Z57ktQ8w9DnR"
      },
      "source": [
        "*Prepared by Behzad Shayegh*\n",
        "\n",
        "*It's your turn. Try and learn ...*"
      ]
    },
    {
      "cell_type": "markdown",
      "metadata": {
        "id": "GQ8MlITJOK9r"
      },
      "source": [
        "### **Introduction**"
      ]
    },
    {
      "cell_type": "markdown",
      "metadata": {
        "id": "3c3bvOVA8Yve"
      },
      "source": [
        "Hello everyone.\n",
        "\n",
        "I welcome you all to this course. In this section, we are going to give you some exercises. Maybe some of these exercises are too easy for you and that's because this course starts from scratch; so you can skip it if you think it's not needed.\n",
        "\n",
        "Keep in mind that, in programming, you have to search. It's common that you don't know answers and need to search to find them. **Searching** is an important skill itself. Use key words noted in questions."
      ]
    },
    {
      "cell_type": "markdown",
      "metadata": {
        "id": "kM03cDmsRa-N"
      },
      "source": [
        "### **Lecture 0 : Welcome to Python**"
      ]
    },
    {
      "cell_type": "markdown",
      "metadata": {
        "id": "0s1W1zaxNySV"
      },
      "source": [
        "#### _Exercise 0.0_\n",
        "Let's begin with **Hello World!**. Print \"**Hello World! Hello everyone!**\" using two `print()` calls, one per sentence. Notice that both sentences must be printed in the same line."
      ]
    },
    {
      "cell_type": "code",
      "metadata": {
        "id": "-CxBqbp56Jos",
        "colab": {
          "base_uri": "https://localhost:8080/"
        },
        "outputId": "d7a86b0e-f591-4388-871e-ec3e81c324c0"
      },
      "source": [
        "print(\"Hello World!\", end=' ')\n",
        "print(\"Hello everyone!\")"
      ],
      "execution_count": 1,
      "outputs": [
        {
          "output_type": "stream",
          "text": [
            "Hello World! Hello everyone!\n"
          ],
          "name": "stdout"
        }
      ]
    },
    {
      "cell_type": "markdown",
      "metadata": {
        "id": "Idt3itNDN_Zd"
      },
      "source": [
        "#### _Exercise 0.1_\n",
        "Get a date from standard input using `input()` call.  Consider `yyyy-mm-dd` as date format (you don't need to check date format).  Split the date into three terms using `str.split()` calls and store them into three variables. Then cast those variables from string to integer using type casting. Then print them like : <br/> year : \\<year\\> <br/> month : \\<month\\> <br/> day : \\<day\\> <br/> Use just one print function per line."
      ]
    },
    {
      "cell_type": "code",
      "metadata": {
        "id": "oogk-V8rFVQ2",
        "colab": {
          "base_uri": "https://localhost:8080/",
          "height": 89
        },
        "outputId": "433b6b4a-70ae-4514-c6c3-89dde33189ac"
      },
      "source": [
        "date = input()\n",
        "y, m, d = date.split('-')\n",
        "y = int(y)\n",
        "m = int(m)\n",
        "d = int(d)\n",
        "print('year:', y)\n",
        "print('month:', m)\n",
        "print('day:', d)"
      ],
      "execution_count": null,
      "outputs": [
        {
          "output_type": "stream",
          "text": [
            "1392-03-27\n",
            "year: 1392\n",
            "month: 3\n",
            "day: 27\n"
          ],
          "name": "stdout"
        }
      ]
    },
    {
      "cell_type": "markdown",
      "metadata": {
        "id": "CFazaxh6PlJ4"
      },
      "source": [
        "#### _Exercise 0.2_\n",
        "Get a string input and then, using `str.replace()` calls replace all space characters and question marks `('?')` with  new-line characters `('\\n')`. Then turn it to lowercase string using `str.lower()` call and print it."
      ]
    },
    {
      "cell_type": "code",
      "metadata": {
        "id": "ENXz87Hy1PeR",
        "colab": {
          "base_uri": "https://localhost:8080/",
          "height": 233
        },
        "outputId": "fc84c4c6-b9d0-4021-d47e-e74f7ae87453"
      },
      "source": [
        "s = input()\n",
        "s = s.replace(' ', '\\n')\n",
        "s = s.replace('?', '\\n')\n",
        "s = s.lower()\n",
        "print(s)"
      ],
      "execution_count": null,
      "outputs": [
        {
          "output_type": "stream",
          "text": [
            "Is there any other question? Well, I'm going to continue.\n",
            "is\n",
            "there\n",
            "any\n",
            "other\n",
            "question\n",
            "\n",
            "well,\n",
            "i'm\n",
            "going\n",
            "to\n",
            "continue.\n"
          ],
          "name": "stdout"
        }
      ]
    },
    {
      "cell_type": "markdown",
      "metadata": {
        "id": "XYC4O2yZP6pG"
      },
      "source": [
        "#### _Exercise 0.3_\n",
        "Get a date input as _exercise #0.1_ date format. Then translate it to `yy/dd/mm` format. You have to just pick two least significant digits for year term."
      ]
    },
    {
      "cell_type": "code",
      "metadata": {
        "id": "xOV-_Tik3P6E",
        "colab": {
          "base_uri": "https://localhost:8080/",
          "height": 53
        },
        "outputId": "e2ec60a8-2c06-465c-86dc-0b2bc6354f56"
      },
      "source": [
        "d = input()\n",
        "y, m, d = d.split('-')\n",
        "d = y[-2:] + '/' + d + '/' + m\n",
        "print(d)"
      ],
      "execution_count": null,
      "outputs": [
        {
          "output_type": "stream",
          "text": [
            "1373-12-29\n",
            "73/29/12\n"
          ],
          "name": "stdout"
        }
      ]
    },
    {
      "cell_type": "markdown",
      "metadata": {
        "id": "7JGwIPSxQS3Q"
      },
      "source": [
        "#### _Exercise 0.4_\n",
        "Get a date input as _exercise #0.1_ date format. Then print out how many years passed since the last leap year. First year in persian calendar was a leap year and it occurs every four years. Consider that the input date is a persian date. "
      ]
    },
    {
      "cell_type": "code",
      "metadata": {
        "id": "VhVvB6_o4u4s",
        "colab": {
          "base_uri": "https://localhost:8080/",
          "height": 53
        },
        "outputId": "9236d814-3dbe-44c5-db15-308785a62bec"
      },
      "source": [
        "d = input()\n",
        "y,m,d = d.split('-')\n",
        "y = int(y)\n",
        "print(y % 4)"
      ],
      "execution_count": null,
      "outputs": [
        {
          "output_type": "stream",
          "text": [
            "1378-05-16\n",
            "2\n"
          ],
          "name": "stdout"
        }
      ]
    },
    {
      "cell_type": "markdown",
      "metadata": {
        "id": "-p-zJWYjQVCJ"
      },
      "source": [
        "#### _Exercise 0.5_\n",
        "Get two dates input in _exercise #0.1_ format as your birth date and todays date in order. Then calculate your exact age and then print it out. Assume that every year contains **12 months** and every month contains **30 days**."
      ]
    },
    {
      "cell_type": "code",
      "metadata": {
        "id": "vPX9UMrd6bdx",
        "colab": {
          "base_uri": "https://localhost:8080/",
          "height": 71
        },
        "outputId": "eb8d86a4-071d-403a-8a7d-bc1093831bcb"
      },
      "source": [
        "b = input()\n",
        "by, bm, bd = b.split('-')\n",
        "by = int(by)\n",
        "bm = int(bm)\n",
        "bd = int(bd)\n",
        "n = input()\n",
        "ny, nm, nd = n.split('-')\n",
        "ny = int(ny)\n",
        "nm = int(nm)\n",
        "nd = int(nd)\n",
        "y = ny - by\n",
        "m = nm - bm\n",
        "d = nd - bd\n",
        "days_number = y * 12 * 30 + m * 30 + d\n",
        "print(days_number)"
      ],
      "execution_count": null,
      "outputs": [
        {
          "output_type": "stream",
          "text": [
            "1374-08-14\n",
            "1399-01-11\n",
            "8787\n"
          ],
          "name": "stdout"
        }
      ]
    },
    {
      "cell_type": "markdown",
      "metadata": {
        "id": "0eWUmn65Qufe"
      },
      "source": [
        "#### _Exercise 0.6_\n",
        "* Provide a variable containing `None` value; Then check it's type using `type()` call.\n",
        "\n",
        "* Initialize a variable with a number and then check if it's integer or not.\n",
        "\n",
        "* What's the type of `int` itself? What about the type of a `type()` output?"
      ]
    },
    {
      "cell_type": "code",
      "metadata": {
        "id": "Oq1BwGQzM5wm",
        "colab": {
          "base_uri": "https://localhost:8080/",
          "height": 89
        },
        "outputId": "d317b5b0-b561-44a6-fec2-c753f83ca926"
      },
      "source": [
        "n = None\n",
        "num = 13\n",
        "print(type(n))\n",
        "print(type(num))\n",
        "print(type(int))\n",
        "print(type(type(num)))"
      ],
      "execution_count": null,
      "outputs": [
        {
          "output_type": "stream",
          "text": [
            "<class 'NoneType'>\n",
            "<class 'int'>\n",
            "<class 'type'>\n",
            "<class 'type'>\n"
          ],
          "name": "stdout"
        }
      ]
    },
    {
      "cell_type": "markdown",
      "metadata": {
        "id": "Pc_g9ZJLWgbF"
      },
      "source": [
        "### **Lecture 1 : Control Flow Structures**"
      ]
    },
    {
      "cell_type": "markdown",
      "metadata": {
        "id": "_aVXBm9UWgut"
      },
      "source": [
        "#### _Exercise 1.0_\n",
        "Get a date input in format `yyyy-mm-dd` and check the format. It should be exact like format; `4` digits for year, one dash, `1` or `2` digits for month, another dash and `1` or `2` digits for day.\n",
        "\n",
        "Then check the ranges: year must be positive and less than `1400`, month must be in range `[1:12]` and each month contains `30` days. print _\"Accept\"_ only if all conditions are accepted and else print _\"Reject\"_.\n",
        "\n",
        "*   Use `str.count()` call to count dashes.\n",
        "*   Use `len()` call to check length of each term.\n",
        "*   Use `str.isdigit()` call to check being only digits in each term.\n",
        "*   Use `<, =, >` operators on each term to chack the ranges.\n",
        "\n",
        "Use `if`, `elif`, `else` structure to check conditions. Use `and`, `or`, `not` to avoid from duplication.\n"
      ]
    },
    {
      "cell_type": "code",
      "metadata": {
        "id": "M2-WFHv7Wd77",
        "colab": {
          "base_uri": "https://localhost:8080/",
          "height": 50
        },
        "outputId": "26537fcb-c7bd-4e9c-868f-415dc8475d33"
      },
      "source": [
        "date = input()\n",
        "if date.count('-') == 2 :\n",
        "  y,m,d = date.split('-')\n",
        "  if len(y) == 4 and 0 < len(m) <= 2 and 0 < len(d) <= 2 and \\\n",
        "     y.isdigit() and m.isdigit() and d.isdigit() :\n",
        "    y = int(y)\n",
        "    m = int(m)\n",
        "    d = int(d)\n",
        "    if 0 < y < 1400 and 0 < m <= 12 and 0 < d <= 30 :\n",
        "      print('Accept')\n",
        "    else :\n",
        "      print('Reject')\n",
        "  else :\n",
        "    print('Reject')\n",
        "else :\n",
        "  print('Reject')"
      ],
      "execution_count": null,
      "outputs": [
        {
          "output_type": "stream",
          "text": [
            "1378-5-16\n",
            "Accept\n"
          ],
          "name": "stdout"
        }
      ]
    },
    {
      "cell_type": "markdown",
      "metadata": {
        "id": "286DbUZMfgp2"
      },
      "source": [
        "#### _Exercise 1.1_\n",
        "Using a list, containing month days number (in Persian), upgrade answer of _exercise #1.1_ to check day range depend on each month.\n",
        "\n",
        "_Note that each of the first `6` months contains `31` days and each of next `6` months contains `30` days. Ignore leap years and consider 12th month contains `30` days every year._"
      ]
    },
    {
      "cell_type": "code",
      "metadata": {
        "id": "k2qKl28cfmYf",
        "colab": {
          "base_uri": "https://localhost:8080/",
          "height": 50
        },
        "outputId": "9c8c99dd-fff5-470f-8eaa-8f165e5b6b3d"
      },
      "source": [
        "days = [31,31,31,31,31,31,30,30,30,30,30,30]\n",
        "date = input()\n",
        "if date.count('-') == 2 :\n",
        "  y,m,d = date.split('-')\n",
        "  if len(y) == 4 and 0 < len(m) <= 2 and 0 < len(d) <= 2 and \\\n",
        "     y.isdigit() and m.isdigit() and d.isdigit() :\n",
        "    y = int(y)\n",
        "    m = int(m)\n",
        "    d = int(d)\n",
        "    if 0 < y < 1400 and 0 < m <= 12 and 0 < d <= days[m-1] :\n",
        "      print('Accept')\n",
        "    else :\n",
        "      print('Reject')\n",
        "  else :\n",
        "    print('Reject')\n",
        "else :\n",
        "  print('Reject')"
      ],
      "execution_count": null,
      "outputs": [
        {
          "output_type": "stream",
          "text": [
            "1378-31-10\n",
            "Reject\n"
          ],
          "name": "stdout"
        }
      ]
    },
    {
      "cell_type": "markdown",
      "metadata": {
        "id": "FlJakUVDh5s3"
      },
      "source": [
        "#### _Exercise 1.2_\n",
        "Using a list, containing month names (in Persian), upgrade answer of _exercise #1.1_ to work with month names too. Use `list.index()` call to translate month's name to an integer.\n",
        "\n",
        "_Note that your code should work with month numbers too. Also you need verify that month name is valid using `in`._"
      ]
    },
    {
      "cell_type": "code",
      "metadata": {
        "id": "6ANEkzYnm6Qe",
        "colab": {
          "base_uri": "https://localhost:8080/",
          "height": 50
        },
        "outputId": "769f00e1-4bf1-404f-e6ab-64139836f9f5"
      },
      "source": [
        "days = [31,31,31,31,31,31,30,30,30,30,30,30]\n",
        "month_names = ['farvardin','ordibehesht','khordad','tir','mordad','shahrivar','mehr','aban','azar','dey','bahman','esfand']\n",
        "date = input()\n",
        "if date.count('-') == 2 :\n",
        "  y,m,d = date.split('-')\n",
        "  if len(y) == 4 and 0 < len(d) <= 2 and y.isdigit() and d.isdigit() :\n",
        "    y = int(y)\n",
        "    d = int(d)\n",
        "    if m.isdigit() or m in month_names :\n",
        "      if m.isdigit() :\n",
        "        m = int(m)\n",
        "      else :\n",
        "        m = month_names.index(m)+1\n",
        "      if 0 < y < 1400 and 0 < m <= 12 and 0 < d <= days[m-1] :\n",
        "        print('Accept')\n",
        "      else :\n",
        "        print('Reject')\n",
        "    else :\n",
        "      print('Reject')\n",
        "  else :\n",
        "    print('Reject')\n",
        "else :\n",
        "  print('Reject')"
      ],
      "execution_count": null,
      "outputs": [
        {
          "output_type": "stream",
          "text": [
            "1378-tir-31\n",
            "Accept\n"
          ],
          "name": "stdout"
        }
      ]
    },
    {
      "cell_type": "markdown",
      "metadata": {
        "id": "pGRdKHwKzIaR"
      },
      "source": [
        "#### _Exercise 1.3_\n",
        "Upgrade answer of _exercise #1.2_ to check leap years. This means that code should accept `esfand-30` if and only if year be a leap year.\n",
        "\n",
        "_Note that First year in persian calendar was a leap year and it occurs every four years._"
      ]
    },
    {
      "cell_type": "code",
      "metadata": {
        "id": "d0xtWc1IyPa0",
        "colab": {
          "base_uri": "https://localhost:8080/",
          "height": 50
        },
        "outputId": "8c6bb975-0387-4009-b64a-6cfffa539bee"
      },
      "source": [
        "days = [31,31,31,31,31,31,30,30,30,30,30,29]\n",
        "month_names = ['farvardin','ordibehesht','khordad','tir','mordad','shahrivar','mehr','aban','azar','dey','bahman','esfand']\n",
        "date = input()\n",
        "if date.count('-') == 2 :\n",
        "  y,m,d = date.split('-')\n",
        "  if len(y) == 4 and 0 < len(d) <= 2 and y.isdigit() and d.isdigit() :\n",
        "    y = int(y)\n",
        "    d = int(d)\n",
        "    if m.isdigit() or m in month_names :\n",
        "      if m.isdigit() :\n",
        "        m = int(m)\n",
        "      else :\n",
        "        m = month_names.index(m)+1\n",
        "      if 0 < y < 1400 and 0 < m <= 12 and 0 < d <= (days[m-1] + ((y%4 == 0) * (m == 12))) :\n",
        "        print('Accept')\n",
        "      else :\n",
        "        print('Reject')\n",
        "    else :\n",
        "      print('Reject')\n",
        "  else :\n",
        "    print('Reject')\n",
        "else :\n",
        "  print('Reject')"
      ],
      "execution_count": null,
      "outputs": [
        {
          "output_type": "stream",
          "text": [
            "1397-esfand-30\n",
            "Reject\n"
          ],
          "name": "stdout"
        }
      ]
    },
    {
      "cell_type": "markdown",
      "metadata": {
        "id": "RdsL2vl8lMfj"
      },
      "source": [
        "#### ***Note :*** List of symbols for the following exercises :\n",
        "`y = year`\n",
        "\n",
        "`m = month(number)`\n",
        "\n",
        "`m_str = month(name)`\n",
        "\n",
        "`d = day`\n",
        "\n",
        "`h = hour`\n",
        "\n",
        "`mn = minute`\n",
        "\n",
        "`s = second`\n",
        "\n",
        "`ms = millisecond`"
      ]
    },
    {
      "cell_type": "markdown",
      "metadata": {
        "id": "bZUCEoOrgiUt"
      },
      "source": [
        "#### _Exercise 1.4_\n",
        "Using string formatting, print folowing date and time in format `yyyy-mm-dd hh:mm:ss`. Each term must have exactly above formatting (`1398-1-3` must be written as `1398-01-03`).\n",
        "\n",
        "`y, m, d, h, mn, s = 1399, 1, 13, 12, 32, 2`"
      ]
    },
    {
      "cell_type": "code",
      "metadata": {
        "id": "SN2bOout1P9j",
        "colab": {
          "base_uri": "https://localhost:8080/",
          "height": 35
        },
        "outputId": "00e238a3-44d3-4dde-8726-7046c2a7bf63"
      },
      "source": [
        "y, m, d, h, mn, s = 1399, 1, 13, 12, 32, 2\n",
        "string = \"{:04d}-{:02d}-{:02d} {:02d}:{:02d}:{:02d}\"\n",
        "print(string.format(y,m,d,h,mn,s))"
      ],
      "execution_count": null,
      "outputs": [
        {
          "output_type": "stream",
          "text": [
            "1399-01-13 12:32:02\n"
          ],
          "name": "stdout"
        }
      ]
    },
    {
      "cell_type": "markdown",
      "metadata": {
        "id": "_-4ZBhrUj4DV"
      },
      "source": [
        "#### _Exercise 1.5_\n",
        "We want implement a date and time counter in this exercise :"
      ]
    },
    {
      "cell_type": "markdown",
      "metadata": {
        "id": "4aNxDmJK36pZ"
      },
      "source": [
        "##### _1.5.0_\n",
        "Get two time values as input in the format of `y,m,d,h,mn,s`. Using comparison operators on strings, detect wich time is after another and print result. Use tupples/lists compression (`(1,4) < (2,2)` , `(3,5) > (3,4)` , `(12,1) > (9,91)`)."
      ]
    },
    {
      "cell_type": "code",
      "metadata": {
        "id": "AbzE2poE4IAh",
        "colab": {
          "base_uri": "https://localhost:8080/",
          "height": 71
        },
        "outputId": "1254ee82-2c13-432a-f22b-1f23208bcc5a"
      },
      "source": [
        "time1 = [int(i) for i in input().split(',')]\n",
        "time2 = [int(i) for i in input().split(',')]\n",
        "first,last = (time2,time1) if time1 > time2 else (time1,time2)\n",
        "print(first,'is before',last)"
      ],
      "execution_count": null,
      "outputs": [
        {
          "output_type": "stream",
          "text": [
            "1376,5,11,12,9,19\n",
            "1385,11,9,5,26,12\n",
            "[1376, 5, 11, 12, 9, 19] is before [1385, 11, 9, 5, 26, 12]\n"
          ],
          "name": "stdout"
        }
      ]
    },
    {
      "cell_type": "markdown",
      "metadata": {
        "id": "8VtmQCs54EEP"
      },
      "source": [
        "##### _1.5.1_\n",
        "Define \"_second_\" and \"_millisecond_\" variables and initialize them to `0`. Get an integer input as \"_target_\" value.  Using a loop, count up \"_millisecond_\" in each iteration and update \"_second_\" depend on it. Print \"_second_\" each time it changes. Replace it with last printed value using special character `'\\r'`. Stop loop when \"_second_\" comes equal to \"_target_\". (To test, give a big number as \"_target_\")"
      ]
    },
    {
      "cell_type": "code",
      "metadata": {
        "id": "LDWOdIgp8o8z",
        "colab": {
          "base_uri": "https://localhost:8080/",
          "height": 53
        },
        "outputId": "b7ffdbfe-81c6-4f17-deb5-abebd974b883"
      },
      "source": [
        "second, millisecond = 0, 0\n",
        "target = int(input())\n",
        "while True :\n",
        "  millisecond += 1\n",
        "  second, millisecond = (second + (millisecond // 1000)), (millisecond % 1000)\n",
        "  if not millisecond :\n",
        "    print('\\r', second, end='')\n",
        "  if second == target :\n",
        "    break"
      ],
      "execution_count": null,
      "outputs": [
        {
          "output_type": "stream",
          "text": [
            "3500\n",
            " 3500"
          ],
          "name": "stdout"
        }
      ]
    },
    {
      "cell_type": "markdown",
      "metadata": {
        "id": "Q7nyyY9t8evC"
      },
      "source": [
        "##### _1.5.2_\n",
        "Upgrade exercise #1.5.1 to works with minutes, hours, days, months and years. Get a time input in format of `y,m,d,h,mn,s` as  init values. Also get target time in same format. Assume first input is init value and second one is target. Each year contains 12 months. Each of the first 6 months contains 31 days and each of next 5 months contains 30 days. 12th month contains 29 days if it is not a leap year and else, contains 30 days. Hours must be in rage [0:12] and minuts and seconds must be in rage [0:59]. Print output in every format you want and update it like exercise #1.5.1 ."
      ]
    },
    {
      "cell_type": "code",
      "metadata": {
        "id": "lQQ8SG8UiScW",
        "colab": {
          "base_uri": "https://localhost:8080/",
          "height": 71
        },
        "outputId": "cf76589c-dae3-413a-8e8a-c6904880b707"
      },
      "source": [
        "days = [31,31,31,31,31,31,30,30,30,30,30,29]\n",
        "y,m,d,h,mn,s = [int(i) for i in input().split(',')]\n",
        "lasty,lastm,lastd,lasth,lastmn,lasts = [int(i) for i in input().split(',')]\n",
        "ms = 0\n",
        "while True :\n",
        "  ms    += 1\n",
        "  s , ms = (s + (ms // 1000)), (ms % 1000)\n",
        "  mn, s  = (mn +(s // 60)), (s % 60)\n",
        "  h , mn = (h + (mn // 60)), (mn % 60)\n",
        "  d , h  = (d + (h // 24)), (h % 24)\n",
        "  m , d  = (m + ((d - 1) // (days[m-1] + (y % 4 == 0)))), (((d - 1) % (days[m-1] + (y % 4 == 0))) + 1)\n",
        "  y , m  = (y + ((m - 1) // 12)), (((m - 1) % 12) + 1)\n",
        "  if ms==0 :\n",
        "    print('\\r', (y,m,d,h,mn,s), end='')\n",
        "  if (y,m,d,h,mn,s) == (lasty,lastm,lastd,lasth,lastmn,lasts) :\n",
        "    break"
      ],
      "execution_count": null,
      "outputs": [
        {
          "output_type": "stream",
          "text": [
            "1397,12,29,22,30,12\n",
            "1398,1,1,1,15,15\n",
            " (1398, 1, 1, 1, 15, 15)"
          ],
          "name": "stdout"
        }
      ]
    },
    {
      "cell_type": "markdown",
      "metadata": {
        "id": "4jbWW_k-HMtq"
      },
      "source": [
        "##### _1.5.3_\n",
        "Using your answer to exercise #1.5.0, upgrade your answer to exercise #1.5.2 to detect init time and target time itself (Get two time inputs, use grater one as target and other one as init time). Also print output in format `yyyy-m_str-dd hh:mm:ss`."
      ]
    },
    {
      "cell_type": "code",
      "metadata": {
        "id": "KqHPFxUHFdOo",
        "colab": {
          "base_uri": "https://localhost:8080/",
          "height": 71
        },
        "outputId": "b31806b8-ede0-4cd7-f1ca-b7d98cf61269"
      },
      "source": [
        "days = [31,31,31,31,31,31,30,30,30,30,30,29]\n",
        "month_names = ['farvardin','ordibehesht','khordad','tir','mordad','shahrivar','mehr','aban','azar','dey','bahman','esfand']\n",
        "string = \"{:04d}-{}-{:02d} {:02d}:{:02d}:{:02d}\"\n",
        "time1 = [int(i) for i in input().split(',')]\n",
        "time2 = [int(i) for i in input().split(',')]\n",
        "first,last = (time2,time1) if time1 > time2 else (time1,time2)\n",
        "y,m,d,h,mn,s = first\n",
        "lasty,lastm,lastd,lasth,lastmn,lasts = last\n",
        "ms = 0\n",
        "while True :\n",
        "  ms    += 1\n",
        "  s , ms = (s + (ms // 1000)), (ms % 1000)\n",
        "  mn, s  = (mn +(s // 60)), (s % 60)\n",
        "  h , mn = (h + (mn // 60)), (mn % 60)\n",
        "  d , h  = (d + (h // 24)), (h % 24)\n",
        "  m , d  = (m + ((d - 1) // (days[m-1] + (y % 4 == 0)))), (((d - 1) % (days[m-1] + (y % 4 == 0))) + 1)\n",
        "  y , m  = (y + ((m - 1) // 12)), (((m - 1) % 12) + 1)\n",
        "  if ms==0 :\n",
        "    now = string.format(y,month_names[m-1],d,h,mn,s)\n",
        "    print('\\r', now, end='')\n",
        "  if (y,m,d,h,mn,s) == (lasty,lastm,lastd,lasth,lastmn,lasts) :\n",
        "    break"
      ],
      "execution_count": null,
      "outputs": [
        {
          "output_type": "stream",
          "text": [
            "1397,12,29,22,30,12\n",
            "1398,1,1,1,15,15\n",
            " 1398-farvardin-01 01:15:15"
          ],
          "name": "stdout"
        }
      ]
    },
    {
      "cell_type": "markdown",
      "metadata": {
        "id": "YfyZxUECzuig"
      },
      "source": [
        "#### _Exercise 1.6_\n",
        "Here is a list of tuple showing job assigning to personnels.\n",
        "\n",
        "`[('Manager', 'John'),('Accountant', 'Jack'),('Janitor', 'Benjamin'),('Secretary', 'Elena')]`\n",
        "\n",
        "Iterate on it and make a dictionary from jobs to personnels. Then get a job from standard input and print that job's personnel. You need to check existence of input job in dictionary (Use `in`). Print _\"Not Exists\"_ if it doesn't exists."
      ]
    },
    {
      "cell_type": "code",
      "metadata": {
        "id": "af5_B5mnxDKx",
        "colab": {
          "base_uri": "https://localhost:8080/",
          "height": 53
        },
        "outputId": "aed3992b-f76b-43e9-d6e1-f7ddbf2099a1"
      },
      "source": [
        "jobs = [('Manager', 'John'),('Accountant', 'Jack'),('Janitor', 'Benjamin'),('Secretary', 'Elena')]\n",
        "personnels = {job: personnel for job,personnel in jobs}\n",
        "job = input()\n",
        "if job in personnels :\n",
        "  print(personnels[job])\n",
        "else :\n",
        "  print(\"Not Exists\")"
      ],
      "execution_count": null,
      "outputs": [
        {
          "output_type": "stream",
          "text": [
            "Accountant\n",
            "Jack\n"
          ],
          "name": "stdout"
        }
      ]
    },
    {
      "cell_type": "markdown",
      "metadata": {
        "id": "puPRt16MDyJ2"
      },
      "source": [
        "#### _Exercise 1.7_\n",
        "* Define the same dictionary as you made in _exercise #1.6_.\n",
        "*   Get an input as command.\n",
        "*   Consider the following commands:\n",
        "\n",
        "> _insert_\n",
        "* Get a job and a personnel separated by white space and insert them to dictionary\n",
        "* You can do it by `=` or `dict.update()`.\n",
        "\n",
        "> _get personnel_\n",
        "* Get a job and print that job's personnel. \n",
        "* You can do it by using `dict.get()` and set default value to _\"Not Exists\"_.\n",
        "\n",
        "> _get job_\n",
        "* Get a personnel and print that personnel's job.\n",
        "* You need iterate trough dictionary to find personnel's job. If that personnel does not exists, print _\"Not Exists\"_.\n",
        "\n",
        "> _delete_\n",
        "* Get a job and delete that item.\n",
        "\n",
        "\n",
        "If the command is not in the above list, print _\"Command Not Found!\"_.\n"
      ]
    },
    {
      "cell_type": "code",
      "metadata": {
        "id": "HIZuBZH2DTzv",
        "colab": {
          "base_uri": "https://localhost:8080/",
          "height": 71
        },
        "outputId": "2dbd0ae7-771c-4d50-c891-2e6a230ecc06"
      },
      "source": [
        "jobs = [('Manager', 'John'),('Accountant', 'Jack'),('Janitor', 'Benjamin'),('Secretary', 'Elena')]\n",
        "personnels = {job: personnel for job,personnel in jobs}\n",
        "command = input()\n",
        "if command == \"insert\" :\n",
        "  j,p = input().split()\n",
        "  personnels[j] = p\n",
        "\n",
        "elif command == \"get personnel\" :\n",
        "  j = input()\n",
        "  print(personnels.get(j,\"Not Exists\"))\n",
        "\n",
        "elif command == \"get job\" :\n",
        "  name = input()\n",
        "  job = \"Not Exists\"\n",
        "  for j,p in personnels.items() :\n",
        "    if name == p :\n",
        "      job = j\n",
        "      break\n",
        "  print(job)\n",
        "\n",
        "elif command == \"delete\" :\n",
        "  job = input()\n",
        "  del personnels[job]\n",
        "\n",
        "else :\n",
        "  print(\"Command Not Found!\")"
      ],
      "execution_count": null,
      "outputs": [
        {
          "output_type": "stream",
          "text": [
            "get job\n",
            "John\n",
            "Manager\n"
          ],
          "name": "stdout"
        }
      ]
    },
    {
      "cell_type": "markdown",
      "metadata": {
        "id": "dUQi29s0Nr3Z"
      },
      "source": [
        "#### _Exercise 1.8_\n",
        "Put your answer of _exercise #1.7_ in an infinite loop and add command _\"exit\"_ to end the loop."
      ]
    },
    {
      "cell_type": "code",
      "metadata": {
        "id": "ERyxTCxkNaGt",
        "colab": {
          "base_uri": "https://localhost:8080/",
          "height": 215
        },
        "outputId": "80c053a9-2dc5-41b8-d9be-2252a6bcb1fb"
      },
      "source": [
        "jobs = [('Manager', 'John'),('Accountant', 'Jack'),('Janitor', 'Benjamin'),('Secretary', 'Elena')]\n",
        "personnels = {job: personnel for job,personnel in jobs}\n",
        "\n",
        "while True :\n",
        "  command = input()\n",
        "\n",
        "  if command == \"insert\" :\n",
        "    j,p = input().split()\n",
        "    personnels[j] = p\n",
        "\n",
        "  elif command == \"get personnel\" :\n",
        "    j = input()\n",
        "    print(personnels.get(j,\"Not Exists\"))\n",
        "\n",
        "  elif command == \"get job\" :\n",
        "    name = input()\n",
        "    job = \"Not Exists\"\n",
        "    for j,p in personnels.items() :\n",
        "      if name == p :\n",
        "        job = j\n",
        "        break\n",
        "    print(job)\n",
        "\n",
        "  elif command == \"delete\" :\n",
        "    job = input()\n",
        "    del personnels[job]\n",
        "\n",
        "  elif command == \"exit\" :\n",
        "    break\n",
        "\n",
        "  else :\n",
        "    print(\"Command Not Found!\")"
      ],
      "execution_count": null,
      "outputs": [
        {
          "output_type": "stream",
          "text": [
            "insert\n",
            "Special Sara\n",
            "get job\n",
            "Sara\n",
            "Special\n",
            "get personnel\n",
            "Accountant\n",
            "Jack\n",
            "ex\n",
            "Command Not Found!\n",
            "exit\n"
          ],
          "name": "stdout"
        }
      ]
    },
    {
      "cell_type": "markdown",
      "metadata": {
        "id": "Zbo7GrVq0JHR"
      },
      "source": [
        "#### _Exercise 1.9_\n",
        "Get dates input in format `yyyy-mm-dd` one per line, until \"Done\" command comes in input. Store input dates in a list using `list.append()` call. Assume inputs are always in correct format (Each of month and day terms has exactly two digits and year term has always four digits). Sort dates using `sorted()` call. Do you need type casts befor sorting? Why (Read about string comparison)? After sorting, print dates in order in folowing format :\n",
        "\n",
        "1. first date (yyyy-mm-dd)\n",
        "2. second date (yyyy-mm-dd)\n",
        "3. ...\n",
        "\n",
        "Use `enumerate()` call for indexing."
      ]
    },
    {
      "cell_type": "code",
      "metadata": {
        "id": "5Pr9bU5t2afp",
        "colab": {
          "base_uri": "https://localhost:8080/",
          "height": 179
        },
        "outputId": "7a46604f-e23c-4f0b-cdaa-4f606aeb402e"
      },
      "source": [
        "dates = list()\n",
        "while True :\n",
        "  date = input()\n",
        "  if date == 'Done' :\n",
        "    break\n",
        "  dates.append(date)\n",
        "dates = sorted(dates)\n",
        "for i,date in enumerate(dates) :\n",
        "  print('{}. {}'.format(i+1,date))"
      ],
      "execution_count": null,
      "outputs": [
        {
          "output_type": "stream",
          "text": [
            "1378-05-16\n",
            "1299-09-19\n",
            "1399-01-12\n",
            "1398-12-15\n",
            "Done\n",
            "1. 1299-09-19\n",
            "2. 1378-05-16\n",
            "3. 1398-12-15\n",
            "4. 1399-01-12\n"
          ],
          "name": "stdout"
        }
      ]
    },
    {
      "cell_type": "markdown",
      "metadata": {
        "id": "SdHEpcLfHQg-"
      },
      "source": [
        "### **Lecture 2 : Functions and Objects**"
      ]
    },
    {
      "cell_type": "markdown",
      "metadata": {
        "id": "m0qE2lxZHvoW"
      },
      "source": [
        "#### _Exercise 2.0_\n",
        "Implement `print_date()` function to get a date input in format `year,month,day` and print it in format `yyyy-mm-dd`."
      ]
    },
    {
      "cell_type": "code",
      "metadata": {
        "id": "AbUi7AX7HuUP",
        "colab": {
          "base_uri": "https://localhost:8080/",
          "height": 35
        },
        "outputId": "3daf5f93-1bd7-4fdf-b041-4a3191e51128"
      },
      "source": [
        "def print_date(date) :\n",
        "  y,m,d = date.split(',')\n",
        "  print('{}-{}-{}'.format(y,m,d))\n",
        "\n",
        "print_date('1378,5,16')"
      ],
      "execution_count": null,
      "outputs": [
        {
          "output_type": "stream",
          "text": [
            "1378-5-16\n"
          ],
          "name": "stdout"
        }
      ]
    },
    {
      "cell_type": "markdown",
      "metadata": {
        "id": "AUggAJeBIsGV"
      },
      "source": [
        "#### _Exercise 2.1_\n",
        "Implement `date_formating()` function to get a date in format `year-month-day` and a format as input and return date in same format. Assume that in input format, `year`, `month` and `day` always shown as `y`, `m` and `d`, characters of each property come side by side and number of characters in each one, determines number of digits of that property. Note that you can assume all the function arguments are well-formed. Follow following steps to do this exercise :\n",
        "1. Keep first `y`, first `m` and first `d` and remove remaining of this characters. Store this string as output format.\n",
        "2. Read year, month and day properties from input.\n",
        "3. Using output format of step 1, Replace `y` with year property, `m` with month property and `d` with day property.\n",
        "4. Return output of step 3.\n",
        "\n",
        "Example: Consider the format as `y/m -> d` and the input as `1399-12-03` so the output will be `1399/12 -> 03`.\n"
      ]
    },
    {
      "cell_type": "code",
      "metadata": {
        "id": "o2Cs9P7qLwIJ",
        "colab": {
          "base_uri": "https://localhost:8080/",
          "height": 35
        },
        "outputId": "d583cb96-cffe-4bef-fa3c-8ef8f7f19332"
      },
      "source": [
        "def date_formatting(date, format1) :\n",
        "  format2 = ''\n",
        "  for c in format1 :\n",
        "    if c != 'y' and c != 'm' and c != 'd' :\n",
        "      format2 += c\n",
        "    else :\n",
        "      if c not in format2 :\n",
        "        format2 += c\n",
        "  y,m,d = date.split('-')\n",
        "  output = format2.replace('y',y)\n",
        "  output = output.replace('m',m)\n",
        "  output = output.replace('d',d)\n",
        "  return output\n",
        "\n",
        "print(date_formatting('1399-12-03', 'y/m -> d'))"
      ],
      "execution_count": null,
      "outputs": [
        {
          "output_type": "stream",
          "text": [
            "1399/12 -> 03\n"
          ],
          "name": "stdout"
        }
      ]
    },
    {
      "cell_type": "markdown",
      "metadata": {
        "id": "9cBY2xJoh-pE"
      },
      "source": [
        "#### _Exercise 2.2_\n",
        "Implement `number_of_days()` to get year and month and return number of days in that month. Consider that each of the first 6 months contains 31 days and each of next 5 months contains 30 days. Last year contains 29 days. Be care about leap years, only if year be a leap year, 12th month contains 30 days. Note that First year in persian calendar was a leap year and it occurs every four years."
      ]
    },
    {
      "cell_type": "code",
      "metadata": {
        "id": "8CnanpqOi2LD"
      },
      "source": [
        "def number_of_days(y, m) :\n",
        "  days = [31,31,31,31,31,31,30,30,30,30,30,29]\n",
        "  return days[m-1] + ((y%4 == 0) * (m == 12))"
      ],
      "execution_count": null,
      "outputs": []
    },
    {
      "cell_type": "markdown",
      "metadata": {
        "id": "XL7Er_wSYHv5"
      },
      "source": [
        "#### _Exercise 2.3_\n",
        "Implement `check_date()` to validate a date input. This function must get 3 inputs year, month and day. Assume inputs are strings or integers. Exercise 1.3 can help you. Consider following steps :\n",
        "1. Check inputs can be casted to integers (cast them).\n",
        "2. Give a `max_year` input and set it to 1400 as default. Check input year be positive and less than or equal to `max_year`.\n",
        "3. Check month be in range [1:12].\n",
        "4. Check day be in range. Use `number_of_days()` from exercise 2.2."
      ]
    },
    {
      "cell_type": "code",
      "metadata": {
        "id": "AMGMxjA5Y69A",
        "colab": {
          "base_uri": "https://localhost:8080/",
          "height": 143
        },
        "outputId": "62a1fac0-ffa1-43d9-8305-2216d852e96f"
      },
      "source": [
        "def check_date(y, m, d, max_year=1400) :\n",
        "  y = str(y)\n",
        "  m = str(m)\n",
        "  d = str(d)\n",
        "  if not (y.isdigit() and m.isdigit() and d.isdigit()) :\n",
        "    return False\n",
        "  y = int(y)\n",
        "  m = int(m)\n",
        "  d = int(d)\n",
        "  return 0 < y <= max_year and 0 < m <= 12 and 0 < d <= number_of_days(y,m)\n",
        "\n",
        "print(check_date('1399',12,'2'))\n",
        "print(check_date('1499',12,'2'))\n",
        "print(check_date('1499',12,'2', max_year=1500))\n",
        "print(check_date('149!',12,'2', max_year=1500))\n",
        "print(check_date(1399,12,29))\n",
        "print(check_date(1399,12,30))\n",
        "print(check_date(1400,12,29))"
      ],
      "execution_count": null,
      "outputs": [
        {
          "output_type": "stream",
          "text": [
            "True\n",
            "False\n",
            "True\n",
            "False\n",
            "True\n",
            "False\n",
            "True\n"
          ],
          "name": "stdout"
        }
      ]
    },
    {
      "cell_type": "markdown",
      "metadata": {
        "id": "Xk115rBDdDj8"
      },
      "source": [
        "#### _Exercise 2.4_\n",
        "Implement `date_formatting_2()` to check input date using `check_date` from exercise #2.3 and then call `date_formatting()` from exercise #2.1. If each one of inputs was not correct, function must return an error message. Also check input date be in `year-month-day` format."
      ]
    },
    {
      "cell_type": "code",
      "metadata": {
        "id": "SPIclFRedxrm",
        "colab": {
          "base_uri": "https://localhost:8080/",
          "height": 71
        },
        "outputId": "95adcc63-8316-495c-dfc2-8528b48ce7f5"
      },
      "source": [
        "def date_formatting_2(date, format_) :\n",
        "  datelist = date.split('-')\n",
        "  if len(datelist) != 3 :\n",
        "    return \"Input date must be in format `year,month,day`\"\n",
        "  if not check_date(datelist[0],datelist[1],datelist[2]) :\n",
        "    return \"Input date is wrong!\"\n",
        "  return date_formatting(date, format_)\n",
        "\n",
        "for d,f in [('1378,7,16','yy/mm -> dd'),\n",
        "            ('1378-7-16','$yy/mm -> dd$'),\n",
        "            ('1399-12-30','this $$ date : $yy/mm -> dd$')\n",
        "            ] :\n",
        "  print(date_formatting_2(d, f))"
      ],
      "execution_count": null,
      "outputs": [
        {
          "output_type": "stream",
          "text": [
            "Input date must be in format `year,month,day`\n",
            "$1378/7 -> 16$\n",
            "Input date is wrong!\n"
          ],
          "name": "stdout"
        }
      ]
    },
    {
      "cell_type": "markdown",
      "metadata": {
        "id": "tqLuVsNxgrdD"
      },
      "source": [
        "#### _Exercise 2.5_\n",
        "Implement `next_day()` to get year, month and day input (integer and valid) and return year, month and day values of next day. Consider steps 2, 3, and 4 of exercise #2.3."
      ]
    },
    {
      "cell_type": "code",
      "metadata": {
        "id": "Ex9nJo7LhLzK",
        "colab": {
          "base_uri": "https://localhost:8080/",
          "height": 71
        },
        "outputId": "bb4f1c47-7268-41b1-a7b3-45f907b3b087"
      },
      "source": [
        "def next_day(y, m, d) :\n",
        "  d += 1\n",
        "  m , d  = (m + ((d - 1) // number_of_days(y,m))), ((d - 1) % number_of_days(y,m) + 1)\n",
        "  y , m  = (y + ((m - 1) // 12)), (((m - 1) % 12) + 1)\n",
        "  return y,m,d\n",
        "\n",
        "print(next_day(1376,12,3))\n",
        "print(next_day(1378,12,29))\n",
        "print(next_day(1396,12,29))"
      ],
      "execution_count": null,
      "outputs": [
        {
          "output_type": "stream",
          "text": [
            "(1376, 12, 4)\n",
            "(1379, 1, 1)\n",
            "(1396, 12, 30)\n"
          ],
          "name": "stdout"
        }
      ]
    },
    {
      "cell_type": "markdown",
      "metadata": {
        "id": "QbgtTXDxkMpa"
      },
      "source": [
        "#### _Exercise 2.6_\n",
        "Using `next_day()` from exercise 2.5, Implement `date_distance()` to get tow date inputs and return number of days between them. Assume dates are in format `year-month-day` and second date is always greater."
      ]
    },
    {
      "cell_type": "code",
      "metadata": {
        "id": "5cOsKEqdmTks",
        "colab": {
          "base_uri": "https://localhost:8080/",
          "height": 35
        },
        "outputId": "d483fcc2-92c0-4821-b8d9-4c16e4a8de2c"
      },
      "source": [
        "def date_distance(d1, d2) :\n",
        "  d1 = [int(d) for d in d1.split('-')]\n",
        "  d2 = [int(d) for d in d2.split('-')]\n",
        "  d = 0\n",
        "  while d1[0] != d2[0] or d1[1] != d2[1] or d1[2] != d2[2] :\n",
        "    d1 = next_day(d1[0],d1[1],d1[2])\n",
        "    d += 1\n",
        "  return d\n",
        "\n",
        "print(date_distance('1396-12-29', '1397-1-12'))"
      ],
      "execution_count": null,
      "outputs": [
        {
          "output_type": "stream",
          "text": [
            "13\n"
          ],
          "name": "stdout"
        }
      ]
    },
    {
      "cell_type": "markdown",
      "metadata": {
        "id": "Aq5CSi9volUN"
      },
      "source": [
        "#### _Exercise 2.7_\n",
        "Acording to what we did before, we are to implement `Date` class. For this, We need :\n",
        "\n",
        "* `__init__()` :\n",
        "  * Inputs :\n",
        "    * `self` : ;\n",
        "    * `delimiter[default='-']` : Delimiter in `date`.\n",
        "    * `max_year[default=1400]` : Latest valid year.\n",
        "  * Return value : `None`\n",
        "  * In this function, first store properties and methods of class. Store `delimiter` and `max_year` as class properties and methods. Also set a property named `str_format` to `\"yyyy-mm-dd\"`.\n",
        "\n",
        "* `splitter()` :\n",
        "  * Inputs :\n",
        "    * `self`: To use its `delimiter` property.\n",
        "    * `date`: A string.\n",
        "  * Return value : A list including `date` splited by `self.delimiter`.\n",
        "\n",
        "* `number_of_days()` :\n",
        "  * Inputs :\n",
        "    * `self` : ;\n",
        "    * `year`,`month` : Each one an integer.\n",
        "  * Return value : This function must return number of days in `month` of `year` (Exercise #2.2).\n",
        "\n",
        "* `check_date()` :\n",
        "  * Inputs :\n",
        "    * `self` : To use its `number_of_days()` function and `max_year` property.\n",
        "    * `year`,`month`,`day` : Each one an integer.\n",
        "  * Return value : This function must check if `year`, `month` and `day` are valid in same time (Exercise #2.3).\n",
        "\n",
        "* `set_date()` :\n",
        "  * Inputs :\n",
        "    * `self` : ;\n",
        "    * `date` : Input in format `year-month-day` (Or using other delimiters). \n",
        "  * Return value : A boolean value showing success.\n",
        "  * Split `date` using `splitter()`. Then check its ranges correctness using `check_date()` (If there was any incorrectness, print an error and return `False`). Then store its parts in three properties of class (`y`,`m`,`d`) and return `True`. Assume that input date is in right format.\n",
        "\n",
        "* `set_format()` :\n",
        "  * Inputs :\n",
        "    * `self` : ;\n",
        "    * `new_format` : A string in standard of Exercise #2.2.\n",
        "  * Return value : `None`\n",
        "  * set `str_format` property to `new_format`.\n",
        "\n",
        "* `next_day()` :\n",
        "  * Inputs :\n",
        "    * `self` : ;\n",
        "  * Return value : `None`\n",
        "  * Update it's `y`, `m` and `d` (Exercise #2.5).\n",
        "\n",
        "* ‍`to_string()` :\n",
        "  * Inputs :\n",
        "    * `self` : ;\n",
        "  * Retyrn value : A string showing `date` in `str_format` format (Exercise #2.1).\n",
        "\n"
      ]
    },
    {
      "cell_type": "code",
      "metadata": {
        "id": "PVNWcK05raCo",
        "colab": {
          "base_uri": "https://localhost:8080/",
          "height": 35
        },
        "outputId": "eb4f0fb1-55aa-463a-9150-999355357639"
      },
      "source": [
        "class Date :\n",
        "  def __init__(self, delimiter='-', max_year=1400) :\n",
        "    self.delimiter = delimiter\n",
        "    self.max_year = max_year\n",
        "    self.str_format = \"yyyy-mm-dd\"\n",
        "\n",
        "  def splitter(self, date) :\n",
        "    return date.split(self.delimiter)\n",
        "\n",
        "  def number_of_days(self, year, month) :\n",
        "    days = [31,31,31,31,31,31,30,30,30,30,30,29]\n",
        "    return days[month-1] + ((year%4 == 0) * (month == 12))\n",
        "\n",
        "  def check_date(self, year, month, day) :\n",
        "    return 0 < year <= self.max_year and 0 < month <= 12 and 0 < day <= self.number_of_days(year, month)\n",
        "\n",
        "  def set_date(self, date) :\n",
        "    date = self.splitter(date)\n",
        "    y, m, d = [int(i) for i in date]\n",
        "    if not self.check_date(y, m, d) :\n",
        "      print(\"Date out of range\")\n",
        "      return False\n",
        "    self.y = y\n",
        "    self.m = m\n",
        "    self.d = d\n",
        "    return True\n",
        "\n",
        "  def set_format(self, new_format) :\n",
        "    self.str_format = new_format\n",
        "\n",
        "  def to_string(self) :\n",
        "    format2 = ''\n",
        "    for c in self.str_format :\n",
        "      if c != 'y' and c != 'm' and c != 'd' :\n",
        "        format2 += c\n",
        "      else :\n",
        "        if c not in format2 :\n",
        "          format2 += c\n",
        "    y,m,d = [str(z) for z in [self.y, self.m, self.d]]\n",
        "    output = format2.replace('y',y)\n",
        "    output = output.replace('m',m)\n",
        "    output = output.replace('d',d)\n",
        "    return output\n",
        "\n",
        "  def next_day(self) :\n",
        "    y,m,d = self.y, self.m, self.d\n",
        "    d += 1\n",
        "    m , d  = (m + ((d - 1) // self.number_of_days(y,m))), ((d - 1) % self.number_of_days(y,m) + 1)\n",
        "    y , m  = (y + ((m - 1) // 12)), (((m - 1) % 12) + 1)\n",
        "    self.y, self.m, self.d = y,m,d\n",
        "\n",
        "\n",
        "##############################################################################################\n",
        "##                                           Test                                           ##\n",
        "##                                           ....                                           ##\n",
        "##############################################################################################\n",
        "my_date = Date()\n",
        "my_date.set_date('1396-2-12')\n",
        "my_date.set_format('YEAR yyyy MONTH m DAY dd')\n",
        "my_date.next_day()\n",
        "print(my_date.to_string())"
      ],
      "execution_count": null,
      "outputs": [
        {
          "output_type": "stream",
          "text": [
            "YEAR 1396 MONTH 2 DAY 13\n"
          ],
          "name": "stdout"
        }
      ]
    },
    {
      "cell_type": "markdown",
      "metadata": {
        "id": "4KOD8_YLeHzU"
      },
      "source": [
        "#### _Exercise 2.8_\n",
        "Acording to `Date` class we implemented in exercise 2.7, We are to implement an `Event` class wich contains a pair of events name and events date. So we need :\n",
        "\n",
        "* `__init__()` :\n",
        "  * Inputs :\n",
        "    * `self` : ;\n",
        "    * `name` : A string.\n",
        "    * `date` : A `Date` instance.\n",
        "  * Return value : `None`\n",
        "  * Just store name and date as properties.\n",
        "\n",
        "* `to_string()` :\n",
        "  * Inputs :\n",
        "    * `self` : ;\n",
        "  * Return value : A string showing event info. You need to use `Date.to_string()` call in this function.\n",
        "  * Output string should be like :\n",
        "  ```\n",
        "  <<<<<<<<<<<<<<<<<<<<<<<<<<<<<<<<<<<<<<<<<<<<<<<<<<<<<<<<<\n",
        "  >> \"event_date\" : \"event_name\"\n",
        "  <<<<<<<<<<<<<<<<<<<<<<<<<<<<<<<<<<<<<<<<<<<<<<<<<<<<<<<<<\n",
        "  ```"
      ]
    },
    {
      "cell_type": "code",
      "metadata": {
        "id": "kyE_asutgurU",
        "colab": {
          "base_uri": "https://localhost:8080/",
          "height": 107
        },
        "outputId": "1ee7a57c-d7ac-4939-9550-4f78e023b199"
      },
      "source": [
        "class Event :\n",
        "  def __init__(self, name, date) :\n",
        "    self.name = name\n",
        "    self.date = date\n",
        "  \n",
        "  def to_string(self) :\n",
        "    return \"\"\"\n",
        "      <<<<<<<<<<<<<<<<<<<<<<<<<<<<<<<<<<<<<<<<<<<<<<<<<<<<<<<<<\n",
        "      >> {} : {}\n",
        "      <<<<<<<<<<<<<<<<<<<<<<<<<<<<<<<<<<<<<<<<<<<<<<<<<<<<<<<<<\n",
        "    \"\"\".format(self.date.to_string(), self.name)\n",
        "\n",
        "\n",
        "my_event = Event(\"Wedding\", my_date)\n",
        "print(my_event.to_string())"
      ],
      "execution_count": null,
      "outputs": [
        {
          "output_type": "stream",
          "text": [
            "\n",
            "      <<<<<<<<<<<<<<<<<<<<<<<<<<<<<<<<<<<<<<<<<<<<<<<<<<<<<<<<<\n",
            "      >> YEAR 1396 MONTH 2 DAY 13 : Wedding\n",
            "      <<<<<<<<<<<<<<<<<<<<<<<<<<<<<<<<<<<<<<<<<<<<<<<<<<<<<<<<<\n",
            "    \n"
          ],
          "name": "stdout"
        }
      ]
    },
    {
      "cell_type": "markdown",
      "metadata": {
        "id": "9-Hs7mIWxoJ9"
      },
      "source": [
        "### **Lecture 3 : Conclusion**"
      ]
    },
    {
      "cell_type": "markdown",
      "metadata": {
        "id": "bvP7t6e8xsfn"
      },
      "source": [
        "#### _Exercise 3.0_"
      ]
    },
    {
      "cell_type": "markdown",
      "metadata": {
        "id": "kC3Eagobiiu-"
      },
      "source": [
        "##### _3.0.0_\n",
        "Create class `Date` right like what you did in _lecture #2_; But do not use default value for `max_year` attribute and define `number_of_days()` that its body it just a `pass` statement. Put your code in a file named `Date.py`."
      ]
    },
    {
      "cell_type": "code",
      "metadata": {
        "id": "ivGS0gIyiiYe"
      },
      "source": [
        "#########    In file Date.py    #########\n",
        "class Date :\n",
        "  def __init__(self, delimiter, max_year):\n",
        "    self.delimiter = delimiter\n",
        "    self.max_year = max_year\n",
        "    self.str_format = \"yyyy-mm-dd\"\n",
        "\n",
        "  def splitter(self, date) :\n",
        "    return date.split(self.delimiter)\n",
        "\n",
        "  def number_of_days(self, year, month) :\n",
        "    pass\n",
        "\n",
        "  def check_date(self, year, month, day) :\n",
        "    return 0 < year <= self.max_year and 0 < month <= 12 and 0 < day <= self.number_of_days(year, month)\n",
        "\n",
        "  def set_date(self, date) :\n",
        "    date = self.splitter(date)\n",
        "    y, m, d = [int(i) for i in date]\n",
        "    if not self.check_date(y, m, d) :\n",
        "      print(\"Date out of range\")\n",
        "      return False\n",
        "    self.y = y\n",
        "    self.m = m\n",
        "    self.d = d\n",
        "    return True\n",
        "\n",
        "  def set_format(self, new_format) :\n",
        "    self.str_format = new_format\n",
        "\n",
        "  def to_string(self) :\n",
        "    format2 = ''\n",
        "    for c in self.str_format :\n",
        "      if c != 'y' and c != 'm' and c != 'd' :\n",
        "        format2 += c\n",
        "      else :\n",
        "        if c not in format2 :\n",
        "          format2 += c\n",
        "    y,m,d = [str(z) for z in [self.y, self.m, self.d]]\n",
        "    output = format2.replace('y',y)\n",
        "    output = output.replace('m',m)\n",
        "    output = output.replace('d',d)\n",
        "    return output\n",
        "\n",
        "  def next_day(self) :\n",
        "    y,m,d = self.y, self.m, self.d\n",
        "    d += 1\n",
        "    m , d  = (m + ((d - 1) // self.number_of_days(y,m))), ((d - 1) % self.number_of_days(y,m) + 1)\n",
        "    y , m  = (y + ((m - 1) // 12)), (((m - 1) % 12) + 1)\n",
        "    self.y, self.m, self.d = y,m,d"
      ],
      "execution_count": null,
      "outputs": []
    },
    {
      "cell_type": "markdown",
      "metadata": {
        "id": "LyJ150D8nYbj"
      },
      "source": [
        "##### _3.0.1_\n",
        "Create a class named `PersianDate`,  which will inherit from the `Date` class to works in Persian calendar (You need import `Date` class from `Date.py`). Do followings :\n",
        "\n",
        "* Change `max_year` default value to 1400 in `__init__()` function (Use `super()` instead of rewrite functions body).\n",
        "\n",
        "* Overwrite `number_of_days()` function of this class to check `date` ranges with Gregorian calendar limits; You can see this limits as a function :\n",
        "```\n",
        "def Persian_number_of_days(year, month) :\n",
        "    days = [31,31,31,31,31,31,30,30,30,30,30,30]\n",
        "    return days[month-1] + ((year%4 == 0) * (month == 12))\n",
        "```\n",
        "\n",
        "* Add `\"(Persian)\"` at the end of `to_string` output. Use `Date.to_string` itself and just add `\"(Gregorian)\"` to its output (Use `super()`).\n",
        "\n",
        "* Put your code in a file named `PersianDate.py`."
      ]
    },
    {
      "cell_type": "code",
      "metadata": {
        "id": "AjR6wD77ihfx",
        "colab": {
          "base_uri": "https://localhost:8080/",
          "height": 53
        },
        "outputId": "e732ace7-172b-4fb7-9514-af9705ed74ba"
      },
      "source": [
        "#########    In file PersianDate.py    #########\n",
        "# from Date import Date\n",
        "class PersianDate(Date) :\n",
        "  def __init__(self, delimiter='-', max_year=1400) :\n",
        "    super().__init__(delimiter, max_year)\n",
        "\n",
        "  def to_string(self) :\n",
        "    return super().to_string() + \" (Persian)\"\n",
        "  \n",
        "  def number_of_days(self, year, month) :\n",
        "    days = [31,31,31,31,31,31,30,30,30,30,30,29]\n",
        "    return days[month-1] + ((year%4 == 0) * (month == 12))\n",
        "\n",
        "#########    Test    #########\n",
        "my_date = PersianDate()\n",
        "my_date.set_date('1998-8-31')\n",
        "my_date.set_date('1398-8-3')\n",
        "my_date.set_format('YEAR yyyy MONTH m DAY dd')\n",
        "my_date.next_day()##### _3.0.2_\n",
        "print(my_date.to_string())"
      ],
      "execution_count": null,
      "outputs": [
        {
          "output_type": "stream",
          "text": [
            "Date out of range\n",
            "YEAR 1398 MONTH 8 DAY 4 (Persian)\n"
          ],
          "name": "stdout"
        }
      ]
    },
    {
      "cell_type": "markdown",
      "metadata": {
        "id": "vRLQgmmVnjAX"
      },
      "source": [
        "##### _3.0.2_\n",
        "Create a class named `GregorianDate`, which will inherit from the `Date` class to works in Gregorian calendar(You need import `Date` class from `Date.py`). Do followings :\n",
        "\n",
        "* Change `max_year` default value to 2020 in `__init__()` function (Use `super()` instead of rewrite functions body).\n",
        "\n",
        "* Overwrite `number_of_days()` function of this class to check `date` ranges with Gregorian calendar limits; You can see this limits as a function :\n",
        "```\n",
        "def gregorian_number_of_days(year, month) :\n",
        "    days = [31,28,31,30,31,30,31,31,30,31,30,31]\n",
        "    return days[month-1] + ((year%4 == 1) * (month == 2))\n",
        "```\n",
        "\n",
        "* Add `\"(Gregorian)\"` at the end of `to_string` output. Use `Date.to_string` itself and just add `\"(Gregorian)\"` to its output (Use `super()`).\n",
        "\n",
        "* Put your code in a file named `GregorianDate.py`."
      ]
    },
    {
      "cell_type": "code",
      "metadata": {
        "id": "X_p1EalfzLaI",
        "colab": {
          "base_uri": "https://localhost:8080/",
          "height": 35
        },
        "outputId": "cc6ac725-c363-4ffe-ff47-d5359b073d65"
      },
      "source": [
        "#########    In file GregorianDate.py    #########\n",
        "from Date import Date\n",
        "class GregorianDate(Date) :\n",
        "  def __init__(self, delimiter='-', max_year=2020) :\n",
        "    super().__init__(delimiter, max_year)\n",
        "\n",
        "  def to_string(self) :\n",
        "    return super().to_string() + \" (Gregorian)\"\n",
        "  \n",
        "  def number_of_days(self, year, month) :\n",
        "    days = [31,28,31,30,31,30,31,31,30,31,30,31]\n",
        "    return days[month-1] + ((year%4 == 1) * (month == 2))\n",
        "\n",
        "\n",
        "#########    Test    #########\n",
        "my_date = GregorianDate()\n",
        "my_date.set_date('1998-8-31')\n",
        "my_date.set_format('YEAR yyyy MONTH m DAY dd')\n",
        "my_date.next_day()##### _3.0.2_\n",
        "print(my_date.to_string())"
      ],
      "execution_count": null,
      "outputs": [
        {
          "output_type": "stream",
          "text": [
            "YEAR 1998 MONTH 9 DAY 1 (Gregorian)\n"
          ],
          "name": "stdout"
        }
      ]
    },
    {
      "cell_type": "markdown",
      "metadata": {
        "id": "kntEmHoe1YAg"
      },
      "source": [
        "#### _Exercise 3.1_\n",
        "Import `time` and print output of `time.ctime()` function."
      ]
    },
    {
      "cell_type": "code",
      "metadata": {
        "id": "X-mfiBt91nIY",
        "colab": {
          "base_uri": "https://localhost:8080/",
          "height": 35
        },
        "outputId": "a5e38683-c824-4c98-c255-b8e606060264"
      },
      "source": [
        "import time\n",
        "\n",
        "print(time.ctime())"
      ],
      "execution_count": null,
      "outputs": [
        {
          "output_type": "stream",
          "text": [
            "Tue Apr 28 22:09:44 2020\n"
          ],
          "name": "stdout"
        }
      ]
    },
    {
      "cell_type": "markdown",
      "metadata": {
        "id": "cNuVja8dO-qa"
      },
      "source": [
        "#### _Exercise 3.2_\n",
        "Here is two parallel lists of meeting dates and roles have to go to meeting :\n",
        "\n",
        "`['1399-1-12','1399-1-13','1399-1-9','1399-1-26','1399-2-12','1399-1-29','1399-2-2','1399-2-29','1399-3-25','1399-5-12','1400-1-5']`\n",
        "\n",
        "`['Manager','Secretary','Manager','Secretary','Accountant','Manager','Secretary','Accountant','Manager','Secretary','Manager']`\n",
        "\n",
        "Using dictionary you mande in exercise #1.6, make a dictionary of personnels to empety lists and name it \"*meetings*\" (You need use `dict.values()` call). Then iterate on above lists (use `zip()` call to iterate over them synchronized) and perform meeting dates for each personnel in meetings dictionary. Then print John's meeting dates.\n",
        "\n",
        "* Dictionary of exercise #1.6 :\n",
        "```\n",
        "jobs = [('Manager', 'John'),('Accountant', 'Jack'),('Janitor', 'Benjamin'),('Secretary', 'Elena')]\n",
        "personnels = {job: personnel for job,personnel in jobs}\n",
        "```"
      ]
    },
    {
      "cell_type": "code",
      "metadata": {
        "id": "je7ZxlDAOCSv",
        "colab": {
          "base_uri": "https://localhost:8080/",
          "height": 35
        },
        "outputId": "5fb4d72b-a35a-4465-f210-a4aa80688e62"
      },
      "source": [
        "jobs = [('Manager', 'John'),('Accountant', 'Jack'),('Janitor', 'Benjamin'),('Secretary', 'Elena')]\n",
        "dates = ['1399-1-12','1399-1-13','1399-1-9','1399-1-26','1399-2-12','1399-1-29','1399-2-2','1399-2-29','1399-3-25','1399-5-12','1400-1-5']\n",
        "roles = ['Manager','Secretary','Manager','Secretary','Accountant','Manager','Secretary','Accountant','Manager','Secretary','Manager']\n",
        "\n",
        "personnels = {job: personnel for job,personnel in jobs}\n",
        "meetings = {personnel: list() for personnel in personnels.values()}\n",
        "for role,date in zip(roles,dates) :\n",
        "  meetings[personnels[role]].append(date)\n",
        "\n",
        "print(meetings['John'])"
      ],
      "execution_count": null,
      "outputs": [
        {
          "output_type": "stream",
          "text": [
            "['1399-1-12', '1399-1-9', '1399-1-29', '1399-3-25', '1400-1-5']\n"
          ],
          "name": "stdout"
        }
      ]
    },
    {
      "cell_type": "markdown",
      "metadata": {
        "id": "2Joz2jKleQ1B"
      },
      "source": [
        "\n",
        "\n",
        "#### _Exercise 3.3_\n",
        "Sort meetings dictionary you made in _exercise #3.2_ by \"number of meetings\". Then print it iterating on it. Use `len()`, `sorted()` and `dict.items()` calls and `key` attribute of sorted function (Pass a `lambda` funciotn to `key` wich takes a tuple of `(key,value)` from dictionary as input and returns what we want to sort by)."
      ]
    },
    {
      "cell_type": "code",
      "metadata": {
        "id": "OJ-ficGieYdt",
        "colab": {
          "base_uri": "https://localhost:8080/",
          "height": 89
        },
        "outputId": "a3ed4d87-d188-4fb9-ec4e-474cf7f860df"
      },
      "source": [
        "jobs = [('Manager', 'John'),('Accountant', 'Jack'),('Janitor', 'Benjamin'),('Secretary', 'Elena')]\n",
        "dates = ['1399-1-12','1399-1-13','1399-1-9','1399-1-26','1399-2-12','1399-1-29','1399-2-2','1399-2-29','1399-3-25','1399-5-12','1400-1-5']\n",
        "roles = ['Manager','Secretary','Manager','Secretary','Accountant','Manager','Secretary','Accountant','Manager','Secretary','Manager']\n",
        "\n",
        "personnels = {job: personnel for job,personnel in jobs}\n",
        "meetings = {personnel: list() for personnel in personnels.values()}\n",
        "for role,date in zip(roles,dates) :\n",
        "  meetings[personnels[role]].append(date)\n",
        "\n",
        "sorted_meetings = sorted(meetings.items(), key=lambda x: len(x[1]))\n",
        "for p,m in sorted_meetings :\n",
        "  print(p,':',m)"
      ],
      "execution_count": null,
      "outputs": [
        {
          "output_type": "stream",
          "text": [
            "Benjamin : []\n",
            "Jack : ['1399-2-12', '1399-2-29']\n",
            "Elena : ['1399-1-13', '1399-1-26', '1399-2-2', '1399-5-12']\n",
            "John : ['1399-1-12', '1399-1-9', '1399-1-29', '1399-3-25', '1400-1-5']\n"
          ],
          "name": "stdout"
        }
      ]
    },
    {
      "cell_type": "markdown",
      "metadata": {
        "id": "Cf9taU2syMCo"
      },
      "source": [
        ""
      ]
    },
    {
      "cell_type": "markdown",
      "metadata": {
        "id": "FNEcVDZycw54"
      },
      "source": [
        "### **Lecture 4 : Functional Programing and Review**"
      ]
    },
    {
      "cell_type": "markdown",
      "metadata": {
        "id": "cciTDUTFdrrY"
      },
      "source": [
        "#### _Exercise 4.0_\n",
        "We are to implement `next_day()` function (exercise #2.6) using lambda functions :"
      ]
    },
    {
      "cell_type": "markdown",
      "metadata": {
        "id": "3GtBcD8JgtlT"
      },
      "source": [
        "##### _4.0.0_\n",
        "Write a lambda function named `inc_day()` to get 3 arguments `now`, `inc` and `max_possible`. `now` is an integer showing current day. `inc` is a boolean, if it's `False`, function do nothing. `max_possible` is number of days in current month. This function must returns a tupple `(day, inc_month)` that `day` is an integer showing increamented day and `inc_month` is a boolean showing that we are in next month or not."
      ]
    },
    {
      "cell_type": "code",
      "metadata": {
        "id": "iCG9mBZsh25k",
        "colab": {
          "base_uri": "https://localhost:8080/",
          "height": 89
        },
        "outputId": "c29f9ae6-fca8-4263-fb0a-de6269053bae"
      },
      "source": [
        "inc_day = lambda now, inc, max_possible : ((now+inc-1)%(max_possible)+1, not (now+inc)%(max_possible+1))\n",
        "\n",
        "print(inc_day(12, True, 30))\n",
        "print(inc_day(29, True, 30))\n",
        "print(inc_day(29, False, 30))\n",
        "print(inc_day(30, True, 30))"
      ],
      "execution_count": null,
      "outputs": [
        {
          "output_type": "stream",
          "text": [
            "(13, False)\n",
            "(30, False)\n",
            "(29, False)\n",
            "(1, True)\n"
          ],
          "name": "stdout"
        }
      ]
    },
    {
      "cell_type": "markdown",
      "metadata": {
        "id": "jyn8OhxCjcWr"
      },
      "source": [
        "##### _4.0.1_\n",
        "Write a lambda function named `inc_month()` to get 2 arguments `now`, `inc`. `now` is an integer showing current month. `inc` is output of `inc_day()` that you must use second property of that; If it's `False`, function do nothing. This function must returns a tupple `(day, month, inc_year)` that `day` is first property of `inc`, `month` is an integer showing increamented month and `inc_year` is a boolean showing that we are in next year or not."
      ]
    },
    {
      "cell_type": "code",
      "metadata": {
        "id": "cuBA8ng-kjwf",
        "colab": {
          "base_uri": "https://localhost:8080/",
          "height": 89
        },
        "outputId": "0c9fbddc-5494-4d9f-bcd1-2ae260bdb3ff"
      },
      "source": [
        "inc_month = lambda now, inc : (inc[0], (now+inc[1]-1)%(12)+1, not (now+inc[1])%(12+1))\n",
        "\n",
        "print(inc_month(9, inc_day(12, True, 30)))\n",
        "print(inc_month(12, inc_day(29, True, 29)))\n",
        "print(inc_month(9, inc_day(29, False, 30)))\n",
        "print(inc_month(9, inc_day(30, True, 30)))"
      ],
      "execution_count": null,
      "outputs": [
        {
          "output_type": "stream",
          "text": [
            "(13, 9, False)\n",
            "(1, 1, True)\n",
            "(29, 9, False)\n",
            "(1, 10, False)\n"
          ],
          "name": "stdout"
        }
      ]
    },
    {
      "cell_type": "markdown",
      "metadata": {
        "id": "vanvTdKglJID"
      },
      "source": [
        "##### _4.0.2_\n",
        "Write a lambda function named `inc_year()` to get 2 arguments `now`, `inc`. `now` is an integer showing current year. `inc` is output of `inc_month()` that you must use third property of that; If it's `False`, function do nothing. This function must returns a tupple `(day, month, year)` that `day` and `month` are first and second properties of `inc` and `year` is an integer showing increamented month."
      ]
    },
    {
      "cell_type": "code",
      "metadata": {
        "id": "RUA6wZ35lnmq",
        "colab": {
          "base_uri": "https://localhost:8080/",
          "height": 53
        },
        "outputId": "249cacab-1592-445c-c975-32a65244f7ee"
      },
      "source": [
        "inc_year = lambda now, inc : (inc[0], inc[1], now+inc[2])\n",
        "\n",
        "print(inc_year(12, inc_month(12, inc_day(29, True, 29))))\n",
        "print(inc_year(12, inc_month(9, inc_day(30, True, 30))))"
      ],
      "execution_count": null,
      "outputs": [
        {
          "output_type": "stream",
          "text": [
            "(1, 1, 13)\n",
            "(1, 10, 12)\n"
          ],
          "name": "stdout"
        }
      ]
    },
    {
      "cell_type": "markdown",
      "metadata": {
        "id": "n3w_zaA8l4j5"
      },
      "source": [
        "##### _4.0.3_\n",
        "Write a lambda function named `next_day()` to get 1 argument, a tupple as `(year, month, day)`. Using a list containing possible number of days in months and `inc_day`, `inc_month`, `inc_year` inside each other, implement `next_day()`."
      ]
    },
    {
      "cell_type": "code",
      "metadata": {
        "id": "UtDgEbFXmW44",
        "colab": {
          "base_uri": "https://localhost:8080/",
          "height": 35
        },
        "outputId": "d7238729-64ee-408a-9066-78f87bb883d3"
      },
      "source": [
        "possible_number_of_days = [31,31,31,31,31,31,30,30,30,30,30,29]\n",
        "next_day = lambda ymd : inc_year(ymd[0], inc_month(ymd[1], inc_day(ymd[2], True, possible_number_of_days[ymd[1]-1])))\n",
        "\n",
        "print(next_day((12,12,29)))"
      ],
      "execution_count": null,
      "outputs": [
        {
          "output_type": "stream",
          "text": [
            "(1, 1, 13)\n"
          ],
          "name": "stdout"
        }
      ]
    },
    {
      "cell_type": "markdown",
      "metadata": {
        "id": "9zBN0he2nNUo"
      },
      "source": [
        "#### _Exercise 4.1_\n",
        "Assume folowing list of dates as out data :\n",
        "\n",
        "```data = [(12,12,29), (14,9,11), (13,3,31), (12,12,11)]```\n",
        "\n",
        "Run `next_day()` function (you implement in exercise #4.0) over all items in data using `map()` function and store them in `data` again. you need cast output of `map` to list."
      ]
    },
    {
      "cell_type": "code",
      "metadata": {
        "id": "zKN_EWW9o3Mr",
        "colab": {
          "base_uri": "https://localhost:8080/",
          "height": 35
        },
        "outputId": "6d2a2c6d-3e55-411f-d2d8-9e8a3a14afbc"
      },
      "source": [
        "data = [(12,12,29), (14,9,11), (13,3,31), (12,12,11)]\n",
        "data = list(map(next_day, data))\n",
        "print(data)"
      ],
      "execution_count": null,
      "outputs": [
        {
          "output_type": "stream",
          "text": [
            "[(1, 1, 13), (12, 9, 14), (1, 4, 13), (12, 12, 12)]\n"
          ],
          "name": "stdout"
        }
      ]
    },
    {
      "cell_type": "markdown",
      "metadata": {
        "id": "7hIkTVBWQp5M"
      },
      "source": [
        "#### _Exercise 4.2_\n",
        "<It's not same as exercise #2.1.>\n",
        "\n",
        "Implement `date_formating()` function to get a date in format `year-month-day` and a format as input and return date in same format. Set default format to `yyyy-mm-dd`. Assume that in input format, `year`, `month` and `day` always shown as `y`, `m` and `d`, characters of each property come side by side and number of characters in each one, determines number of digits of that property. If number of digits was less that input lenght, you must pick less significant digits. Follow following steps to do this exercise :\n",
        "1. Count `y`, `m` and `d`s in input format and store them.\n",
        "2. Keep first `y`, first `m` and first `d` and remove remaining of this characters. Store this string as output format.\n",
        "3. Read year, month and day properties from input.\n",
        "4. Edit number of digits of step 4 properties according to step 1 counts.\n",
        "5. Using output format of step 2, Replace `y` with year property, `m` with month property and `d` with day property.\n",
        "6. Return output of step 4."
      ]
    },
    {
      "cell_type": "code",
      "metadata": {
        "id": "Epj3jH4aQ8tJ",
        "colab": {
          "base_uri": "https://localhost:8080/",
          "height": 35
        },
        "outputId": "dca1f1f1-e29b-4b45-a5ce-9260376ca7ad"
      },
      "source": [
        "def date_formatting(date, format1) :\n",
        "  y_no = format1.count('y')\n",
        "  m_no = format1.count('m')\n",
        "  d_no = format1.count('d')\n",
        "  format2 = ''\n",
        "  for c in format1 :\n",
        "    if c != 'y' and c != 'm' and c != 'd' :\n",
        "      format2 += c\n",
        "    else :\n",
        "      if c not in format2 :\n",
        "        format2 += c\n",
        "  y,m,d = date.split('-')\n",
        "  y = y[-y_no:] if y_no < len(y) else '0'*(y_no - len(y)) + y\n",
        "  m = m[-m_no:] if m_no < len(m) else '0'*(m_no - len(m)) + m\n",
        "  d = d[-d_no:] if d_no < len(d) else '0'*(d_no - len(d)) + d\n",
        "  output = format2.replace('y',y)\n",
        "  output = output.replace('m',m)\n",
        "  output = output.replace('d',d)\n",
        "  return output\n",
        "\n",
        "print(date_formatting('1399-12-3', 'yy/mm -> dd'))"
      ],
      "execution_count": null,
      "outputs": [
        {
          "output_type": "stream",
          "text": [
            "99/12 -> 03\n"
          ],
          "name": "stdout"
        }
      ]
    },
    {
      "cell_type": "markdown",
      "metadata": {
        "id": "Xc_SGeb4PRTE"
      },
      "source": [
        "#### _Exercise 4.3_\n",
        "In excercise #M.2, What if input format be `year: yyyy`? Then `y` character in word `year` should not be affected. Upgrade `date_formating()` to understand special character `$`. `y`, `m` and `d` are simbols, just if appear between two special character `$` and this character should not appear in output itself. What if we need `$` itself in format? Your function must understand `$$` as `$` character itself, not a special character. Assume that `$` will be used correctly. Also assume that at most, One set of each property (year, month and day) in each date area (date area means characters between two `$` simbols). Note that each property cat be repeated in several date areas in different number of digits. Name this function `date_formatting2()` and use `date_formatting()` in it."
      ]
    },
    {
      "cell_type": "code",
      "metadata": {
        "id": "cVrG7kLCQqrJ",
        "colab": {
          "base_uri": "https://localhost:8080/",
          "height": 233
        },
        "outputId": "b3814898-772c-4369-ed8c-85b5ccd67239"
      },
      "source": [
        "def date_formatting2(date, format1) :\n",
        "  parts_of_format = format1.split('$')\n",
        "  for i,part in enumerate(parts_of_format) :\n",
        "    if 0 < i < len(parts_of_format)-1 and part == '' :\n",
        "      parts_of_format[i] = '$'\n",
        "    elif i % 2 == 1 :\n",
        "      parts_of_format[i] = date_formatting(date, part)      \n",
        "  return ''.join(parts_of_format)\n",
        "\n",
        "for f in ['yy/mm -> dd',\n",
        "          '$yy/mm -> dd$',\n",
        "          'date : $yy/mm -> dd$',\n",
        "          'this $$ date : $yy/mm -> dd$'\n",
        "          ] :\n",
        "  print(date_formatting('1399-12-3', f))\n",
        "  print(date_formatting2('1399-12-3', f))\n",
        "  print()"
      ],
      "execution_count": null,
      "outputs": [
        {
          "output_type": "stream",
          "text": [
            "99/12 -> 03\n",
            "yy/mm -> dd\n",
            "\n",
            "$99/12 -> 03$\n",
            "99/12 -> 03\n",
            "\n",
            "003ate : $99/12 -> $\n",
            "date : 99/12 -> 03\n",
            "\n",
            "this $$ 003ate : $99/12 -> $\n",
            "this $ date : 99/12 -> 03\n",
            "\n"
          ],
          "name": "stdout"
        }
      ]
    },
    {
      "cell_type": "markdown",
      "metadata": {
        "id": "HW3jShz-Ovx7"
      },
      "source": [
        "#### _Exercise 4.4_\n",
        "Implement `check_format()` to check correctnes of input format in exercise #M.3. This function returns a boolean values shoing correctness of format Input format must :\n",
        "* Have event number of `$` characters.\n",
        "* Less than 5 `y` simbol characters in each date area.\n",
        "* Less than 3 `m` simbol characters in each date area.\n",
        "* Less than 3 `d` simbol characters in each date area.\n",
        "* At most, One set of each property in each date area. Note that each property can be repeated in several date areas in different number of digits.\n",
        "* In each date area, `y` simbol characters must apear side by side. also `m` and `d` simbols."
      ]
    },
    {
      "cell_type": "code",
      "metadata": {
        "id": "3y2fAiUiayOk",
        "colab": {
          "base_uri": "https://localhost:8080/",
          "height": 161
        },
        "outputId": "09603acc-5b01-448e-ec6f-cab39b9b8f68"
      },
      "source": [
        "def check_format(format_) :\n",
        "  if format_.count('$') % 2 == 1 :\n",
        "    return False\n",
        "  for part in format_.split('$') :\n",
        "    if part.count('y') > 4 or part.count('m') > 2 or part.count('d') > 2 :\n",
        "      return False\n",
        "    newpart = ''\n",
        "    for i,c in enumerate(part) :\n",
        "      if i > 0 and c == part[i-1] :\n",
        "        newpart += ''\n",
        "      else :\n",
        "        newpart += c\n",
        "    if newpart.count('y') > 1 or newpart.count('m') > 1 or newpart.count('d') > 1 :\n",
        "      return False\n",
        "  return True\n",
        "\n",
        "for f in ['yy/mm -> dd',\n",
        "          'yy/mm -> yy/dd',\n",
        "          '$yy/mm -> ddd$',\n",
        "          'date : $yy/mm -> dd$',\n",
        "          'this $$ date : $yy/mm -> dd$',\n",
        "          'this $ date : $yy/mm -> dd$',\n",
        "          'this $yyy/m$ date : $yy/mm -> dd$',\n",
        "          'this $$ date : $$',\n",
        "          ] :\n",
        "  print(check_format(f))"
      ],
      "execution_count": null,
      "outputs": [
        {
          "output_type": "stream",
          "text": [
            "True\n",
            "False\n",
            "False\n",
            "True\n",
            "True\n",
            "False\n",
            "True\n",
            "True\n"
          ],
          "name": "stdout"
        }
      ]
    },
    {
      "cell_type": "markdown",
      "metadata": {
        "id": "HcIcqxOEkCBg"
      },
      "source": [
        "#### _Exercise 4.5_\n",
        "Implement `previous_day()` just like `next_day()` in exercise #2.5."
      ]
    },
    {
      "cell_type": "code",
      "metadata": {
        "id": "wp5hjQOUkNkH",
        "colab": {
          "base_uri": "https://localhost:8080/",
          "height": 71
        },
        "outputId": "985b3bba-1a7f-4947-cf43-8707a1a0ee36"
      },
      "source": [
        "def previous_day(y, m, d) :\n",
        "  d -= 1\n",
        "  if d > 0 :\n",
        "    return y, m,d\n",
        "  m -= 1\n",
        "  if m > 0 :\n",
        "    return y, m, number_of_days(y, m)\n",
        "  y -= 1\n",
        "  return y, 12, number_of_days(y,12)\n",
        "\n",
        "print(previous_day(1376, 12, 1))\n",
        "print(previous_day(1397, 1, 1))\n",
        "print(previous_day(1398, 1, 1))"
      ],
      "execution_count": null,
      "outputs": [
        {
          "output_type": "stream",
          "text": [
            "(1376, 11, 30)\n",
            "(1396, 12, 30)\n",
            "(1397, 12, 29)\n"
          ],
          "name": "stdout"
        }
      ]
    },
    {
      "cell_type": "markdown",
      "metadata": {
        "id": "gKlMkXPLbk8Z"
      },
      "source": [
        "### **More Exercises :**"
      ]
    },
    {
      "cell_type": "markdown",
      "metadata": {
        "id": "UYglwYSouH8o"
      },
      "source": [
        "#### _Exercise M.0_\n",
        "Acording to what we did before, we are to implement `Special_Date` class. For this, We need :\n",
        "\n",
        "* `__init__()` :\n",
        "  * Inputs :\n",
        "    * `self` : ;\n",
        "    * `delimiter[default='-']` : Delimiter in `date`.\n",
        "    * `max_year[default=1400]` : Latest valid year.\n",
        "  * Return value : `None`\n",
        "  * Set inputs as class properties. Also set a property named `str_format` to `\"$yyyy-mm-dd$\"`.\n",
        "\n",
        "* `splitter()` :\n",
        "  * Inputs :\n",
        "    * `self`: To use its `delimiter` property.\n",
        "    * `date`: A string.\n",
        "  * Return value : A list including `date` splited by `self.delimiter`.\n",
        "\n",
        "* `check_date_format()` :\n",
        "  * Inputs :\n",
        "    * `self`: ;\n",
        "    * `date`: A list if strings (As date properties).\n",
        "  * Return value : This function must check that is `date` in format `year-month-day`. So needs to check number of properties be 3 and each one is castable to integer.\n",
        "\n",
        "* `number_of_days()` :\n",
        "  * Inputs :\n",
        "    * `self`: ;\n",
        "    * `year`,`month` : Each one an integer.\n",
        "  * Return value : This function must return number of days in `month` of `year` (Exercise #2.4).\n",
        "\n",
        "* `check_date()` :\n",
        "  * Inputs :\n",
        "    * `self` : To use its `number_of_days_id()` function and `max_year` property.\n",
        "    * `year`,`month`,`day` : Each one an integer.\n",
        "  * Return value : This function must check if `year`, `month` and `day` are valid in same time (Exercise #2.5).\n",
        "\n",
        "* `set_date()` :\n",
        "  * Inputs :\n",
        "    * `self` : ;\n",
        "    * `date` : Input in format `year-month-day` (Or using other delimiters).\n",
        "  * Return value : A boolean value showing success.\n",
        "  * Check date format using `check_date_format()` and its ranges correctness using `check_date()` (If there was any incorrectness, print an error and return `False`).\n",
        "\n",
        "* `check_format()` :\n",
        "  * Inputs :\n",
        "    * `self` : ;\n",
        "    * `new_format` : A string in standard of Exercise #4.4.\n",
        "  * Return value : A boolean value showing that `new_format` is valid or not (Exercise #2.3).\n",
        "\n",
        "* `set_format()` :\n",
        "  * Inputs :\n",
        "    * `self` : ;\n",
        "    * `new_format` : A string in standard of Exercise #4.4.\n",
        "  * Return value : `None`\n",
        "  * After check validation of `new_format` using `check_format()`, set `str_format` property to `new_format`.\n",
        "\n",
        "* `__str__()` :\n",
        "  * Inputs :\n",
        "    * `self` : ;\n",
        "  * Return value : A string in format `str_format` showing date (Exercise #2.2). define hellper methods and use them like Exercise #2.2.\n",
        "  * `__str__()` calls everywhen instance of class is casting to `str` (for example in `print()` method).\n",
        "\n",
        "* `__getitem__()` :\n",
        "  * Inputs :\n",
        "    * `self` : ;\n",
        "    * `index` : A string or integer.\n",
        "  * Return value :\n",
        "    * If `index` was \"_year_\" (case insensitive) or \"_y_\" or \"_Y_\" or \"_0_\" or _0_, `y`.\n",
        "    * If `index` was \"_month_\" (case insensitive) or \"_m_\" or \"_M_\" or \"_1_\" or _1_, `m`.\n",
        "    * If `index` was \"_day_\" (case insensitive) or \"_d_\" or \"_D_\" or \"_2_\" or _2_, `d`.\n",
        "    * Otherwise `None`.\n",
        "  * `__getitem__()` calls when we use instance of class with an index (for example instance[\"Year\"]).\n",
        "\n",
        "* `copy()` :\n",
        "  * Inputs :\n",
        "    * `self` : ;\n",
        "  * Return value : Another instance of same class with exactly same properties. You need to make an instalce of `Date` class and pass `self` properties to it. Don't forget `str_format` property.\n",
        "\n",
        "* `next()` :\n",
        "  * Inputs :\n",
        "    * `self` : ;\n",
        "  * Return value : Another instance of same class with exactly same properties but in next day. You need to get a copy of class and then update it's `y`, `m` and `d` (Exercise #2.5).\n",
        "\n",
        "* `previous_day()` :\n",
        "  * Inputs :\n",
        "    * `self` : ;\n",
        "  * Return value : Another instance of same class with exactly same properties but in previous day. You need to get a copy of class and then update it's `y`, `m` and `d` (Exercise #4.5).\n",
        "\n",
        "* Comparing :\n",
        "  * `__eq__(self, other)`\n",
        "  * `__ne__(self, other)`\n",
        "  * `__lt__(self, other)`\n",
        "  * `__le__(self, other)`\n",
        "  * `__gt__(self, other)`\n",
        "  * `__ge__(self, other)`\n",
        "    * Each of these methods are to comparing two instances of class. These methods are in order : _equal_, _not_ _equal_, _less_ _than_, _less_ _equal_, _greater_ _than_, _greater_ _equal_. Using `y`, `m` and `d` properties, implement these methods. We need them to compairing `Date`s and sorting them."
      ]
    },
    {
      "cell_type": "code",
      "metadata": {
        "id": "9mCDMBmDua9_",
        "colab": {
          "base_uri": "https://localhost:8080/",
          "height": 395
        },
        "outputId": "870cc1b4-e46e-45bc-d3cb-75cac265036e"
      },
      "source": [
        "class Special_Date :\n",
        "\n",
        "  def __init__(self, delimiter='-', max_year=1400) :\n",
        "    self.delimiter = delimiter\n",
        "    self.max_year = max_year\n",
        "    self.str_format = \"$yyyy-mm-dd$\"\n",
        "\n",
        "  def splitter(self, date) :\n",
        "    return date.split(self.delimiter)\n",
        "\n",
        "  def check_date_format(self, date) :\n",
        "    if len(date) != 3 :\n",
        "      return False\n",
        "    for d in date :\n",
        "      if not d.isdigit() :\n",
        "        return False\n",
        "    return True\n",
        "\n",
        "  def number_of_days_in(self, year, month) :\n",
        "    days = [31,31,31,31,31,31,30,30,30,30,30,29]\n",
        "    return days[month-1] + ((year%4 == 0) * (month == 12))\n",
        "\n",
        "  def check_date(self, year, month, day) :\n",
        "    return 0 < year <= self.max_year and 0 < month <= 12 and 0 < day <= self.number_of_days_in(year, month)\n",
        "\n",
        "  def set_date(self, date) :\n",
        "    date = self.splitter(date)\n",
        "    if not self.check_date_format(date) :\n",
        "      print(\"Date format is wrong\")\n",
        "      return\n",
        "    y, m, d = [int(i) for i in date]\n",
        "    if not self.check_date(y, m, d) :\n",
        "      print(\"Date out of range\")\n",
        "      return\n",
        "    self.y = y\n",
        "    self.m = m\n",
        "    self.d = d\n",
        "\n",
        "  def check_format(self, new_format) :\n",
        "    if new_format.count('$') % 2 == 1 :\n",
        "      return False\n",
        "    for part in new_format.split('$') :\n",
        "      if part.count('y') > 4 or part.count('m') > 2 or part.count('d') > 2 :\n",
        "        return False\n",
        "      newpart = ''\n",
        "      for i,c in enumerate(part) :\n",
        "        if i > 0 and c == part[i-1] :\n",
        "          newpart += ''\n",
        "        else :\n",
        "          newpart += c\n",
        "      if newpart.count('y') > 1 or newpart.count('m') > 1 or newpart.count('d') > 1 :\n",
        "        return False\n",
        "    return True\n",
        "\n",
        "  def set_format(self, new_format) :\n",
        "    if not self.check_format(new_format) :\n",
        "      return False\n",
        "    self.str_format = new_format\n",
        "\n",
        "  def date_formatting_apart(self, this_format) :\n",
        "    y_no = this_format.count('y')\n",
        "    m_no = this_format.count('m')\n",
        "    d_no = this_format.count('d')\n",
        "    output = ''\n",
        "    for c in this_format :\n",
        "      if c != 'y' and c != 'm' and c != 'd' :\n",
        "        output += c\n",
        "      elif c not in output :\n",
        "          output += c\n",
        "    y, m, d = str(self.y), str(self.m), str(self.d)\n",
        "    y = y[-y_no:] if y_no < len(y) else '0'*(y_no - len(y)) + y\n",
        "    m = m[-m_no:] if m_no < len(m) else '0'*(m_no - len(m)) + m\n",
        "    d = d[-d_no:] if d_no < len(d) else '0'*(d_no - len(d)) + d\n",
        "    output = output.replace('y',y)\n",
        "    output = output.replace('m',m)\n",
        "    output = output.replace('d',d)\n",
        "    return output\n",
        "\n",
        "  def date_formatting(self) :\n",
        "    parts_of_format = self.str_format.split('$')\n",
        "    for i,part in enumerate(parts_of_format) :\n",
        "      if 0 < i < len(parts_of_format)-1 and part == '' :\n",
        "        parts_of_format[i] = '$'\n",
        "      elif i % 2 == 1 :\n",
        "        parts_of_format[i] = self.date_formatting_apart(part)  \n",
        "    return ''.join(parts_of_format)\n",
        "\n",
        "  def __str__(self) :\n",
        "    return self.date_formatting()\n",
        "\n",
        "  def __getitem__(self, index) :\n",
        "    return {\n",
        "        \"year\" : self.y,\n",
        "        \"y\" : self.y,\n",
        "        \"0\" : self.y,\n",
        "        \"month\" : self.m,\n",
        "        \"m\" : self.m,\n",
        "        \"1\" : self.m,\n",
        "        \"day\" : self.d,\n",
        "        \"d\" : self.d,\n",
        "        \"2\" : self.d,\n",
        "    }.get(str(index).lower(), None)\n",
        "\n",
        "  def copy(self) :\n",
        "    new = Date(delimiter=self.delimiter, max_year=self.max_year)\n",
        "    new.set_date(str(self.y)+self.delimiter+str(self.m)+self.delimiter+str(self.d))\n",
        "    new.set_format(self.str_format)\n",
        "    return new\n",
        "\n",
        "  def next(self) :\n",
        "    new = self.copy()\n",
        "    new.d += 1\n",
        "    new.m , new.d  = (new.m + ((new.d - 1) // self.number_of_days_in(new.y, new.m))), ((new.d - 1) % self.number_of_days_in(new.y, new.m) + 1)\n",
        "    new.y , new.m  = (new.y + ((new.m - 1) // 12)), (((new.m - 1) % 12) + 1)\n",
        "    return new\n",
        "\n",
        "  def previous(self) :\n",
        "    new = self.copy()\n",
        "    new.d -= 1\n",
        "    if new.d > 0 :\n",
        "      return new\n",
        "    new.m -= 1\n",
        "    if new.m > 0 :\n",
        "      new.d = new.number_of_days_in(new.y, new.m)\n",
        "      return new\n",
        "    y -= 1\n",
        "    new.m = 12\n",
        "    new.d = new.number_of_days_in(new.y, new.m)\n",
        "    return new\n",
        "\n",
        "  def __eq__(self, other) :\n",
        "    return self.y == other.y and self.m == other.m and self.d == other.d\n",
        "  def __ne__(self, other) :\n",
        "    return not self == other\n",
        "  def __lt__(self, other) :\n",
        "    return self.y < other.y or \\\n",
        "          (self.y == other.y and self.m < other.m) or \\\n",
        "          (self.y == other.y and self.m == other.m and self.d < other.d)\n",
        "  def __le__(self, other) :\n",
        "    return self == other or self < other\n",
        "  def __gt__(self, other) :\n",
        "    return not self <= other\n",
        "  def __ge__(self, other) :\n",
        "    return not self < other\n",
        "\n",
        "##############################################################################################\n",
        "##                                           Test                                           ##\n",
        "##                                           ....                                           ##\n",
        "##############################################################################################\n",
        "my_date = Special_Date()\n",
        "my_date.set_date('1396-2-12')\n",
        "my_date.set_format('$dd$th of month $mm$ year $yy$')\n",
        "print(my_date.previous())\n",
        "print(my_date['Day'])\n",
        "\n",
        "print('=========================================================')\n",
        "\n",
        "print(my_date == my_date.copy())\n",
        "print(my_date == my_date.next())\n",
        "print(my_date < my_date.next())\n",
        "print(my_date >= my_date.previous())\n",
        "dates = [my_date, my_date.previous(), my_date.next(), my_date.copy(), my_date.next().next(), my_date.copy()]\n",
        "print('=========================================================')\n",
        "for d in dates :\n",
        "  print(d)\n",
        "print('=========================================================')\n",
        "for d in sorted(dates) :\n",
        "  print(d)"
      ],
      "execution_count": null,
      "outputs": [
        {
          "output_type": "stream",
          "text": [
            "11th of month 02 year 96\n",
            "12\n",
            "=========================================================\n",
            "True\n",
            "False\n",
            "True\n",
            "True\n",
            "=========================================================\n",
            "12th of month 02 year 96\n",
            "11th of month 02 year 96\n",
            "13th of month 02 year 96\n",
            "12th of month 02 year 96\n",
            "14th of month 02 year 96\n",
            "12th of month 02 year 96\n",
            "=========================================================\n",
            "11th of month 02 year 96\n",
            "12th of month 02 year 96\n",
            "12th of month 02 year 96\n",
            "12th of month 02 year 96\n",
            "13th of month 02 year 96\n",
            "14th of month 02 year 96\n"
          ],
          "name": "stdout"
        }
      ]
    },
    {
      "cell_type": "markdown",
      "metadata": {
        "id": "-E-nqpA8oGAC"
      },
      "source": [
        "#### _Exercise M.1_\n",
        "In this exercise, we are to implement `Calendar` class to store personal events with dates. For this, We need :\n",
        "\n",
        "* `__init__()` :\n",
        "  * Inputs :\n",
        "    * `self` : ;\n",
        "    * `name` : String, calendar name.\n",
        "  * Return value : `None`\n",
        "  * In this function, you must initialize class properties. Set `name` property to `name` input and set `events` property to an empty dictionary.\n",
        "\n",
        "* `new_date()` :\n",
        "  * Inputs :\n",
        "    * self : ;\n",
        "    * date : String input containing date in format `yyyy-mm-dd`.\n",
        "  * Return value : `Special_Date` instance.\n",
        "\n",
        "* `add_event()` :\n",
        "  * Inputs :\n",
        "    * `self` : ;\n",
        "    * `name` : String, event name.\n",
        "    * `date` : String.\n",
        "  * Return value : `None`\n",
        "  * Make a `Special_Date` instance using `date` input and add `(name, new_date)` pair to `events` dictionart as `(key, value)` pair. If `name` already exists in calendar, print an error and do nothing.\n",
        "\n",
        "* `size()` :\n",
        "  * Inputs :\n",
        "    * `self` : ;\n",
        "  * Return value : Size of `events` dictionary.\n",
        "\n",
        "* `__str__()` :\n",
        "  * Inputs :\n",
        "    * `self` : ;\n",
        "  * Return value : A string describing calendar. It should be in following style (sorted by dates) :\n",
        "```\n",
        "Calendar Name : <name> | Size of calendar : <size> \n",
        "=============================================================\n",
        "0   | <event #0 name>           | <event #0 date>           |\n",
        "1   | <event #1 name>           | <event #1 date>           |\n",
        "2   | <event #2 name>           | <event #2 date>           |\n",
        "3   | <event #3 name>           | <event #3 date>           |\n",
        "4   | <event #4 name>           | <event #4 date>           |\n",
        "5   | <event #5 name>           | <event #5 date>           |\n",
        "=============================================================\n",
        "```\n",
        "To sort dictionary, you can use `sorted_dict = sorted(dict.items(), key=lambda kv: kv[1])` syntax.\n",
        "\n",
        "* `move_event()` :\n",
        "  * Inputs :\n",
        "    * `self` : ;\n",
        "    * `name` : String, name of event that should been moved. If name does not exist in events, print an error and do nothing.\n",
        "    * `movement` : Integer. If it's positive, date of event must go `movement` days next (Using `Special_Date.next()` call). If it's negitive, date of event must go `movement` days back (Using `Special_Date.previous()` call).\n",
        "  * Return value : Result date. Note that event date must overwritten by target date; Then target date will be returned. \n",
        "\n",
        "* `__getitem__()` :\n",
        "  * Inputs :\n",
        "    * `self` : ;\n",
        "    * `index` : A string or a `Special_Date` instance.\n",
        "  * Return value :\n",
        "    * If index is a string, return date of event with name `index`. if `index` was not exists as an event name, return `None`.\n",
        "    * If index is a `Special_Date` instance, return a list of event names with same date. If there is no event with this date, return an empty list."
      ]
    },
    {
      "cell_type": "code",
      "metadata": {
        "id": "LUuKitab30hI",
        "colab": {
          "base_uri": "https://localhost:8080/",
          "height": 377
        },
        "outputId": "35323d38-a47c-4d07-bc8b-879c97335bbe"
      },
      "source": [
        "class Calendar :\n",
        "  def __init__(self, name) :\n",
        "    self.name = name\n",
        "    self.events = dict()\n",
        "\n",
        "  def new_date(self, date) :\n",
        "    d = Special_Date()\n",
        "    d.set_date(date)\n",
        "    return d\n",
        "\n",
        "  def add_event(self, name, date) :\n",
        "    if name not in self.events :\n",
        "      self.events[name] = self.new_date(date)\n",
        "    else :\n",
        "      print('This event already exists')\n",
        "\n",
        "  def size(self) :\n",
        "    return len(self.events)\n",
        "\n",
        "  def __str__(self) :\n",
        "    sorted_events = sorted(self.events.items(), key=lambda kv: kv[1])\n",
        "    output  = \"Calendar Name : {} | Size of calendar : {}  \\n\".format(self.name, self.size())\n",
        "    output += \"=============================================================\\n\"\n",
        "    for i,(event,date) in enumerate(sorted_events) :\n",
        "      output += \"{}     | {}\\t\\t\\t| {}\\t    |\\n\".format(i,event,date)\n",
        "    output += \"=============================================================\\n\"\n",
        "    return output\n",
        "\n",
        "  def move_event(self, name, movement) :\n",
        "    if name not in self.events :\n",
        "      print(name+' not exists in calendar!')\n",
        "      return\n",
        "    result_date = self.events[name].copy()\n",
        "    if movement > 0 :\n",
        "      for i in range(movement) :\n",
        "        result_date = result_date.next()\n",
        "    else :\n",
        "      for i in range(-movement) :\n",
        "        result_date = result_date.previous()\n",
        "    self.events[name] = result_date\n",
        "    return result_date\n",
        "\n",
        "  def __getitem__(self, index) :\n",
        "    if type(index) == type('') :\n",
        "      return self.events.get(index, None)\n",
        "    else :\n",
        "      result = list()\n",
        "      for event,date in self.events.items() :\n",
        "        if index == date :\n",
        "          result.append(event)\n",
        "      return result\n",
        "\n",
        "##############################################################################################\n",
        "##                                           Test                                           ##\n",
        "##                                           ....                                           ##\n",
        "##############################################################################################\n",
        "calendar = Calendar(\"My Calendar\")\n",
        "calendar.add_event(\"Logic Exam\",\"1399-2-7\")\n",
        "calendar.add_event(\"AI Meeting\",\"1399-3-14\")\n",
        "calendar.add_event(\"DM Meeting\",\"1399-2-24\")\n",
        "calendar.add_event(\"NLP Quiz\",\"1399-3-14\")\n",
        "\n",
        "print(calendar)\n",
        "\n",
        "calendar.add_event(\"DM Meeting\",\"1399-3-16\")\n",
        "print()\n",
        "\n",
        "calendar.move_event(\"DM Meeting\", 5)\n",
        "calendar.move_event(\"Logic Exam\", -32)\n",
        "\n",
        "print(calendar)\n",
        "\n",
        "print(calendar[\"NLP Quiz\"])\n",
        "\n",
        "print(calendar[calendar.new_date(\"1399-3-14\")])"
      ],
      "execution_count": null,
      "outputs": [
        {
          "output_type": "stream",
          "text": [
            "Calendar Name : My Calendar | Size of calendar : 4  \n",
            "=============================================================\n",
            "0     | Logic Exam\t\t\t| 1399-02-07\t    |\n",
            "1     | DM Meeting\t\t\t| 1399-02-24\t    |\n",
            "2     | AI Meeting\t\t\t| 1399-03-14\t    |\n",
            "3     | NLP Quiz\t\t\t| 1399-03-14\t    |\n",
            "=============================================================\n",
            "\n",
            "This event already exists\n",
            "\n",
            "Calendar Name : My Calendar | Size of calendar : 4  \n",
            "=============================================================\n",
            "0     | Logic Exam\t\t\t| 1399-01-06\t    |\n",
            "1     | DM Meeting\t\t\t| 1399-02-29\t    |\n",
            "2     | AI Meeting\t\t\t| 1399-03-14\t    |\n",
            "3     | NLP Quiz\t\t\t| 1399-03-14\t    |\n",
            "=============================================================\n",
            "\n",
            "1399-03-14\n",
            "['AI Meeting', 'NLP Quiz']\n"
          ],
          "name": "stdout"
        }
      ]
    },
    {
      "cell_type": "markdown",
      "metadata": {
        "id": "9zIeOH6J9qL-"
      },
      "source": [
        "#### _Exercise M.2_\n",
        "Create a class named `GregorianCalendar`, which will inherit from the `Calendar` class. Do followings :\n",
        "\n",
        "* Add `\"(Gregorian)\"` at the end of `name` property.\n",
        "\n",
        "* Overwrite `new_date()` function of this class to initialize `Special_Date` instance with Gregorian calendar limits; Overwrite `Special_Date` instances `number_of_days()` method with :\n",
        "```\n",
        "def gregorian_number_of_days(year, month) :\n",
        "    days = [31,28,31,30,31,30,31,31,30,31,30,31]\n",
        "    return days[month-1] + ((year%4 == 1) * (month == 2))\n",
        "```\n",
        "And set `max_year` to 2050. Also in this function (`new_date()`) set `Special_Date` instances `str_format` to `\"$dd$th of $yy/mm$\"`.\n",
        "\n",
        "* Add `first_event()` :\n",
        "  * Inputs :\n",
        "    * `self` : ;\n",
        "    * `after[default=\"0-0-0\"]` : ;\n",
        "  * Return value : Name of first event with date greater than `after`."
      ]
    },
    {
      "cell_type": "code",
      "metadata": {
        "id": "27tyJpI_Bsj9",
        "colab": {
          "base_uri": "https://localhost:8080/",
          "height": 197
        },
        "outputId": "29e7381f-07ac-4c0a-dc77-32eb1a2c628e"
      },
      "source": [
        "class GregorianCalendar(Calendar) :\n",
        "  \n",
        "  def __init__(self, name) :\n",
        "    super().__init__(name)\n",
        "    self.name += \" (Gregorian)\"\n",
        "\n",
        "  def new_date(self, date) :\n",
        "    def gregorian_number_of_days(self, year, month) :\n",
        "      days = [31,28,31,30,31,30,31,31,30,31,30,31]\n",
        "      return days[month-1] + ((year%4 == 1) * (month == 2))\n",
        "    new = Date(max_year=2050)\n",
        "    new.number_of_days = gregorian_number_of_days\n",
        "    new.set_format(\"$dd$th of $yy/mm$\")\n",
        "    new.set_date(date)\n",
        "    return new\n",
        "  \n",
        "  def first_event(self, after=\"1-1-1\") :\n",
        "    after = self.new_date(after)\n",
        "    sorted_events = sorted(self.events.items(), key=lambda kv: kv[1])\n",
        "    for event,date in sorted_events :\n",
        "      if date > after :\n",
        "        return event\n",
        "\n",
        "##############################################################################################\n",
        "##                                           Test                                           ##\n",
        "##                                           ....                                           ##\n",
        "##############################################################################################\n",
        "calendar = GregorianCalendar(\"My Calendar\")\n",
        "calendar.add_event(\"Logic Exam\",\"2020-2-7\")\n",
        "calendar.add_event(\"AI Meeting\",\"2020-3-14\")\n",
        "calendar.add_event(\"DM Meeting\",\"2020-2-24\")\n",
        "calendar.add_event(\"NLP Quiz\",\"2020-3-14\")\n",
        "\n",
        "print(calendar)\n",
        "\n",
        "\n",
        "print(calendar.first_event())\n",
        "print(calendar.first_event(after=\"2020-2-10\"))"
      ],
      "execution_count": null,
      "outputs": [
        {
          "output_type": "stream",
          "text": [
            "Calendar Name : My Calendar (Gregorian) | Size of calendar : 4  \n",
            "=============================================================\n",
            "0     | Logic Exam\t\t\t| 07th of 20/02\t    |\n",
            "1     | DM Meeting\t\t\t| 24th of 20/02\t    |\n",
            "2     | AI Meeting\t\t\t| 14th of 20/03\t    |\n",
            "3     | NLP Quiz\t\t\t| 14th of 20/03\t    |\n",
            "=============================================================\n",
            "\n",
            "Logic Exam\n",
            "DM Meeting\n"
          ],
          "name": "stdout"
        }
      ]
    }
  ]
}