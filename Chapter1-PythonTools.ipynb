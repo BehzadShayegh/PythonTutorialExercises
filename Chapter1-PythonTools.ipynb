{
  "nbformat": 4,
  "nbformat_minor": 0,
  "metadata": {
    "colab": {
      "name": "Python Tutorial Solution.ipynb",
      "provenance": [],
      "collapsed_sections": [
        "g-j5SSm_9yVX",
        "yS_vVxyFSsw3",
        "EyP-SS03TxuO",
        "3wxVmfjYWnEQ",
        "pfUS-8yhaaq8",
        "kM03cDmsRa-N",
        "0I8UprefgP1r"
      ],
      "include_colab_link": true
    },
    "kernelspec": {
      "name": "python3",
      "display_name": "Python 3"
    }
  },
  "cells": [
    {
      "cell_type": "markdown",
      "metadata": {
        "id": "view-in-github",
        "colab_type": "text"
      },
      "source": [
        "<a href=\"https://colab.research.google.com/github/BehzadShayegh/PythonTutorialExercises/blob/main/Chapter1.ipynb\" target=\"_parent\"><img src=\"https://colab.research.google.com/assets/colab-badge.svg\" alt=\"Open In Colab\"/></a>"
      ]
    },
    {
      "cell_type": "markdown",
      "metadata": {
        "id": "gENAgk7JL7nQ"
      },
      "source": [
        "<img src='https://image.flaticon.com/icons/svg/1822/1822899.svg' alt=\"Amirkabir-University-Logo\" width=\"120\" height=\"120\" align=\"left\">\n",
        "\n",
        "<img src='https://aut.ac.ir/templates/tmpl_modern01/images/logo_fa.png' alt=\"Amirkabir-University-Logo\" width=\"120\" height=\"120\" align=\"right\">\n",
        "\n",
        "<h1 align=center><font size=5> <b><i>Python Tutorial</b><br>Chapter 1 : Python Tools</i></font></h1>"
      ]
    },
    {
      "cell_type": "markdown",
      "metadata": {
        "id": "Z57ktQ8w9DnR"
      },
      "source": [
        "*Prepared by Behzad Shayegh*\n",
        "\n",
        "*It's your turn. Try and learn ...*"
      ]
    },
    {
      "cell_type": "markdown",
      "metadata": {
        "id": "GQ8MlITJOK9r"
      },
      "source": [
        "### **Introduction**"
      ]
    },
    {
      "cell_type": "markdown",
      "metadata": {
        "id": "3c3bvOVA8Yve"
      },
      "source": [
        "Hello everyone.\n",
        "\n",
        "I welcome you all to this course. In this section, we are going to give you some exercises. Maybe some of these exercises are too easy for you and that's because this course starts from scratch; so you can skip it if you think it's not needed.\n",
        "\n",
        "Keep in mind that, in programming, you have to search. It's common that you don't know answers and need to search to find them. **Searching** is an important skill itself. Use key words noted in questions."
      ]
    },
    {
      "cell_type": "markdown",
      "metadata": {
        "id": "g-j5SSm_9yVX"
      },
      "source": [
        "### **Lecture 0 : Pandas**"
      ]
    },
    {
      "cell_type": "markdown",
      "metadata": {
        "id": "uGfKOGaJ-4eZ"
      },
      "source": [
        "You have a dataset named \"titanic.csv\", which contains information about the occupants of the Titanic. Keep in mind, exercises are sequential and output of each exercise will be used in next exercises unless use named dataframes."
      ]
    },
    {
      "cell_type": "code",
      "metadata": {
        "id": "R9MifoLokhFx"
      },
      "source": [
        "import pandas as pd"
      ],
      "execution_count": null,
      "outputs": []
    },
    {
      "cell_type": "markdown",
      "metadata": {
        "id": "0s1W1zaxNySV"
      },
      "source": [
        "#### _Exercise 0.0_\n",
        "Read _\"titanic.csv\"_ dataset and print first and last 12 rows using `.head()` and `.tail()`."
      ]
    },
    {
      "cell_type": "code",
      "metadata": {
        "id": "-CxBqbp56Jos",
        "colab": {
          "base_uri": "https://localhost:8080/"
        },
        "outputId": "da666e9f-e3cc-49b0-e03b-675b90214e8c"
      },
      "source": [
        "df = pd.read_csv(\"titanic.csv\")\n",
        "df.head(12)"
      ],
      "execution_count": null,
      "outputs": [
        {
          "output_type": "execute_result",
          "data": {
            "text/html": [
              "<div>\n",
              "<style scoped>\n",
              "    .dataframe tbody tr th:only-of-type {\n",
              "        vertical-align: middle;\n",
              "    }\n",
              "\n",
              "    .dataframe tbody tr th {\n",
              "        vertical-align: top;\n",
              "    }\n",
              "\n",
              "    .dataframe thead th {\n",
              "        text-align: right;\n",
              "    }\n",
              "</style>\n",
              "<table border=\"1\" class=\"dataframe\">\n",
              "  <thead>\n",
              "    <tr style=\"text-align: right;\">\n",
              "      <th></th>\n",
              "      <th>PassengerId</th>\n",
              "      <th>Survived</th>\n",
              "      <th>Pclass</th>\n",
              "      <th>Name</th>\n",
              "      <th>Sex</th>\n",
              "      <th>Age</th>\n",
              "      <th>SibSp</th>\n",
              "      <th>Parch</th>\n",
              "      <th>Ticket</th>\n",
              "      <th>Fare</th>\n",
              "      <th>Cabin</th>\n",
              "      <th>Embarked</th>\n",
              "    </tr>\n",
              "  </thead>\n",
              "  <tbody>\n",
              "    <tr>\n",
              "      <th>0</th>\n",
              "      <td>1</td>\n",
              "      <td>0</td>\n",
              "      <td>3</td>\n",
              "      <td>Braund, Mr. Owen Harris</td>\n",
              "      <td>male</td>\n",
              "      <td>22.0</td>\n",
              "      <td>1</td>\n",
              "      <td>0</td>\n",
              "      <td>A/5 21171</td>\n",
              "      <td>7.2500</td>\n",
              "      <td>NaN</td>\n",
              "      <td>S</td>\n",
              "    </tr>\n",
              "    <tr>\n",
              "      <th>1</th>\n",
              "      <td>2</td>\n",
              "      <td>1</td>\n",
              "      <td>1</td>\n",
              "      <td>Cumings, Mrs. John Bradley (Florence Briggs Th...</td>\n",
              "      <td>female</td>\n",
              "      <td>38.0</td>\n",
              "      <td>1</td>\n",
              "      <td>0</td>\n",
              "      <td>PC 17599</td>\n",
              "      <td>71.2833</td>\n",
              "      <td>C85</td>\n",
              "      <td>C</td>\n",
              "    </tr>\n",
              "    <tr>\n",
              "      <th>2</th>\n",
              "      <td>3</td>\n",
              "      <td>1</td>\n",
              "      <td>3</td>\n",
              "      <td>Heikkinen, Miss. Laina</td>\n",
              "      <td>female</td>\n",
              "      <td>26.0</td>\n",
              "      <td>0</td>\n",
              "      <td>0</td>\n",
              "      <td>STON/O2. 3101282</td>\n",
              "      <td>7.9250</td>\n",
              "      <td>NaN</td>\n",
              "      <td>S</td>\n",
              "    </tr>\n",
              "    <tr>\n",
              "      <th>3</th>\n",
              "      <td>4</td>\n",
              "      <td>1</td>\n",
              "      <td>1</td>\n",
              "      <td>Futrelle, Mrs. Jacques Heath (Lily May Peel)</td>\n",
              "      <td>female</td>\n",
              "      <td>35.0</td>\n",
              "      <td>1</td>\n",
              "      <td>0</td>\n",
              "      <td>113803</td>\n",
              "      <td>53.1000</td>\n",
              "      <td>C123</td>\n",
              "      <td>S</td>\n",
              "    </tr>\n",
              "    <tr>\n",
              "      <th>4</th>\n",
              "      <td>5</td>\n",
              "      <td>0</td>\n",
              "      <td>3</td>\n",
              "      <td>Allen, Mr. William Henry</td>\n",
              "      <td>male</td>\n",
              "      <td>35.0</td>\n",
              "      <td>0</td>\n",
              "      <td>0</td>\n",
              "      <td>373450</td>\n",
              "      <td>8.0500</td>\n",
              "      <td>NaN</td>\n",
              "      <td>S</td>\n",
              "    </tr>\n",
              "    <tr>\n",
              "      <th>5</th>\n",
              "      <td>6</td>\n",
              "      <td>0</td>\n",
              "      <td>3</td>\n",
              "      <td>Moran, Mr. James</td>\n",
              "      <td>male</td>\n",
              "      <td>NaN</td>\n",
              "      <td>0</td>\n",
              "      <td>0</td>\n",
              "      <td>330877</td>\n",
              "      <td>8.4583</td>\n",
              "      <td>NaN</td>\n",
              "      <td>Q</td>\n",
              "    </tr>\n",
              "    <tr>\n",
              "      <th>6</th>\n",
              "      <td>7</td>\n",
              "      <td>0</td>\n",
              "      <td>1</td>\n",
              "      <td>McCarthy, Mr. Timothy J</td>\n",
              "      <td>male</td>\n",
              "      <td>54.0</td>\n",
              "      <td>0</td>\n",
              "      <td>0</td>\n",
              "      <td>17463</td>\n",
              "      <td>51.8625</td>\n",
              "      <td>E46</td>\n",
              "      <td>S</td>\n",
              "    </tr>\n",
              "    <tr>\n",
              "      <th>7</th>\n",
              "      <td>8</td>\n",
              "      <td>0</td>\n",
              "      <td>3</td>\n",
              "      <td>Palsson, Master. Gosta Leonard</td>\n",
              "      <td>male</td>\n",
              "      <td>2.0</td>\n",
              "      <td>3</td>\n",
              "      <td>1</td>\n",
              "      <td>349909</td>\n",
              "      <td>21.0750</td>\n",
              "      <td>NaN</td>\n",
              "      <td>S</td>\n",
              "    </tr>\n",
              "    <tr>\n",
              "      <th>8</th>\n",
              "      <td>9</td>\n",
              "      <td>1</td>\n",
              "      <td>3</td>\n",
              "      <td>Johnson, Mrs. Oscar W (Elisabeth Vilhelmina Berg)</td>\n",
              "      <td>female</td>\n",
              "      <td>27.0</td>\n",
              "      <td>0</td>\n",
              "      <td>2</td>\n",
              "      <td>347742</td>\n",
              "      <td>11.1333</td>\n",
              "      <td>NaN</td>\n",
              "      <td>S</td>\n",
              "    </tr>\n",
              "    <tr>\n",
              "      <th>9</th>\n",
              "      <td>10</td>\n",
              "      <td>1</td>\n",
              "      <td>2</td>\n",
              "      <td>Nasser, Mrs. Nicholas (Adele Achem)</td>\n",
              "      <td>female</td>\n",
              "      <td>14.0</td>\n",
              "      <td>1</td>\n",
              "      <td>0</td>\n",
              "      <td>237736</td>\n",
              "      <td>30.0708</td>\n",
              "      <td>NaN</td>\n",
              "      <td>C</td>\n",
              "    </tr>\n",
              "    <tr>\n",
              "      <th>10</th>\n",
              "      <td>11</td>\n",
              "      <td>1</td>\n",
              "      <td>3</td>\n",
              "      <td>Sandstrom, Miss. Marguerite Rut</td>\n",
              "      <td>female</td>\n",
              "      <td>4.0</td>\n",
              "      <td>1</td>\n",
              "      <td>1</td>\n",
              "      <td>PP 9549</td>\n",
              "      <td>16.7000</td>\n",
              "      <td>G6</td>\n",
              "      <td>S</td>\n",
              "    </tr>\n",
              "    <tr>\n",
              "      <th>11</th>\n",
              "      <td>12</td>\n",
              "      <td>1</td>\n",
              "      <td>1</td>\n",
              "      <td>Bonnell, Miss. Elizabeth</td>\n",
              "      <td>female</td>\n",
              "      <td>58.0</td>\n",
              "      <td>0</td>\n",
              "      <td>0</td>\n",
              "      <td>113783</td>\n",
              "      <td>26.5500</td>\n",
              "      <td>C103</td>\n",
              "      <td>S</td>\n",
              "    </tr>\n",
              "  </tbody>\n",
              "</table>\n",
              "</div>"
            ],
            "text/plain": [
              "    PassengerId  Survived  Pclass  ...     Fare Cabin  Embarked\n",
              "0             1         0       3  ...   7.2500   NaN         S\n",
              "1             2         1       1  ...  71.2833   C85         C\n",
              "2             3         1       3  ...   7.9250   NaN         S\n",
              "3             4         1       1  ...  53.1000  C123         S\n",
              "4             5         0       3  ...   8.0500   NaN         S\n",
              "5             6         0       3  ...   8.4583   NaN         Q\n",
              "6             7         0       1  ...  51.8625   E46         S\n",
              "7             8         0       3  ...  21.0750   NaN         S\n",
              "8             9         1       3  ...  11.1333   NaN         S\n",
              "9            10         1       2  ...  30.0708   NaN         C\n",
              "10           11         1       3  ...  16.7000    G6         S\n",
              "11           12         1       1  ...  26.5500  C103         S\n",
              "\n",
              "[12 rows x 12 columns]"
            ]
          },
          "metadata": {
            "tags": []
          },
          "execution_count": 2
        }
      ]
    },
    {
      "cell_type": "code",
      "metadata": {
        "id": "WFJk7WGgC3rB",
        "colab": {
          "base_uri": "https://localhost:8080/"
        },
        "outputId": "008e7cca-a72c-4c4b-9ce2-cea9ab01a092"
      },
      "source": [
        "df.tail(12)"
      ],
      "execution_count": null,
      "outputs": [
        {
          "output_type": "execute_result",
          "data": {
            "text/html": [
              "<div>\n",
              "<style scoped>\n",
              "    .dataframe tbody tr th:only-of-type {\n",
              "        vertical-align: middle;\n",
              "    }\n",
              "\n",
              "    .dataframe tbody tr th {\n",
              "        vertical-align: top;\n",
              "    }\n",
              "\n",
              "    .dataframe thead th {\n",
              "        text-align: right;\n",
              "    }\n",
              "</style>\n",
              "<table border=\"1\" class=\"dataframe\">\n",
              "  <thead>\n",
              "    <tr style=\"text-align: right;\">\n",
              "      <th></th>\n",
              "      <th>PassengerId</th>\n",
              "      <th>Survived</th>\n",
              "      <th>Pclass</th>\n",
              "      <th>Name</th>\n",
              "      <th>Sex</th>\n",
              "      <th>Age</th>\n",
              "      <th>SibSp</th>\n",
              "      <th>Parch</th>\n",
              "      <th>Ticket</th>\n",
              "      <th>Fare</th>\n",
              "      <th>Cabin</th>\n",
              "      <th>Embarked</th>\n",
              "    </tr>\n",
              "  </thead>\n",
              "  <tbody>\n",
              "    <tr>\n",
              "      <th>879</th>\n",
              "      <td>880</td>\n",
              "      <td>1</td>\n",
              "      <td>1</td>\n",
              "      <td>Potter, Mrs. Thomas Jr (Lily Alexenia Wilson)</td>\n",
              "      <td>female</td>\n",
              "      <td>56.0</td>\n",
              "      <td>0</td>\n",
              "      <td>1</td>\n",
              "      <td>11767</td>\n",
              "      <td>83.1583</td>\n",
              "      <td>C50</td>\n",
              "      <td>C</td>\n",
              "    </tr>\n",
              "    <tr>\n",
              "      <th>880</th>\n",
              "      <td>881</td>\n",
              "      <td>1</td>\n",
              "      <td>2</td>\n",
              "      <td>Shelley, Mrs. William (Imanita Parrish Hall)</td>\n",
              "      <td>female</td>\n",
              "      <td>25.0</td>\n",
              "      <td>0</td>\n",
              "      <td>1</td>\n",
              "      <td>230433</td>\n",
              "      <td>26.0000</td>\n",
              "      <td>NaN</td>\n",
              "      <td>S</td>\n",
              "    </tr>\n",
              "    <tr>\n",
              "      <th>881</th>\n",
              "      <td>882</td>\n",
              "      <td>0</td>\n",
              "      <td>3</td>\n",
              "      <td>Markun, Mr. Johann</td>\n",
              "      <td>male</td>\n",
              "      <td>33.0</td>\n",
              "      <td>0</td>\n",
              "      <td>0</td>\n",
              "      <td>349257</td>\n",
              "      <td>7.8958</td>\n",
              "      <td>NaN</td>\n",
              "      <td>S</td>\n",
              "    </tr>\n",
              "    <tr>\n",
              "      <th>882</th>\n",
              "      <td>883</td>\n",
              "      <td>0</td>\n",
              "      <td>3</td>\n",
              "      <td>Dahlberg, Miss. Gerda Ulrika</td>\n",
              "      <td>female</td>\n",
              "      <td>22.0</td>\n",
              "      <td>0</td>\n",
              "      <td>0</td>\n",
              "      <td>7552</td>\n",
              "      <td>10.5167</td>\n",
              "      <td>NaN</td>\n",
              "      <td>S</td>\n",
              "    </tr>\n",
              "    <tr>\n",
              "      <th>883</th>\n",
              "      <td>884</td>\n",
              "      <td>0</td>\n",
              "      <td>2</td>\n",
              "      <td>Banfield, Mr. Frederick James</td>\n",
              "      <td>male</td>\n",
              "      <td>28.0</td>\n",
              "      <td>0</td>\n",
              "      <td>0</td>\n",
              "      <td>C.A./SOTON 34068</td>\n",
              "      <td>10.5000</td>\n",
              "      <td>NaN</td>\n",
              "      <td>S</td>\n",
              "    </tr>\n",
              "    <tr>\n",
              "      <th>884</th>\n",
              "      <td>885</td>\n",
              "      <td>0</td>\n",
              "      <td>3</td>\n",
              "      <td>Sutehall, Mr. Henry Jr</td>\n",
              "      <td>male</td>\n",
              "      <td>25.0</td>\n",
              "      <td>0</td>\n",
              "      <td>0</td>\n",
              "      <td>SOTON/OQ 392076</td>\n",
              "      <td>7.0500</td>\n",
              "      <td>NaN</td>\n",
              "      <td>S</td>\n",
              "    </tr>\n",
              "    <tr>\n",
              "      <th>885</th>\n",
              "      <td>886</td>\n",
              "      <td>0</td>\n",
              "      <td>3</td>\n",
              "      <td>Rice, Mrs. William (Margaret Norton)</td>\n",
              "      <td>female</td>\n",
              "      <td>39.0</td>\n",
              "      <td>0</td>\n",
              "      <td>5</td>\n",
              "      <td>382652</td>\n",
              "      <td>29.1250</td>\n",
              "      <td>NaN</td>\n",
              "      <td>Q</td>\n",
              "    </tr>\n",
              "    <tr>\n",
              "      <th>886</th>\n",
              "      <td>887</td>\n",
              "      <td>0</td>\n",
              "      <td>2</td>\n",
              "      <td>Montvila, Rev. Juozas</td>\n",
              "      <td>male</td>\n",
              "      <td>27.0</td>\n",
              "      <td>0</td>\n",
              "      <td>0</td>\n",
              "      <td>211536</td>\n",
              "      <td>13.0000</td>\n",
              "      <td>NaN</td>\n",
              "      <td>S</td>\n",
              "    </tr>\n",
              "    <tr>\n",
              "      <th>887</th>\n",
              "      <td>888</td>\n",
              "      <td>1</td>\n",
              "      <td>1</td>\n",
              "      <td>Graham, Miss. Margaret Edith</td>\n",
              "      <td>female</td>\n",
              "      <td>19.0</td>\n",
              "      <td>0</td>\n",
              "      <td>0</td>\n",
              "      <td>112053</td>\n",
              "      <td>30.0000</td>\n",
              "      <td>B42</td>\n",
              "      <td>S</td>\n",
              "    </tr>\n",
              "    <tr>\n",
              "      <th>888</th>\n",
              "      <td>889</td>\n",
              "      <td>0</td>\n",
              "      <td>3</td>\n",
              "      <td>Johnston, Miss. Catherine Helen \"Carrie\"</td>\n",
              "      <td>female</td>\n",
              "      <td>NaN</td>\n",
              "      <td>1</td>\n",
              "      <td>2</td>\n",
              "      <td>W./C. 6607</td>\n",
              "      <td>23.4500</td>\n",
              "      <td>NaN</td>\n",
              "      <td>S</td>\n",
              "    </tr>\n",
              "    <tr>\n",
              "      <th>889</th>\n",
              "      <td>890</td>\n",
              "      <td>1</td>\n",
              "      <td>1</td>\n",
              "      <td>Behr, Mr. Karl Howell</td>\n",
              "      <td>male</td>\n",
              "      <td>26.0</td>\n",
              "      <td>0</td>\n",
              "      <td>0</td>\n",
              "      <td>111369</td>\n",
              "      <td>30.0000</td>\n",
              "      <td>C148</td>\n",
              "      <td>C</td>\n",
              "    </tr>\n",
              "    <tr>\n",
              "      <th>890</th>\n",
              "      <td>891</td>\n",
              "      <td>0</td>\n",
              "      <td>3</td>\n",
              "      <td>Dooley, Mr. Patrick</td>\n",
              "      <td>male</td>\n",
              "      <td>32.0</td>\n",
              "      <td>0</td>\n",
              "      <td>0</td>\n",
              "      <td>370376</td>\n",
              "      <td>7.7500</td>\n",
              "      <td>NaN</td>\n",
              "      <td>Q</td>\n",
              "    </tr>\n",
              "  </tbody>\n",
              "</table>\n",
              "</div>"
            ],
            "text/plain": [
              "     PassengerId  Survived  Pclass  ...     Fare Cabin  Embarked\n",
              "879          880         1       1  ...  83.1583   C50         C\n",
              "880          881         1       2  ...  26.0000   NaN         S\n",
              "881          882         0       3  ...   7.8958   NaN         S\n",
              "882          883         0       3  ...  10.5167   NaN         S\n",
              "883          884         0       2  ...  10.5000   NaN         S\n",
              "884          885         0       3  ...   7.0500   NaN         S\n",
              "885          886         0       3  ...  29.1250   NaN         Q\n",
              "886          887         0       2  ...  13.0000   NaN         S\n",
              "887          888         1       1  ...  30.0000   B42         S\n",
              "888          889         0       3  ...  23.4500   NaN         S\n",
              "889          890         1       1  ...  30.0000  C148         C\n",
              "890          891         0       3  ...   7.7500   NaN         Q\n",
              "\n",
              "[12 rows x 12 columns]"
            ]
          },
          "metadata": {
            "tags": []
          },
          "execution_count": 3
        }
      ]
    },
    {
      "cell_type": "markdown",
      "metadata": {
        "id": "ykXstnQHD2kZ"
      },
      "source": [
        "#### _Exercise 0.1_\n",
        "In a new pandas dataframe, store a version of previous dataset and use all columns except `Name` and `Ticket` columns by passing a list of column names. Use`df.columns` to avoid typing all columns names and use `in` to find `name` and `Ticket`. What’s data-type of “df.columns” attribute?\n",
        "\n",
        "Print head of dataset.\n"
      ]
    },
    {
      "cell_type": "code",
      "metadata": {
        "id": "kZR1z_m9DzwE",
        "colab": {
          "base_uri": "https://localhost:8080/"
        },
        "outputId": "ebd71628-e222-4748-c5e5-8180043937ad"
      },
      "source": [
        "new_df = df[[col for col in df.columns if col not in ['Name','Ticket']]]\n",
        "new_df.head()"
      ],
      "execution_count": null,
      "outputs": [
        {
          "output_type": "execute_result",
          "data": {
            "text/html": [
              "<div>\n",
              "<style scoped>\n",
              "    .dataframe tbody tr th:only-of-type {\n",
              "        vertical-align: middle;\n",
              "    }\n",
              "\n",
              "    .dataframe tbody tr th {\n",
              "        vertical-align: top;\n",
              "    }\n",
              "\n",
              "    .dataframe thead th {\n",
              "        text-align: right;\n",
              "    }\n",
              "</style>\n",
              "<table border=\"1\" class=\"dataframe\">\n",
              "  <thead>\n",
              "    <tr style=\"text-align: right;\">\n",
              "      <th></th>\n",
              "      <th>PassengerId</th>\n",
              "      <th>Survived</th>\n",
              "      <th>Pclass</th>\n",
              "      <th>Sex</th>\n",
              "      <th>Age</th>\n",
              "      <th>SibSp</th>\n",
              "      <th>Parch</th>\n",
              "      <th>Fare</th>\n",
              "      <th>Cabin</th>\n",
              "      <th>Embarked</th>\n",
              "    </tr>\n",
              "  </thead>\n",
              "  <tbody>\n",
              "    <tr>\n",
              "      <th>0</th>\n",
              "      <td>1</td>\n",
              "      <td>0</td>\n",
              "      <td>3</td>\n",
              "      <td>male</td>\n",
              "      <td>22.0</td>\n",
              "      <td>1</td>\n",
              "      <td>0</td>\n",
              "      <td>7.2500</td>\n",
              "      <td>NaN</td>\n",
              "      <td>S</td>\n",
              "    </tr>\n",
              "    <tr>\n",
              "      <th>1</th>\n",
              "      <td>2</td>\n",
              "      <td>1</td>\n",
              "      <td>1</td>\n",
              "      <td>female</td>\n",
              "      <td>38.0</td>\n",
              "      <td>1</td>\n",
              "      <td>0</td>\n",
              "      <td>71.2833</td>\n",
              "      <td>C85</td>\n",
              "      <td>C</td>\n",
              "    </tr>\n",
              "    <tr>\n",
              "      <th>2</th>\n",
              "      <td>3</td>\n",
              "      <td>1</td>\n",
              "      <td>3</td>\n",
              "      <td>female</td>\n",
              "      <td>26.0</td>\n",
              "      <td>0</td>\n",
              "      <td>0</td>\n",
              "      <td>7.9250</td>\n",
              "      <td>NaN</td>\n",
              "      <td>S</td>\n",
              "    </tr>\n",
              "    <tr>\n",
              "      <th>3</th>\n",
              "      <td>4</td>\n",
              "      <td>1</td>\n",
              "      <td>1</td>\n",
              "      <td>female</td>\n",
              "      <td>35.0</td>\n",
              "      <td>1</td>\n",
              "      <td>0</td>\n",
              "      <td>53.1000</td>\n",
              "      <td>C123</td>\n",
              "      <td>S</td>\n",
              "    </tr>\n",
              "    <tr>\n",
              "      <th>4</th>\n",
              "      <td>5</td>\n",
              "      <td>0</td>\n",
              "      <td>3</td>\n",
              "      <td>male</td>\n",
              "      <td>35.0</td>\n",
              "      <td>0</td>\n",
              "      <td>0</td>\n",
              "      <td>8.0500</td>\n",
              "      <td>NaN</td>\n",
              "      <td>S</td>\n",
              "    </tr>\n",
              "  </tbody>\n",
              "</table>\n",
              "</div>"
            ],
            "text/plain": [
              "   PassengerId  Survived  Pclass     Sex  ...  Parch     Fare  Cabin  Embarked\n",
              "0            1         0       3    male  ...      0   7.2500    NaN         S\n",
              "1            2         1       1  female  ...      0  71.2833    C85         C\n",
              "2            3         1       3  female  ...      0   7.9250    NaN         S\n",
              "3            4         1       1  female  ...      0  53.1000   C123         S\n",
              "4            5         0       3    male  ...      0   8.0500    NaN         S\n",
              "\n",
              "[5 rows x 10 columns]"
            ]
          },
          "metadata": {
            "tags": []
          },
          "execution_count": 4
        }
      ]
    },
    {
      "cell_type": "markdown",
      "metadata": {
        "id": "_FhDIOZIGGah"
      },
      "source": [
        "#### _Exercise 0.2_\n",
        "Do same as what you did in exercise #0.1 using `df.drop()` call. Using `inplace` option store output in primary data frame.\n",
        "\n",
        "Print head of dataset."
      ]
    },
    {
      "cell_type": "code",
      "metadata": {
        "id": "WUhf89VmGsz2",
        "colab": {
          "base_uri": "https://localhost:8080/"
        },
        "outputId": "5322c996-6b71-43cf-d372-5a1ae5658d4a"
      },
      "source": [
        "df.drop(columns=['Name','Ticket'], inplace=True)\n",
        "df.head()"
      ],
      "execution_count": null,
      "outputs": [
        {
          "output_type": "execute_result",
          "data": {
            "text/html": [
              "<div>\n",
              "<style scoped>\n",
              "    .dataframe tbody tr th:only-of-type {\n",
              "        vertical-align: middle;\n",
              "    }\n",
              "\n",
              "    .dataframe tbody tr th {\n",
              "        vertical-align: top;\n",
              "    }\n",
              "\n",
              "    .dataframe thead th {\n",
              "        text-align: right;\n",
              "    }\n",
              "</style>\n",
              "<table border=\"1\" class=\"dataframe\">\n",
              "  <thead>\n",
              "    <tr style=\"text-align: right;\">\n",
              "      <th></th>\n",
              "      <th>PassengerId</th>\n",
              "      <th>Survived</th>\n",
              "      <th>Pclass</th>\n",
              "      <th>Sex</th>\n",
              "      <th>Age</th>\n",
              "      <th>SibSp</th>\n",
              "      <th>Parch</th>\n",
              "      <th>Fare</th>\n",
              "      <th>Cabin</th>\n",
              "      <th>Embarked</th>\n",
              "    </tr>\n",
              "  </thead>\n",
              "  <tbody>\n",
              "    <tr>\n",
              "      <th>0</th>\n",
              "      <td>1</td>\n",
              "      <td>0</td>\n",
              "      <td>3</td>\n",
              "      <td>male</td>\n",
              "      <td>22.0</td>\n",
              "      <td>1</td>\n",
              "      <td>0</td>\n",
              "      <td>7.2500</td>\n",
              "      <td>NaN</td>\n",
              "      <td>S</td>\n",
              "    </tr>\n",
              "    <tr>\n",
              "      <th>1</th>\n",
              "      <td>2</td>\n",
              "      <td>1</td>\n",
              "      <td>1</td>\n",
              "      <td>female</td>\n",
              "      <td>38.0</td>\n",
              "      <td>1</td>\n",
              "      <td>0</td>\n",
              "      <td>71.2833</td>\n",
              "      <td>C85</td>\n",
              "      <td>C</td>\n",
              "    </tr>\n",
              "    <tr>\n",
              "      <th>2</th>\n",
              "      <td>3</td>\n",
              "      <td>1</td>\n",
              "      <td>3</td>\n",
              "      <td>female</td>\n",
              "      <td>26.0</td>\n",
              "      <td>0</td>\n",
              "      <td>0</td>\n",
              "      <td>7.9250</td>\n",
              "      <td>NaN</td>\n",
              "      <td>S</td>\n",
              "    </tr>\n",
              "    <tr>\n",
              "      <th>3</th>\n",
              "      <td>4</td>\n",
              "      <td>1</td>\n",
              "      <td>1</td>\n",
              "      <td>female</td>\n",
              "      <td>35.0</td>\n",
              "      <td>1</td>\n",
              "      <td>0</td>\n",
              "      <td>53.1000</td>\n",
              "      <td>C123</td>\n",
              "      <td>S</td>\n",
              "    </tr>\n",
              "    <tr>\n",
              "      <th>4</th>\n",
              "      <td>5</td>\n",
              "      <td>0</td>\n",
              "      <td>3</td>\n",
              "      <td>male</td>\n",
              "      <td>35.0</td>\n",
              "      <td>0</td>\n",
              "      <td>0</td>\n",
              "      <td>8.0500</td>\n",
              "      <td>NaN</td>\n",
              "      <td>S</td>\n",
              "    </tr>\n",
              "  </tbody>\n",
              "</table>\n",
              "</div>"
            ],
            "text/plain": [
              "   PassengerId  Survived  Pclass     Sex  ...  Parch     Fare  Cabin  Embarked\n",
              "0            1         0       3    male  ...      0   7.2500    NaN         S\n",
              "1            2         1       1  female  ...      0  71.2833    C85         C\n",
              "2            3         1       3  female  ...      0   7.9250    NaN         S\n",
              "3            4         1       1  female  ...      0  53.1000   C123         S\n",
              "4            5         0       3    male  ...      0   8.0500    NaN         S\n",
              "\n",
              "[5 rows x 10 columns]"
            ]
          },
          "metadata": {
            "tags": []
          },
          "execution_count": 5
        }
      ]
    },
    {
      "cell_type": "markdown",
      "metadata": {
        "id": "g2V5PgCeG-xX"
      },
      "source": [
        "#### _Exercise 0.3_\n",
        "Try `df.shape`, `df.info()` and `df.describe()` and print outputs."
      ]
    },
    {
      "cell_type": "code",
      "metadata": {
        "id": "OaHXL8rfLW3h",
        "colab": {
          "base_uri": "https://localhost:8080/"
        },
        "outputId": "c4d46d87-5b96-4e90-ebad-eba520199b5e"
      },
      "source": [
        "df.shape"
      ],
      "execution_count": null,
      "outputs": [
        {
          "output_type": "execute_result",
          "data": {
            "text/plain": [
              "(891, 10)"
            ]
          },
          "metadata": {
            "tags": []
          },
          "execution_count": 6
        }
      ]
    },
    {
      "cell_type": "code",
      "metadata": {
        "id": "TLojpJAgHkaw",
        "colab": {
          "base_uri": "https://localhost:8080/"
        },
        "outputId": "84de3d0e-58a5-4efb-ceb9-290e913f01cd"
      },
      "source": [
        "df.info()"
      ],
      "execution_count": null,
      "outputs": [
        {
          "output_type": "stream",
          "text": [
            "<class 'pandas.core.frame.DataFrame'>\n",
            "RangeIndex: 891 entries, 0 to 890\n",
            "Data columns (total 10 columns):\n",
            " #   Column       Non-Null Count  Dtype  \n",
            "---  ------       --------------  -----  \n",
            " 0   PassengerId  891 non-null    int64  \n",
            " 1   Survived     891 non-null    int64  \n",
            " 2   Pclass       891 non-null    int64  \n",
            " 3   Sex          891 non-null    object \n",
            " 4   Age          714 non-null    float64\n",
            " 5   SibSp        891 non-null    int64  \n",
            " 6   Parch        891 non-null    int64  \n",
            " 7   Fare         891 non-null    float64\n",
            " 8   Cabin        204 non-null    object \n",
            " 9   Embarked     889 non-null    object \n",
            "dtypes: float64(2), int64(5), object(3)\n",
            "memory usage: 69.7+ KB\n"
          ],
          "name": "stdout"
        }
      ]
    },
    {
      "cell_type": "code",
      "metadata": {
        "id": "msqLf3XFJews",
        "colab": {
          "base_uri": "https://localhost:8080/"
        },
        "outputId": "76e53c80-0e93-45c4-c9e9-ae996f3e4ac1"
      },
      "source": [
        "df.describe()"
      ],
      "execution_count": null,
      "outputs": [
        {
          "output_type": "execute_result",
          "data": {
            "text/html": [
              "<div>\n",
              "<style scoped>\n",
              "    .dataframe tbody tr th:only-of-type {\n",
              "        vertical-align: middle;\n",
              "    }\n",
              "\n",
              "    .dataframe tbody tr th {\n",
              "        vertical-align: top;\n",
              "    }\n",
              "\n",
              "    .dataframe thead th {\n",
              "        text-align: right;\n",
              "    }\n",
              "</style>\n",
              "<table border=\"1\" class=\"dataframe\">\n",
              "  <thead>\n",
              "    <tr style=\"text-align: right;\">\n",
              "      <th></th>\n",
              "      <th>PassengerId</th>\n",
              "      <th>Survived</th>\n",
              "      <th>Pclass</th>\n",
              "      <th>Age</th>\n",
              "      <th>SibSp</th>\n",
              "      <th>Parch</th>\n",
              "      <th>Fare</th>\n",
              "    </tr>\n",
              "  </thead>\n",
              "  <tbody>\n",
              "    <tr>\n",
              "      <th>count</th>\n",
              "      <td>891.000000</td>\n",
              "      <td>891.000000</td>\n",
              "      <td>891.000000</td>\n",
              "      <td>714.000000</td>\n",
              "      <td>891.000000</td>\n",
              "      <td>891.000000</td>\n",
              "      <td>891.000000</td>\n",
              "    </tr>\n",
              "    <tr>\n",
              "      <th>mean</th>\n",
              "      <td>446.000000</td>\n",
              "      <td>0.383838</td>\n",
              "      <td>2.308642</td>\n",
              "      <td>29.699118</td>\n",
              "      <td>0.523008</td>\n",
              "      <td>0.381594</td>\n",
              "      <td>32.204208</td>\n",
              "    </tr>\n",
              "    <tr>\n",
              "      <th>std</th>\n",
              "      <td>257.353842</td>\n",
              "      <td>0.486592</td>\n",
              "      <td>0.836071</td>\n",
              "      <td>14.526497</td>\n",
              "      <td>1.102743</td>\n",
              "      <td>0.806057</td>\n",
              "      <td>49.693429</td>\n",
              "    </tr>\n",
              "    <tr>\n",
              "      <th>min</th>\n",
              "      <td>1.000000</td>\n",
              "      <td>0.000000</td>\n",
              "      <td>1.000000</td>\n",
              "      <td>0.420000</td>\n",
              "      <td>0.000000</td>\n",
              "      <td>0.000000</td>\n",
              "      <td>0.000000</td>\n",
              "    </tr>\n",
              "    <tr>\n",
              "      <th>25%</th>\n",
              "      <td>223.500000</td>\n",
              "      <td>0.000000</td>\n",
              "      <td>2.000000</td>\n",
              "      <td>20.125000</td>\n",
              "      <td>0.000000</td>\n",
              "      <td>0.000000</td>\n",
              "      <td>7.910400</td>\n",
              "    </tr>\n",
              "    <tr>\n",
              "      <th>50%</th>\n",
              "      <td>446.000000</td>\n",
              "      <td>0.000000</td>\n",
              "      <td>3.000000</td>\n",
              "      <td>28.000000</td>\n",
              "      <td>0.000000</td>\n",
              "      <td>0.000000</td>\n",
              "      <td>14.454200</td>\n",
              "    </tr>\n",
              "    <tr>\n",
              "      <th>75%</th>\n",
              "      <td>668.500000</td>\n",
              "      <td>1.000000</td>\n",
              "      <td>3.000000</td>\n",
              "      <td>38.000000</td>\n",
              "      <td>1.000000</td>\n",
              "      <td>0.000000</td>\n",
              "      <td>31.000000</td>\n",
              "    </tr>\n",
              "    <tr>\n",
              "      <th>max</th>\n",
              "      <td>891.000000</td>\n",
              "      <td>1.000000</td>\n",
              "      <td>3.000000</td>\n",
              "      <td>80.000000</td>\n",
              "      <td>8.000000</td>\n",
              "      <td>6.000000</td>\n",
              "      <td>512.329200</td>\n",
              "    </tr>\n",
              "  </tbody>\n",
              "</table>\n",
              "</div>"
            ],
            "text/plain": [
              "       PassengerId    Survived      Pclass  ...       SibSp       Parch        Fare\n",
              "count   891.000000  891.000000  891.000000  ...  891.000000  891.000000  891.000000\n",
              "mean    446.000000    0.383838    2.308642  ...    0.523008    0.381594   32.204208\n",
              "std     257.353842    0.486592    0.836071  ...    1.102743    0.806057   49.693429\n",
              "min       1.000000    0.000000    1.000000  ...    0.000000    0.000000    0.000000\n",
              "25%     223.500000    0.000000    2.000000  ...    0.000000    0.000000    7.910400\n",
              "50%     446.000000    0.000000    3.000000  ...    0.000000    0.000000   14.454200\n",
              "75%     668.500000    1.000000    3.000000  ...    1.000000    0.000000   31.000000\n",
              "max     891.000000    1.000000    3.000000  ...    8.000000    6.000000  512.329200\n",
              "\n",
              "[8 rows x 7 columns]"
            ]
          },
          "metadata": {
            "tags": []
          },
          "execution_count": 8
        }
      ]
    },
    {
      "cell_type": "markdown",
      "metadata": {
        "id": "uALWdAzyHj6f"
      },
      "source": [
        "#### _Exercise 0.4_\n",
        "As you can see, columns `Age`, `Cabin` contain missed values. Find rows with missed values as `Age`, using `df.isna()` call. Then keep rows without missed values as `Age` by passing a boolean array as index. Store output in a new data frame.\n",
        "\n",
        "Once more see `df.shape` and `df.info` outputs."
      ]
    },
    {
      "cell_type": "code",
      "metadata": {
        "id": "ksw-MB8HK13H",
        "colab": {
          "base_uri": "https://localhost:8080/"
        },
        "outputId": "d9f80ac8-63b2-4432-a1b2-92a87182bf1d"
      },
      "source": [
        "missed_age = df.Age.isna()\n",
        "new_df = df[~missed_age]\n",
        "new_df.shape"
      ],
      "execution_count": null,
      "outputs": [
        {
          "output_type": "execute_result",
          "data": {
            "text/plain": [
              "(714, 10)"
            ]
          },
          "metadata": {
            "tags": []
          },
          "execution_count": 9
        }
      ]
    },
    {
      "cell_type": "code",
      "metadata": {
        "id": "t53PKgIFLiJv",
        "colab": {
          "base_uri": "https://localhost:8080/"
        },
        "outputId": "92931372-8a3e-4ce5-b0bd-6d5ca9b4c6e1"
      },
      "source": [
        "new_df.info()"
      ],
      "execution_count": null,
      "outputs": [
        {
          "output_type": "stream",
          "text": [
            "<class 'pandas.core.frame.DataFrame'>\n",
            "Int64Index: 714 entries, 0 to 890\n",
            "Data columns (total 10 columns):\n",
            " #   Column       Non-Null Count  Dtype  \n",
            "---  ------       --------------  -----  \n",
            " 0   PassengerId  714 non-null    int64  \n",
            " 1   Survived     714 non-null    int64  \n",
            " 2   Pclass       714 non-null    int64  \n",
            " 3   Sex          714 non-null    object \n",
            " 4   Age          714 non-null    float64\n",
            " 5   SibSp        714 non-null    int64  \n",
            " 6   Parch        714 non-null    int64  \n",
            " 7   Fare         714 non-null    float64\n",
            " 8   Cabin        185 non-null    object \n",
            " 9   Embarked     712 non-null    object \n",
            "dtypes: float64(2), int64(5), object(3)\n",
            "memory usage: 61.4+ KB\n"
          ],
          "name": "stdout"
        }
      ]
    },
    {
      "cell_type": "markdown",
      "metadata": {
        "id": "OLmOYLC1MVs7"
      },
      "source": [
        "#### _Exercise 0.5_\n",
        "Do same as what you did in exercise #0.4 using `df.dropna()` call. You need to use `subset` attribute. Using `inplace` option store output in primary data frame. Print `df.info()` again."
      ]
    },
    {
      "cell_type": "code",
      "metadata": {
        "id": "sA4YCycANKD6",
        "colab": {
          "base_uri": "https://localhost:8080/"
        },
        "outputId": "45eed439-3b01-430f-f9d0-99fb4aac6de6"
      },
      "source": [
        "df.dropna(subset=['Age'], inplace=True)\n",
        "df.shape"
      ],
      "execution_count": null,
      "outputs": [
        {
          "output_type": "execute_result",
          "data": {
            "text/plain": [
              "(714, 10)"
            ]
          },
          "metadata": {
            "tags": []
          },
          "execution_count": 11
        }
      ]
    },
    {
      "cell_type": "markdown",
      "metadata": {
        "id": "WsBdsJmYFyI-"
      },
      "source": [
        "#### _Exercise 0.6_\n",
        "We just need to know if `Cabin` property is fill or not. So replace values of `Cabin` column with booleans showing this property was exists or not. Use `pd.notna()` call. Print head of dataset."
      ]
    },
    {
      "cell_type": "code",
      "metadata": {
        "id": "nG9tnqZISTyu",
        "colab": {
          "base_uri": "https://localhost:8080/"
        },
        "outputId": "6934125f-b7da-46fd-91a5-e0eab710ff00"
      },
      "source": [
        "df.Cabin = pd.notna(df.Cabin)\n",
        "df.head()"
      ],
      "execution_count": null,
      "outputs": [
        {
          "output_type": "execute_result",
          "data": {
            "text/html": [
              "<div>\n",
              "<style scoped>\n",
              "    .dataframe tbody tr th:only-of-type {\n",
              "        vertical-align: middle;\n",
              "    }\n",
              "\n",
              "    .dataframe tbody tr th {\n",
              "        vertical-align: top;\n",
              "    }\n",
              "\n",
              "    .dataframe thead th {\n",
              "        text-align: right;\n",
              "    }\n",
              "</style>\n",
              "<table border=\"1\" class=\"dataframe\">\n",
              "  <thead>\n",
              "    <tr style=\"text-align: right;\">\n",
              "      <th></th>\n",
              "      <th>PassengerId</th>\n",
              "      <th>Survived</th>\n",
              "      <th>Pclass</th>\n",
              "      <th>Sex</th>\n",
              "      <th>Age</th>\n",
              "      <th>SibSp</th>\n",
              "      <th>Parch</th>\n",
              "      <th>Fare</th>\n",
              "      <th>Cabin</th>\n",
              "      <th>Embarked</th>\n",
              "    </tr>\n",
              "  </thead>\n",
              "  <tbody>\n",
              "    <tr>\n",
              "      <th>0</th>\n",
              "      <td>1</td>\n",
              "      <td>0</td>\n",
              "      <td>3</td>\n",
              "      <td>male</td>\n",
              "      <td>22.0</td>\n",
              "      <td>1</td>\n",
              "      <td>0</td>\n",
              "      <td>7.2500</td>\n",
              "      <td>False</td>\n",
              "      <td>S</td>\n",
              "    </tr>\n",
              "    <tr>\n",
              "      <th>1</th>\n",
              "      <td>2</td>\n",
              "      <td>1</td>\n",
              "      <td>1</td>\n",
              "      <td>female</td>\n",
              "      <td>38.0</td>\n",
              "      <td>1</td>\n",
              "      <td>0</td>\n",
              "      <td>71.2833</td>\n",
              "      <td>True</td>\n",
              "      <td>C</td>\n",
              "    </tr>\n",
              "    <tr>\n",
              "      <th>2</th>\n",
              "      <td>3</td>\n",
              "      <td>1</td>\n",
              "      <td>3</td>\n",
              "      <td>female</td>\n",
              "      <td>26.0</td>\n",
              "      <td>0</td>\n",
              "      <td>0</td>\n",
              "      <td>7.9250</td>\n",
              "      <td>False</td>\n",
              "      <td>S</td>\n",
              "    </tr>\n",
              "    <tr>\n",
              "      <th>3</th>\n",
              "      <td>4</td>\n",
              "      <td>1</td>\n",
              "      <td>1</td>\n",
              "      <td>female</td>\n",
              "      <td>35.0</td>\n",
              "      <td>1</td>\n",
              "      <td>0</td>\n",
              "      <td>53.1000</td>\n",
              "      <td>True</td>\n",
              "      <td>S</td>\n",
              "    </tr>\n",
              "    <tr>\n",
              "      <th>4</th>\n",
              "      <td>5</td>\n",
              "      <td>0</td>\n",
              "      <td>3</td>\n",
              "      <td>male</td>\n",
              "      <td>35.0</td>\n",
              "      <td>0</td>\n",
              "      <td>0</td>\n",
              "      <td>8.0500</td>\n",
              "      <td>False</td>\n",
              "      <td>S</td>\n",
              "    </tr>\n",
              "  </tbody>\n",
              "</table>\n",
              "</div>"
            ],
            "text/plain": [
              "   PassengerId  Survived  Pclass     Sex  ...  Parch     Fare  Cabin  Embarked\n",
              "0            1         0       3    male  ...      0   7.2500  False         S\n",
              "1            2         1       1  female  ...      0  71.2833   True         C\n",
              "2            3         1       3  female  ...      0   7.9250  False         S\n",
              "3            4         1       1  female  ...      0  53.1000   True         S\n",
              "4            5         0       3    male  ...      0   8.0500  False         S\n",
              "\n",
              "[5 rows x 10 columns]"
            ]
          },
          "metadata": {
            "tags": []
          },
          "execution_count": 12
        }
      ]
    },
    {
      "cell_type": "markdown",
      "metadata": {
        "id": "6kIPpTaZU7id"
      },
      "source": [
        "#### _Exercise 0.7_\n",
        "Hpefuly, there is not any other missed value in dataset. Check it out (call `df.info()`). If there exists missed value yet, Using `df.dropna()` call with `how='any'` attribute, drop them all and set `inplace` to store changes in dataframe."
      ]
    },
    {
      "cell_type": "code",
      "metadata": {
        "id": "UCkVL-o5UOqJ",
        "colab": {
          "base_uri": "https://localhost:8080/"
        },
        "outputId": "7cbf8cd5-ef20-4d7f-966e-12aef107eb27"
      },
      "source": [
        "df.info()"
      ],
      "execution_count": null,
      "outputs": [
        {
          "output_type": "stream",
          "text": [
            "<class 'pandas.core.frame.DataFrame'>\n",
            "Int64Index: 714 entries, 0 to 890\n",
            "Data columns (total 10 columns):\n",
            " #   Column       Non-Null Count  Dtype  \n",
            "---  ------       --------------  -----  \n",
            " 0   PassengerId  714 non-null    int64  \n",
            " 1   Survived     714 non-null    int64  \n",
            " 2   Pclass       714 non-null    int64  \n",
            " 3   Sex          714 non-null    object \n",
            " 4   Age          714 non-null    float64\n",
            " 5   SibSp        714 non-null    int64  \n",
            " 6   Parch        714 non-null    int64  \n",
            " 7   Fare         714 non-null    float64\n",
            " 8   Cabin        714 non-null    bool   \n",
            " 9   Embarked     712 non-null    object \n",
            "dtypes: bool(1), float64(2), int64(5), object(2)\n",
            "memory usage: 56.5+ KB\n"
          ],
          "name": "stdout"
        }
      ]
    },
    {
      "cell_type": "code",
      "metadata": {
        "id": "AIhUQsDsVXFN",
        "colab": {
          "base_uri": "https://localhost:8080/"
        },
        "outputId": "2945be77-3586-4431-886f-6fed8ae6c48b"
      },
      "source": [
        "df.dropna(how='any', inplace=True)\n",
        "df.info()"
      ],
      "execution_count": null,
      "outputs": [
        {
          "output_type": "stream",
          "text": [
            "<class 'pandas.core.frame.DataFrame'>\n",
            "Int64Index: 712 entries, 0 to 890\n",
            "Data columns (total 10 columns):\n",
            " #   Column       Non-Null Count  Dtype  \n",
            "---  ------       --------------  -----  \n",
            " 0   PassengerId  712 non-null    int64  \n",
            " 1   Survived     712 non-null    int64  \n",
            " 2   Pclass       712 non-null    int64  \n",
            " 3   Sex          712 non-null    object \n",
            " 4   Age          712 non-null    float64\n",
            " 5   SibSp        712 non-null    int64  \n",
            " 6   Parch        712 non-null    int64  \n",
            " 7   Fare         712 non-null    float64\n",
            " 8   Cabin        712 non-null    bool   \n",
            " 9   Embarked     712 non-null    object \n",
            "dtypes: bool(1), float64(2), int64(5), object(2)\n",
            "memory usage: 56.3+ KB\n"
          ],
          "name": "stdout"
        }
      ]
    },
    {
      "cell_type": "markdown",
      "metadata": {
        "id": "yS_vVxyFSsw3"
      },
      "source": [
        "#### _Exercise 0.8_\n",
        "`Sex` column contans just `male` of `female` values. Not easy to work with this type. Using `df.column == value`, cast values to booleans showing `Sex == 'male'`. Then cast it to integers using `.astype()` call and store it in same column. Print head of dataset."
      ]
    },
    {
      "cell_type": "code",
      "metadata": {
        "id": "M6-kD1GqTqTC",
        "colab": {
          "base_uri": "https://localhost:8080/"
        },
        "outputId": "78b95e30-b958-4b54-f5c9-6843980e3cee"
      },
      "source": [
        "df.Sex = (df.Sex == 'male').astype(int)\n",
        "df.head()"
      ],
      "execution_count": null,
      "outputs": [
        {
          "output_type": "execute_result",
          "data": {
            "text/html": [
              "<div>\n",
              "<style scoped>\n",
              "    .dataframe tbody tr th:only-of-type {\n",
              "        vertical-align: middle;\n",
              "    }\n",
              "\n",
              "    .dataframe tbody tr th {\n",
              "        vertical-align: top;\n",
              "    }\n",
              "\n",
              "    .dataframe thead th {\n",
              "        text-align: right;\n",
              "    }\n",
              "</style>\n",
              "<table border=\"1\" class=\"dataframe\">\n",
              "  <thead>\n",
              "    <tr style=\"text-align: right;\">\n",
              "      <th></th>\n",
              "      <th>PassengerId</th>\n",
              "      <th>Survived</th>\n",
              "      <th>Pclass</th>\n",
              "      <th>Sex</th>\n",
              "      <th>Age</th>\n",
              "      <th>SibSp</th>\n",
              "      <th>Parch</th>\n",
              "      <th>Fare</th>\n",
              "      <th>Cabin</th>\n",
              "      <th>Embarked</th>\n",
              "    </tr>\n",
              "  </thead>\n",
              "  <tbody>\n",
              "    <tr>\n",
              "      <th>0</th>\n",
              "      <td>1</td>\n",
              "      <td>0</td>\n",
              "      <td>3</td>\n",
              "      <td>1</td>\n",
              "      <td>22.0</td>\n",
              "      <td>1</td>\n",
              "      <td>0</td>\n",
              "      <td>7.2500</td>\n",
              "      <td>False</td>\n",
              "      <td>S</td>\n",
              "    </tr>\n",
              "    <tr>\n",
              "      <th>1</th>\n",
              "      <td>2</td>\n",
              "      <td>1</td>\n",
              "      <td>1</td>\n",
              "      <td>0</td>\n",
              "      <td>38.0</td>\n",
              "      <td>1</td>\n",
              "      <td>0</td>\n",
              "      <td>71.2833</td>\n",
              "      <td>True</td>\n",
              "      <td>C</td>\n",
              "    </tr>\n",
              "    <tr>\n",
              "      <th>2</th>\n",
              "      <td>3</td>\n",
              "      <td>1</td>\n",
              "      <td>3</td>\n",
              "      <td>0</td>\n",
              "      <td>26.0</td>\n",
              "      <td>0</td>\n",
              "      <td>0</td>\n",
              "      <td>7.9250</td>\n",
              "      <td>False</td>\n",
              "      <td>S</td>\n",
              "    </tr>\n",
              "    <tr>\n",
              "      <th>3</th>\n",
              "      <td>4</td>\n",
              "      <td>1</td>\n",
              "      <td>1</td>\n",
              "      <td>0</td>\n",
              "      <td>35.0</td>\n",
              "      <td>1</td>\n",
              "      <td>0</td>\n",
              "      <td>53.1000</td>\n",
              "      <td>True</td>\n",
              "      <td>S</td>\n",
              "    </tr>\n",
              "    <tr>\n",
              "      <th>4</th>\n",
              "      <td>5</td>\n",
              "      <td>0</td>\n",
              "      <td>3</td>\n",
              "      <td>1</td>\n",
              "      <td>35.0</td>\n",
              "      <td>0</td>\n",
              "      <td>0</td>\n",
              "      <td>8.0500</td>\n",
              "      <td>False</td>\n",
              "      <td>S</td>\n",
              "    </tr>\n",
              "  </tbody>\n",
              "</table>\n",
              "</div>"
            ],
            "text/plain": [
              "   PassengerId  Survived  Pclass  Sex  ...  Parch     Fare  Cabin  Embarked\n",
              "0            1         0       3    1  ...      0   7.2500  False         S\n",
              "1            2         1       1    0  ...      0  71.2833   True         C\n",
              "2            3         1       3    0  ...      0   7.9250  False         S\n",
              "3            4         1       1    0  ...      0  53.1000   True         S\n",
              "4            5         0       3    1  ...      0   8.0500  False         S\n",
              "\n",
              "[5 rows x 10 columns]"
            ]
          },
          "metadata": {
            "tags": []
          },
          "execution_count": 15
        }
      ]
    },
    {
      "cell_type": "markdown",
      "metadata": {
        "id": "EyP-SS03TxuO"
      },
      "source": [
        "#### _Exercise 0.9_\n",
        "Another column needs casting is `Embarked`. First lest find out wich values int can contains. Use `.unique()` call and store its output as `embarked_categories` (print it). Then iterate over it using `enumerate` and replace values in `df.Embarked` with output index of `enumerate`. Print head of dataset."
      ]
    },
    {
      "cell_type": "code",
      "metadata": {
        "id": "C1OGYNwxUpxF",
        "colab": {
          "base_uri": "https://localhost:8080/"
        },
        "outputId": "bffb075f-c00f-4be8-979a-fd913d932720"
      },
      "source": [
        "embarked_categories = df.Embarked.unique()\n",
        "embarked_categories"
      ],
      "execution_count": null,
      "outputs": [
        {
          "output_type": "execute_result",
          "data": {
            "text/plain": [
              "array(['S', 'C', 'Q'], dtype=object)"
            ]
          },
          "metadata": {
            "tags": []
          },
          "execution_count": 16
        }
      ]
    },
    {
      "cell_type": "code",
      "metadata": {
        "id": "tkzCuKgVUi4w",
        "colab": {
          "base_uri": "https://localhost:8080/"
        },
        "outputId": "fc28d620-a99b-461e-c0ca-163e7b4e8f5d"
      },
      "source": [
        "for i,c in enumerate(embarked_categories) :\n",
        "  df.Embarked[df.Embarked == c] = i\n",
        "df.head()"
      ],
      "execution_count": null,
      "outputs": [
        {
          "output_type": "stream",
          "text": [
            "/usr/local/lib/python3.6/dist-packages/ipykernel_launcher.py:2: SettingWithCopyWarning: \n",
            "A value is trying to be set on a copy of a slice from a DataFrame\n",
            "\n",
            "See the caveats in the documentation: https://pandas.pydata.org/pandas-docs/stable/user_guide/indexing.html#returning-a-view-versus-a-copy\n",
            "  \n"
          ],
          "name": "stderr"
        },
        {
          "output_type": "execute_result",
          "data": {
            "text/html": [
              "<div>\n",
              "<style scoped>\n",
              "    .dataframe tbody tr th:only-of-type {\n",
              "        vertical-align: middle;\n",
              "    }\n",
              "\n",
              "    .dataframe tbody tr th {\n",
              "        vertical-align: top;\n",
              "    }\n",
              "\n",
              "    .dataframe thead th {\n",
              "        text-align: right;\n",
              "    }\n",
              "</style>\n",
              "<table border=\"1\" class=\"dataframe\">\n",
              "  <thead>\n",
              "    <tr style=\"text-align: right;\">\n",
              "      <th></th>\n",
              "      <th>PassengerId</th>\n",
              "      <th>Survived</th>\n",
              "      <th>Pclass</th>\n",
              "      <th>Sex</th>\n",
              "      <th>Age</th>\n",
              "      <th>SibSp</th>\n",
              "      <th>Parch</th>\n",
              "      <th>Fare</th>\n",
              "      <th>Cabin</th>\n",
              "      <th>Embarked</th>\n",
              "    </tr>\n",
              "  </thead>\n",
              "  <tbody>\n",
              "    <tr>\n",
              "      <th>0</th>\n",
              "      <td>1</td>\n",
              "      <td>0</td>\n",
              "      <td>3</td>\n",
              "      <td>1</td>\n",
              "      <td>22.0</td>\n",
              "      <td>1</td>\n",
              "      <td>0</td>\n",
              "      <td>7.2500</td>\n",
              "      <td>False</td>\n",
              "      <td>0</td>\n",
              "    </tr>\n",
              "    <tr>\n",
              "      <th>1</th>\n",
              "      <td>2</td>\n",
              "      <td>1</td>\n",
              "      <td>1</td>\n",
              "      <td>0</td>\n",
              "      <td>38.0</td>\n",
              "      <td>1</td>\n",
              "      <td>0</td>\n",
              "      <td>71.2833</td>\n",
              "      <td>True</td>\n",
              "      <td>1</td>\n",
              "    </tr>\n",
              "    <tr>\n",
              "      <th>2</th>\n",
              "      <td>3</td>\n",
              "      <td>1</td>\n",
              "      <td>3</td>\n",
              "      <td>0</td>\n",
              "      <td>26.0</td>\n",
              "      <td>0</td>\n",
              "      <td>0</td>\n",
              "      <td>7.9250</td>\n",
              "      <td>False</td>\n",
              "      <td>0</td>\n",
              "    </tr>\n",
              "    <tr>\n",
              "      <th>3</th>\n",
              "      <td>4</td>\n",
              "      <td>1</td>\n",
              "      <td>1</td>\n",
              "      <td>0</td>\n",
              "      <td>35.0</td>\n",
              "      <td>1</td>\n",
              "      <td>0</td>\n",
              "      <td>53.1000</td>\n",
              "      <td>True</td>\n",
              "      <td>0</td>\n",
              "    </tr>\n",
              "    <tr>\n",
              "      <th>4</th>\n",
              "      <td>5</td>\n",
              "      <td>0</td>\n",
              "      <td>3</td>\n",
              "      <td>1</td>\n",
              "      <td>35.0</td>\n",
              "      <td>0</td>\n",
              "      <td>0</td>\n",
              "      <td>8.0500</td>\n",
              "      <td>False</td>\n",
              "      <td>0</td>\n",
              "    </tr>\n",
              "  </tbody>\n",
              "</table>\n",
              "</div>"
            ],
            "text/plain": [
              "   PassengerId  Survived  Pclass  Sex  ...  Parch     Fare  Cabin  Embarked\n",
              "0            1         0       3    1  ...      0   7.2500  False         0\n",
              "1            2         1       1    0  ...      0  71.2833   True         1\n",
              "2            3         1       3    0  ...      0   7.9250  False         0\n",
              "3            4         1       1    0  ...      0  53.1000   True         0\n",
              "4            5         0       3    1  ...      0   8.0500  False         0\n",
              "\n",
              "[5 rows x 10 columns]"
            ]
          },
          "metadata": {
            "tags": []
          },
          "execution_count": 17
        }
      ]
    },
    {
      "cell_type": "markdown",
      "metadata": {
        "id": "3wxVmfjYWnEQ"
      },
      "source": [
        "#### _Exercise 0.10_\n",
        "Print folowing requirements :\n",
        "* Number of survivers using `.sum()` of `Survived` column.\n",
        "* Mean of `Fare` column  using `.mean()`.\n",
        "* Mean age of survived and not survived passengers.\n",
        "* Number of males, femails, not survived males and not survived femails.\n",
        "* Mean age of survived males thouse had cabins."
      ]
    },
    {
      "cell_type": "code",
      "metadata": {
        "id": "BkJ2KN4cWs3t",
        "colab": {
          "base_uri": "https://localhost:8080/"
        },
        "outputId": "3f3dca61-b36c-4680-fb33-9137c9a611c8"
      },
      "source": [
        "print(df.Survived.sum())\n",
        "print(df.Fare.mean())\n",
        "print(df[df.Survived.astype(bool)].Age.mean(), df[~df.Survived.astype(bool)].Age.mean())\n",
        "print(df[df.Sex.astype(bool)].shape[0], df[~df.Sex.astype(bool)].shape[0], \n",
        "      df[df.Sex & ~df.Survived.astype(bool)].shape[0], df[~df.Sex & ~df.Survived.astype(bool)].shape[0])\n",
        "print(df[df.Survived.astype(bool) & df.Sex.astype(bool) & df.Cabin].Age.mean())"
      ],
      "execution_count": null,
      "outputs": [
        {
          "output_type": "stream",
          "text": [
            "288\n",
            "34.56725140449432\n",
            "28.19329861111111 30.62617924528302\n",
            "453 259 360 64\n",
            "32.60780487804878\n"
          ],
          "name": "stdout"
        }
      ]
    },
    {
      "cell_type": "markdown",
      "metadata": {
        "id": "pfUS-8yhaaq8"
      },
      "source": [
        "#### _Exercise 0.11_\n",
        "Make a subset of dataset containing `PassengerId` and `Survived` columns of female passengers thouse had Cabin and were more than 20 years old. Store result in a new dataframe name `temp` and print head of this subset. Check `index` and `PassengerId`."
      ]
    },
    {
      "cell_type": "code",
      "metadata": {
        "id": "t9ORb9jqZuiw",
        "colab": {
          "base_uri": "https://localhost:8080/"
        },
        "outputId": "f9ecca4e-d4ca-417e-d9a4-b70d6803f138"
      },
      "source": [
        "temp = df[['PassengerId', 'Survived']][~df.Sex.astype(bool) & df.Cabin & (df.Age > 20)]\n",
        "temp.head()"
      ],
      "execution_count": null,
      "outputs": [
        {
          "output_type": "execute_result",
          "data": {
            "text/html": [
              "<div>\n",
              "<style scoped>\n",
              "    .dataframe tbody tr th:only-of-type {\n",
              "        vertical-align: middle;\n",
              "    }\n",
              "\n",
              "    .dataframe tbody tr th {\n",
              "        vertical-align: top;\n",
              "    }\n",
              "\n",
              "    .dataframe thead th {\n",
              "        text-align: right;\n",
              "    }\n",
              "</style>\n",
              "<table border=\"1\" class=\"dataframe\">\n",
              "  <thead>\n",
              "    <tr style=\"text-align: right;\">\n",
              "      <th></th>\n",
              "      <th>PassengerId</th>\n",
              "      <th>Survived</th>\n",
              "    </tr>\n",
              "  </thead>\n",
              "  <tbody>\n",
              "    <tr>\n",
              "      <th>1</th>\n",
              "      <td>2</td>\n",
              "      <td>1</td>\n",
              "    </tr>\n",
              "    <tr>\n",
              "      <th>3</th>\n",
              "      <td>4</td>\n",
              "      <td>1</td>\n",
              "    </tr>\n",
              "    <tr>\n",
              "      <th>11</th>\n",
              "      <td>12</td>\n",
              "      <td>1</td>\n",
              "    </tr>\n",
              "    <tr>\n",
              "      <th>52</th>\n",
              "      <td>53</td>\n",
              "      <td>1</td>\n",
              "    </tr>\n",
              "    <tr>\n",
              "      <th>66</th>\n",
              "      <td>67</td>\n",
              "      <td>1</td>\n",
              "    </tr>\n",
              "  </tbody>\n",
              "</table>\n",
              "</div>"
            ],
            "text/plain": [
              "    PassengerId  Survived\n",
              "1             2         1\n",
              "3             4         1\n",
              "11           12         1\n",
              "52           53         1\n",
              "66           67         1"
            ]
          },
          "metadata": {
            "tags": []
          },
          "execution_count": 19
        }
      ]
    },
    {
      "cell_type": "markdown",
      "metadata": {
        "id": "eJx5QCdfdvrn"
      },
      "source": [
        "#### _Exercise 0.12_\n",
        "Save output dataframe of exercise #0.9 in a file named _\"clean_titanic.csv\"_ using `.to_csv()` file. Set `index` attribute to `False`."
      ]
    },
    {
      "cell_type": "code",
      "metadata": {
        "id": "LqVBLeloec89"
      },
      "source": [
        "df.to_csv('clean_titanic.csv', index=False)"
      ],
      "execution_count": null,
      "outputs": []
    },
    {
      "cell_type": "markdown",
      "metadata": {
        "id": "kM03cDmsRa-N"
      },
      "source": [
        "### **Lecture 1 : Numpy**"
      ]
    },
    {
      "cell_type": "markdown",
      "metadata": {
        "id": "OmVsW7b6fMEr"
      },
      "source": [
        "Read _\"clean_titanic.csv\"_ dataset you provided in lecture #0, and store it as dataframe `df`. We will use its data in this lecture. Keep in mind, exercises are sequential and output of each exercise will be used in next exercises."
      ]
    },
    {
      "cell_type": "code",
      "metadata": {
        "id": "qOFxQ7zNka2C",
        "colab": {
          "base_uri": "https://localhost:8080/"
        },
        "outputId": "e7555cbf-481c-4ddb-ab84-f7dace5617e7"
      },
      "source": [
        "import numpy as np\n",
        "import pandas as pd\n",
        "\n",
        "df = pd.read_csv('clean_titanic.csv')\n",
        "df.head()"
      ],
      "execution_count": null,
      "outputs": [
        {
          "output_type": "execute_result",
          "data": {
            "text/html": [
              "<div>\n",
              "<style scoped>\n",
              "    .dataframe tbody tr th:only-of-type {\n",
              "        vertical-align: middle;\n",
              "    }\n",
              "\n",
              "    .dataframe tbody tr th {\n",
              "        vertical-align: top;\n",
              "    }\n",
              "\n",
              "    .dataframe thead th {\n",
              "        text-align: right;\n",
              "    }\n",
              "</style>\n",
              "<table border=\"1\" class=\"dataframe\">\n",
              "  <thead>\n",
              "    <tr style=\"text-align: right;\">\n",
              "      <th></th>\n",
              "      <th>PassengerId</th>\n",
              "      <th>Survived</th>\n",
              "      <th>Pclass</th>\n",
              "      <th>Sex</th>\n",
              "      <th>Age</th>\n",
              "      <th>SibSp</th>\n",
              "      <th>Parch</th>\n",
              "      <th>Fare</th>\n",
              "      <th>Cabin</th>\n",
              "      <th>Embarked</th>\n",
              "    </tr>\n",
              "  </thead>\n",
              "  <tbody>\n",
              "    <tr>\n",
              "      <th>0</th>\n",
              "      <td>1</td>\n",
              "      <td>0</td>\n",
              "      <td>3</td>\n",
              "      <td>1</td>\n",
              "      <td>22.0</td>\n",
              "      <td>1</td>\n",
              "      <td>0</td>\n",
              "      <td>7.2500</td>\n",
              "      <td>False</td>\n",
              "      <td>0</td>\n",
              "    </tr>\n",
              "    <tr>\n",
              "      <th>1</th>\n",
              "      <td>2</td>\n",
              "      <td>1</td>\n",
              "      <td>1</td>\n",
              "      <td>0</td>\n",
              "      <td>38.0</td>\n",
              "      <td>1</td>\n",
              "      <td>0</td>\n",
              "      <td>71.2833</td>\n",
              "      <td>True</td>\n",
              "      <td>1</td>\n",
              "    </tr>\n",
              "    <tr>\n",
              "      <th>2</th>\n",
              "      <td>3</td>\n",
              "      <td>1</td>\n",
              "      <td>3</td>\n",
              "      <td>0</td>\n",
              "      <td>26.0</td>\n",
              "      <td>0</td>\n",
              "      <td>0</td>\n",
              "      <td>7.9250</td>\n",
              "      <td>False</td>\n",
              "      <td>0</td>\n",
              "    </tr>\n",
              "    <tr>\n",
              "      <th>3</th>\n",
              "      <td>4</td>\n",
              "      <td>1</td>\n",
              "      <td>1</td>\n",
              "      <td>0</td>\n",
              "      <td>35.0</td>\n",
              "      <td>1</td>\n",
              "      <td>0</td>\n",
              "      <td>53.1000</td>\n",
              "      <td>True</td>\n",
              "      <td>0</td>\n",
              "    </tr>\n",
              "    <tr>\n",
              "      <th>4</th>\n",
              "      <td>5</td>\n",
              "      <td>0</td>\n",
              "      <td>3</td>\n",
              "      <td>1</td>\n",
              "      <td>35.0</td>\n",
              "      <td>0</td>\n",
              "      <td>0</td>\n",
              "      <td>8.0500</td>\n",
              "      <td>False</td>\n",
              "      <td>0</td>\n",
              "    </tr>\n",
              "  </tbody>\n",
              "</table>\n",
              "</div>"
            ],
            "text/plain": [
              "   PassengerId  Survived  Pclass  Sex  ...  Parch     Fare  Cabin  Embarked\n",
              "0            1         0       3    1  ...      0   7.2500  False         0\n",
              "1            2         1       1    0  ...      0  71.2833   True         1\n",
              "2            3         1       3    0  ...      0   7.9250  False         0\n",
              "3            4         1       1    0  ...      0  53.1000   True         0\n",
              "4            5         0       3    1  ...      0   8.0500  False         0\n",
              "\n",
              "[5 rows x 10 columns]"
            ]
          },
          "metadata": {
            "tags": []
          },
          "execution_count": 21
        }
      ]
    },
    {
      "cell_type": "markdown",
      "metadata": {
        "id": "2AaNeV7EfhRf"
      },
      "source": [
        "#### _Exercise 1.0_\n",
        "Store `Age` column of titanic dataframe in a numpy array named _\"ages\"_. Use `.values`. Print first 5 items and length of array (`.shape`)."
      ]
    },
    {
      "cell_type": "code",
      "metadata": {
        "id": "vrFmeLWrfhRi",
        "colab": {
          "base_uri": "https://localhost:8080/"
        },
        "outputId": "53d363b8-6ddc-4637-fcab-0c2ccfacaf5c"
      },
      "source": [
        "ages = df.Age.values\n",
        "print(ages[:5])\n",
        "print(ages.shape)"
      ],
      "execution_count": null,
      "outputs": [
        {
          "output_type": "stream",
          "text": [
            "[22. 38. 26. 35. 35.]\n",
            "(712,)\n"
          ],
          "name": "stdout"
        }
      ]
    },
    {
      "cell_type": "markdown",
      "metadata": {
        "id": "gXBmUL4anIwY"
      },
      "source": [
        "#### _Exercise 1.1_\n",
        "Print average and variance of ages using `.mean()` and `.var()`."
      ]
    },
    {
      "cell_type": "code",
      "metadata": {
        "id": "b1fJCTrhmzw3",
        "colab": {
          "base_uri": "https://localhost:8080/"
        },
        "outputId": "eec3caf2-014b-453c-bfd7-daba521e876c"
      },
      "source": [
        "ages.mean(), ages.var()"
      ],
      "execution_count": null,
      "outputs": [
        {
          "output_type": "execute_result",
          "data": {
            "text/plain": [
              "(29.64209269662921, 209.7500968846658)"
            ]
          },
          "metadata": {
            "tags": []
          },
          "execution_count": 23
        }
      ]
    },
    {
      "cell_type": "markdown",
      "metadata": {
        "id": "Hqlsph2pnqh2"
      },
      "source": [
        "#### _Exercise 1.2_\n",
        "Make a boolean array (name it `is_young`) of ages. Cast passengers older than 20 to `False` and others to `True`. Use compression operators on array. DONT USE LOOPS. Print first 5 items and length of `is_young` array."
      ]
    },
    {
      "cell_type": "code",
      "metadata": {
        "id": "iLzHhexPnV_h",
        "colab": {
          "base_uri": "https://localhost:8080/"
        },
        "outputId": "6f958973-aca6-4389-9572-6a4c4a8865d3"
      },
      "source": [
        "is_young = ages < 20\n",
        "print(is_young[:5])\n",
        "print(is_young.shape)"
      ],
      "execution_count": null,
      "outputs": [
        {
          "output_type": "stream",
          "text": [
            "[False False False False False]\n",
            "(712,)\n"
          ],
          "name": "stdout"
        }
      ]
    },
    {
      "cell_type": "markdown",
      "metadata": {
        "id": "w1HUclDlqxfy"
      },
      "source": [
        "#### _Exercise 1.3_\n",
        "Calculate Total passenger fare by creating a numpy array of `Fare` column in titanic dataframe and call `.sum()` on it."
      ]
    },
    {
      "cell_type": "code",
      "metadata": {
        "id": "k2M9RftjrYNr",
        "colab": {
          "base_uri": "https://localhost:8080/"
        },
        "outputId": "93afa6f5-4e2b-4861-d40a-973f32383869"
      },
      "source": [
        "df.Fare.values.sum()"
      ],
      "execution_count": null,
      "outputs": [
        {
          "output_type": "execute_result",
          "data": {
            "text/plain": [
              "24611.883"
            ]
          },
          "metadata": {
            "tags": []
          },
          "execution_count": 25
        }
      ]
    },
    {
      "cell_type": "markdown",
      "metadata": {
        "id": "kP7UiJvhppot"
      },
      "source": [
        "#### _Exercise 1.4_\n",
        "Count number of passengers younger than 21 using `.sum()` on `is_young`."
      ]
    },
    {
      "cell_type": "code",
      "metadata": {
        "id": "zOeHyEl9rdmV",
        "colab": {
          "base_uri": "https://localhost:8080/"
        },
        "outputId": "ddb05b49-154b-4408-fbd1-0efb8eebf3eb"
      },
      "source": [
        "is_young.sum()"
      ],
      "execution_count": null,
      "outputs": [
        {
          "output_type": "execute_result",
          "data": {
            "text/plain": [
              "164"
            ]
          },
          "metadata": {
            "tags": []
          },
          "execution_count": 26
        }
      ]
    },
    {
      "cell_type": "markdown",
      "metadata": {
        "id": "UX05ZuSIrtvL"
      },
      "source": [
        "#### _Exercise 1.5_\n",
        "Using `~` operator or `np.logical_not()` call, we can invert a boolean array. Count number of passengers older than 20 using inversion on is_young."
      ]
    },
    {
      "cell_type": "code",
      "metadata": {
        "id": "xHbTDI1VppAH",
        "colab": {
          "base_uri": "https://localhost:8080/"
        },
        "outputId": "b232990c-0f3a-4e4b-db6c-2bb7795fb007"
      },
      "source": [
        "(~is_young).sum()"
      ],
      "execution_count": null,
      "outputs": [
        {
          "output_type": "execute_result",
          "data": {
            "text/plain": [
              "548"
            ]
          },
          "metadata": {
            "tags": []
          },
          "execution_count": 27
        }
      ]
    },
    {
      "cell_type": "markdown",
      "metadata": {
        "id": "r9huHqk6upAA"
      },
      "source": [
        "#### _Exercise 1.6_\n",
        "Create a boolean array of `Fare` column in titanic dataframe. Items of this array must show that did this passenger pay more than average fare or not. Name this array as `paid_much`. Print first 5 items of this array."
      ]
    },
    {
      "cell_type": "code",
      "metadata": {
        "id": "sy24XemGpQXV",
        "colab": {
          "base_uri": "https://localhost:8080/"
        },
        "outputId": "418d16a0-0d1c-43a3-a709-c09160ba82c8"
      },
      "source": [
        "paid_much = df.Fare.values > df.Fare.values.mean()\n",
        "print(paid_much[:5])"
      ],
      "execution_count": null,
      "outputs": [
        {
          "output_type": "stream",
          "text": [
            "[False  True False  True False]\n"
          ],
          "name": "stdout"
        }
      ]
    },
    {
      "cell_type": "markdown",
      "metadata": {
        "id": "rQj-p9xgv0Ze"
      },
      "source": [
        "#### _Exercise 1.7_\n",
        "Using `&` operator or `np.logical_and()` call, Find passengers thouse are young and paid much. Then count them."
      ]
    },
    {
      "cell_type": "code",
      "metadata": {
        "id": "7J-glFE7vyGx",
        "colab": {
          "base_uri": "https://localhost:8080/"
        },
        "outputId": "3e871910-a81d-4663-a6f2-ff8e588fcf43"
      },
      "source": [
        "(is_young & paid_much).sum()"
      ],
      "execution_count": null,
      "outputs": [
        {
          "output_type": "execute_result",
          "data": {
            "text/plain": [
              "36"
            ]
          },
          "metadata": {
            "tags": []
          },
          "execution_count": 29
        }
      ]
    },
    {
      "cell_type": "markdown",
      "metadata": {
        "id": "XNHtpV2EwfoX"
      },
      "source": [
        "#### _Exercise 1.8_\n",
        "By passsing array you created in exercise #1.7 to titanic dataframe as index, select young-paid much passengers and store them in a new dataframe. Print head of this new dataframe. "
      ]
    },
    {
      "cell_type": "code",
      "metadata": {
        "id": "zQKzlpx5wd66",
        "colab": {
          "base_uri": "https://localhost:8080/"
        },
        "outputId": "894a03db-a8bf-48e9-a3ab-cee853be9108"
      },
      "source": [
        "newdf = df[is_young & paid_much]\n",
        "newdf.head()"
      ],
      "execution_count": null,
      "outputs": [
        {
          "output_type": "execute_result",
          "data": {
            "text/html": [
              "<div>\n",
              "<style scoped>\n",
              "    .dataframe tbody tr th:only-of-type {\n",
              "        vertical-align: middle;\n",
              "    }\n",
              "\n",
              "    .dataframe tbody tr th {\n",
              "        vertical-align: top;\n",
              "    }\n",
              "\n",
              "    .dataframe thead th {\n",
              "        text-align: right;\n",
              "    }\n",
              "</style>\n",
              "<table border=\"1\" class=\"dataframe\">\n",
              "  <thead>\n",
              "    <tr style=\"text-align: right;\">\n",
              "      <th></th>\n",
              "      <th>PassengerId</th>\n",
              "      <th>Survived</th>\n",
              "      <th>Pclass</th>\n",
              "      <th>Sex</th>\n",
              "      <th>Age</th>\n",
              "      <th>SibSp</th>\n",
              "      <th>Parch</th>\n",
              "      <th>Fare</th>\n",
              "      <th>Cabin</th>\n",
              "      <th>Embarked</th>\n",
              "    </tr>\n",
              "  </thead>\n",
              "  <tbody>\n",
              "    <tr>\n",
              "      <th>23</th>\n",
              "      <td>28</td>\n",
              "      <td>0</td>\n",
              "      <td>1</td>\n",
              "      <td>1</td>\n",
              "      <td>19.0</td>\n",
              "      <td>3</td>\n",
              "      <td>2</td>\n",
              "      <td>263.0000</td>\n",
              "      <td>True</td>\n",
              "      <td>0</td>\n",
              "    </tr>\n",
              "    <tr>\n",
              "      <th>33</th>\n",
              "      <td>44</td>\n",
              "      <td>1</td>\n",
              "      <td>2</td>\n",
              "      <td>0</td>\n",
              "      <td>3.0</td>\n",
              "      <td>1</td>\n",
              "      <td>2</td>\n",
              "      <td>41.5792</td>\n",
              "      <td>False</td>\n",
              "      <td>1</td>\n",
              "    </tr>\n",
              "    <tr>\n",
              "      <th>36</th>\n",
              "      <td>51</td>\n",
              "      <td>0</td>\n",
              "      <td>3</td>\n",
              "      <td>1</td>\n",
              "      <td>7.0</td>\n",
              "      <td>4</td>\n",
              "      <td>1</td>\n",
              "      <td>39.6875</td>\n",
              "      <td>False</td>\n",
              "      <td>0</td>\n",
              "    </tr>\n",
              "    <tr>\n",
              "      <th>44</th>\n",
              "      <td>60</td>\n",
              "      <td>0</td>\n",
              "      <td>3</td>\n",
              "      <td>1</td>\n",
              "      <td>11.0</td>\n",
              "      <td>5</td>\n",
              "      <td>2</td>\n",
              "      <td>46.9000</td>\n",
              "      <td>False</td>\n",
              "      <td>0</td>\n",
              "    </tr>\n",
              "    <tr>\n",
              "      <th>53</th>\n",
              "      <td>72</td>\n",
              "      <td>0</td>\n",
              "      <td>3</td>\n",
              "      <td>0</td>\n",
              "      <td>16.0</td>\n",
              "      <td>5</td>\n",
              "      <td>2</td>\n",
              "      <td>46.9000</td>\n",
              "      <td>False</td>\n",
              "      <td>0</td>\n",
              "    </tr>\n",
              "  </tbody>\n",
              "</table>\n",
              "</div>"
            ],
            "text/plain": [
              "    PassengerId  Survived  Pclass  Sex  ...  Parch      Fare  Cabin  Embarked\n",
              "23           28         0       1    1  ...      2  263.0000   True         0\n",
              "33           44         1       2    0  ...      2   41.5792  False         1\n",
              "36           51         0       3    1  ...      1   39.6875  False         0\n",
              "44           60         0       3    1  ...      2   46.9000  False         0\n",
              "53           72         0       3    0  ...      2   46.9000  False         0\n",
              "\n",
              "[5 rows x 10 columns]"
            ]
          },
          "metadata": {
            "tags": []
          },
          "execution_count": 30
        }
      ]
    },
    {
      "cell_type": "markdown",
      "metadata": {
        "id": "-oZXHqX5xSxs"
      },
      "source": [
        "#### _Exercise 1.9_\n",
        "Make a boolean array of following list. Use `np.array()` and `.astype()` calls.\n",
        "\n",
        "``` l = [1,1,0,1,0,0,0,1,0,1,0,0,1] ```"
      ]
    },
    {
      "cell_type": "code",
      "metadata": {
        "id": "Cc5dndFkw-lx",
        "colab": {
          "base_uri": "https://localhost:8080/"
        },
        "outputId": "467e17e0-a7fe-4085-a6ec-98cfeee98195"
      },
      "source": [
        "l = [1,1,0,1,0,0,0,1,0,1,0,0,1]\n",
        "a = np.array(l).astype(bool)\n",
        "a"
      ],
      "execution_count": null,
      "outputs": [
        {
          "output_type": "execute_result",
          "data": {
            "text/plain": [
              "array([ True,  True, False,  True, False, False, False,  True, False,\n",
              "        True, False, False,  True])"
            ]
          },
          "metadata": {
            "tags": []
          },
          "execution_count": 31
        }
      ]
    },
    {
      "cell_type": "markdown",
      "metadata": {
        "id": "hXVbK9xHx11O"
      },
      "source": [
        "#### _Exercise 1.10_\n",
        "In this exercise, we want to randomly split titanic dataframe to 2 parts. Size of parts must be 20% and 80% of primary dataframe shape."
      ]
    },
    {
      "cell_type": "markdown",
      "metadata": {
        "id": "WfhJCG95zzfc"
      },
      "source": [
        "##### _Exercise 1.10.0_\n",
        "First, get size of primary dataframe and store it as `n`. `n` must be an integer not a tuple (`shape[0]`). then calculate 20% of n and store it as and integer named `test_size`. Dont forget to cast it to integer."
      ]
    },
    {
      "cell_type": "code",
      "metadata": {
        "id": "g2Ku8pT02_Yw"
      },
      "source": [
        "n = df.shape[0]\n",
        "test_size = int(0.2 * n)"
      ],
      "execution_count": null,
      "outputs": []
    },
    {
      "cell_type": "markdown",
      "metadata": {
        "id": "NOlnWd-Z03QW"
      },
      "source": [
        "##### _Exercise 1.10.1_\n",
        "Make a boolean array of shape `n`, containing only `False` values. Do int using `np.zeros()` and `.astype()`. Store it as `indexing`."
      ]
    },
    {
      "cell_type": "code",
      "metadata": {
        "id": "Xndas06f3IZD"
      },
      "source": [
        "indexing = np.zeros(n).astype(bool)"
      ],
      "execution_count": null,
      "outputs": []
    },
    {
      "cell_type": "markdown",
      "metadata": {
        "id": "oNFbk5Fm1K2s"
      },
      "source": [
        "##### _Exercise 1.10.2_\n",
        "Using `np.random.choice()`, Select `test_size` number of numbers in range `[0:n]`. Set `replace` attribute to `False`. What is this attribure? Store your output of selection as `test_indexes`."
      ]
    },
    {
      "cell_type": "code",
      "metadata": {
        "id": "7mXrZql43Pbp"
      },
      "source": [
        "test_indexes = np.random.choice(n, test_size, replace=False)"
      ],
      "execution_count": null,
      "outputs": []
    },
    {
      "cell_type": "markdown",
      "metadata": {
        "id": "BoEgxMaj12pi"
      },
      "source": [
        "##### _Exercise 1.10.3_\n",
        "Set `test_size` number of `indexing` items to `True`. Find target items by passing `test_indexes` to `indexing` as index."
      ]
    },
    {
      "cell_type": "code",
      "metadata": {
        "id": "xRBVxtzz3d79"
      },
      "source": [
        "indexing[test_indexes] = True"
      ],
      "execution_count": null,
      "outputs": []
    },
    {
      "cell_type": "markdown",
      "metadata": {
        "id": "aVRzVH0Z2O6J"
      },
      "source": [
        "##### _Exercise 1.10.4_\n",
        "By passing `indexing` to titanic dataframe, you will get 20% of records randomly. Store it as `testdf`. Also by inverting `indexing`, get other records and store them as `traindf`. Print shape of `testdf` and `traindf`."
      ]
    },
    {
      "cell_type": "code",
      "metadata": {
        "id": "HsirpLIu3kTa",
        "colab": {
          "base_uri": "https://localhost:8080/"
        },
        "outputId": "93ea0f23-94df-4d14-8ffa-d49f8e2cada4"
      },
      "source": [
        "testdf = df[indexing]\n",
        "traindf = df[~indexing]\n",
        "testdf.shape, traindf.shape"
      ],
      "execution_count": null,
      "outputs": [
        {
          "output_type": "execute_result",
          "data": {
            "text/plain": [
              "((142, 10), (570, 10))"
            ]
          },
          "metadata": {
            "tags": []
          },
          "execution_count": 36
        }
      ]
    },
    {
      "cell_type": "markdown",
      "metadata": {
        "id": "vmoCyNAM22LG"
      },
      "source": [
        "##### _Exercise 1.10.5_\n",
        "Print average of `Fare` column in `testdf` and `traindf`."
      ]
    },
    {
      "cell_type": "code",
      "metadata": {
        "id": "EterJofVxn9P",
        "colab": {
          "base_uri": "https://localhost:8080/"
        },
        "outputId": "cd2272ba-797e-4b47-c11a-72c1dbd65b7d"
      },
      "source": [
        "testdf.Fare.mean(), traindf.Fare.mean()"
      ],
      "execution_count": null,
      "outputs": [
        {
          "output_type": "execute_result",
          "data": {
            "text/plain": [
              "(33.70158380281691, 34.782908947368355)"
            ]
          },
          "metadata": {
            "tags": []
          },
          "execution_count": 37
        }
      ]
    },
    {
      "cell_type": "markdown",
      "metadata": {
        "id": "0I8UprefgP1r"
      },
      "source": [
        "### **Lecture 2 : Tekniques in Pandas and Numpy**"
      ]
    },
    {
      "cell_type": "markdown",
      "metadata": {
        "id": "vmnubYk9jVqv"
      },
      "source": [
        "Read _\"clean_titanic.csv\"_ dataset you provided in lecture #0, and store it as dataframe `df`. We will use its data in this lecture. Keep in mind, exercises are sequential and output of each exercise will be used in next exercises."
      ]
    },
    {
      "cell_type": "code",
      "metadata": {
        "id": "YuYcEE5Ij3bm",
        "colab": {
          "base_uri": "https://localhost:8080/"
        },
        "outputId": "bc516fe6-e56f-4875-ec14-bee9ef333fe2"
      },
      "source": [
        "import numpy as np\n",
        "import pandas as pd\n",
        "\n",
        "df = pd.read_csv('clean_titanic.csv')\n",
        "df.head()"
      ],
      "execution_count": null,
      "outputs": [
        {
          "output_type": "execute_result",
          "data": {
            "text/html": [
              "<div>\n",
              "<style scoped>\n",
              "    .dataframe tbody tr th:only-of-type {\n",
              "        vertical-align: middle;\n",
              "    }\n",
              "\n",
              "    .dataframe tbody tr th {\n",
              "        vertical-align: top;\n",
              "    }\n",
              "\n",
              "    .dataframe thead th {\n",
              "        text-align: right;\n",
              "    }\n",
              "</style>\n",
              "<table border=\"1\" class=\"dataframe\">\n",
              "  <thead>\n",
              "    <tr style=\"text-align: right;\">\n",
              "      <th></th>\n",
              "      <th>PassengerId</th>\n",
              "      <th>Survived</th>\n",
              "      <th>Pclass</th>\n",
              "      <th>Sex</th>\n",
              "      <th>Age</th>\n",
              "      <th>SibSp</th>\n",
              "      <th>Parch</th>\n",
              "      <th>Fare</th>\n",
              "      <th>Cabin</th>\n",
              "      <th>Embarked</th>\n",
              "    </tr>\n",
              "  </thead>\n",
              "  <tbody>\n",
              "    <tr>\n",
              "      <th>0</th>\n",
              "      <td>1</td>\n",
              "      <td>0</td>\n",
              "      <td>3</td>\n",
              "      <td>1</td>\n",
              "      <td>22.0</td>\n",
              "      <td>1</td>\n",
              "      <td>0</td>\n",
              "      <td>7.2500</td>\n",
              "      <td>False</td>\n",
              "      <td>0</td>\n",
              "    </tr>\n",
              "    <tr>\n",
              "      <th>1</th>\n",
              "      <td>2</td>\n",
              "      <td>1</td>\n",
              "      <td>1</td>\n",
              "      <td>0</td>\n",
              "      <td>38.0</td>\n",
              "      <td>1</td>\n",
              "      <td>0</td>\n",
              "      <td>71.2833</td>\n",
              "      <td>True</td>\n",
              "      <td>1</td>\n",
              "    </tr>\n",
              "    <tr>\n",
              "      <th>2</th>\n",
              "      <td>3</td>\n",
              "      <td>1</td>\n",
              "      <td>3</td>\n",
              "      <td>0</td>\n",
              "      <td>26.0</td>\n",
              "      <td>0</td>\n",
              "      <td>0</td>\n",
              "      <td>7.9250</td>\n",
              "      <td>False</td>\n",
              "      <td>0</td>\n",
              "    </tr>\n",
              "    <tr>\n",
              "      <th>3</th>\n",
              "      <td>4</td>\n",
              "      <td>1</td>\n",
              "      <td>1</td>\n",
              "      <td>0</td>\n",
              "      <td>35.0</td>\n",
              "      <td>1</td>\n",
              "      <td>0</td>\n",
              "      <td>53.1000</td>\n",
              "      <td>True</td>\n",
              "      <td>0</td>\n",
              "    </tr>\n",
              "    <tr>\n",
              "      <th>4</th>\n",
              "      <td>5</td>\n",
              "      <td>0</td>\n",
              "      <td>3</td>\n",
              "      <td>1</td>\n",
              "      <td>35.0</td>\n",
              "      <td>0</td>\n",
              "      <td>0</td>\n",
              "      <td>8.0500</td>\n",
              "      <td>False</td>\n",
              "      <td>0</td>\n",
              "    </tr>\n",
              "  </tbody>\n",
              "</table>\n",
              "</div>"
            ],
            "text/plain": [
              "   PassengerId  Survived  Pclass  Sex  ...  Parch     Fare  Cabin  Embarked\n",
              "0            1         0       3    1  ...      0   7.2500  False         0\n",
              "1            2         1       1    0  ...      0  71.2833   True         1\n",
              "2            3         1       3    0  ...      0   7.9250  False         0\n",
              "3            4         1       1    0  ...      0  53.1000   True         0\n",
              "4            5         0       3    1  ...      0   8.0500  False         0\n",
              "\n",
              "[5 rows x 10 columns]"
            ]
          },
          "metadata": {
            "tags": []
          },
          "execution_count": 38
        }
      ]
    },
    {
      "cell_type": "markdown",
      "metadata": {
        "id": "_nI5Na23jb-X"
      },
      "source": [
        "#### _Exercise 2.0_\n",
        "In one line of code, count how many childs(_\"Age\"_ less than 20) did survive and how many didn't. Use `df.groupby` syntax."
      ]
    },
    {
      "cell_type": "code",
      "metadata": {
        "id": "mIyXmfLVgjeX",
        "colab": {
          "base_uri": "https://localhost:8080/"
        },
        "outputId": "f6ceefc5-dfcf-44db-8d4c-ec792bcd46fb"
      },
      "source": [
        "df[df.Age < 20].groupby('Survived').PassengerId.count()"
      ],
      "execution_count": null,
      "outputs": [
        {
          "output_type": "execute_result",
          "data": {
            "text/plain": [
              "Survived\n",
              "0    85\n",
              "1    79\n",
              "Name: PassengerId, dtype: int64"
            ]
          },
          "metadata": {
            "tags": []
          },
          "execution_count": 39
        }
      ]
    },
    {
      "cell_type": "markdown",
      "metadata": {
        "id": "x1pxoKz8lerP"
      },
      "source": [
        "#### _Exercise 2.1_\n",
        "For diffrent values of _\"Embarked\"_, calculate mean of _\"Fare\"_ and _\"Age\"_ columns using `.groupby`."
      ]
    },
    {
      "cell_type": "code",
      "metadata": {
        "id": "DgTx4FZAlPE0",
        "colab": {
          "base_uri": "https://localhost:8080/"
        },
        "outputId": "1dcfa065-392f-4d7f-a5e1-8f215c0c2930"
      },
      "source": [
        "df.groupby('Embarked')['Age','Fare'].mean()"
      ],
      "execution_count": null,
      "outputs": [
        {
          "output_type": "stream",
          "text": [
            "/usr/local/lib/python3.6/dist-packages/ipykernel_launcher.py:1: FutureWarning: Indexing with multiple keys (implicitly converted to a tuple of keys) will be deprecated, use a list instead.\n",
            "  \"\"\"Entry point for launching an IPython kernel.\n"
          ],
          "name": "stderr"
        },
        {
          "output_type": "execute_result",
          "data": {
            "text/html": [
              "<div>\n",
              "<style scoped>\n",
              "    .dataframe tbody tr th:only-of-type {\n",
              "        vertical-align: middle;\n",
              "    }\n",
              "\n",
              "    .dataframe tbody tr th {\n",
              "        vertical-align: top;\n",
              "    }\n",
              "\n",
              "    .dataframe thead th {\n",
              "        text-align: right;\n",
              "    }\n",
              "</style>\n",
              "<table border=\"1\" class=\"dataframe\">\n",
              "  <thead>\n",
              "    <tr style=\"text-align: right;\">\n",
              "      <th></th>\n",
              "      <th>Age</th>\n",
              "      <th>Fare</th>\n",
              "    </tr>\n",
              "    <tr>\n",
              "      <th>Embarked</th>\n",
              "      <th></th>\n",
              "      <th></th>\n",
              "    </tr>\n",
              "  </thead>\n",
              "  <tbody>\n",
              "    <tr>\n",
              "      <th>0</th>\n",
              "      <td>29.445397</td>\n",
              "      <td>27.476284</td>\n",
              "    </tr>\n",
              "    <tr>\n",
              "      <th>1</th>\n",
              "      <td>30.814769</td>\n",
              "      <td>68.296767</td>\n",
              "    </tr>\n",
              "    <tr>\n",
              "      <th>2</th>\n",
              "      <td>28.089286</td>\n",
              "      <td>18.265775</td>\n",
              "    </tr>\n",
              "  </tbody>\n",
              "</table>\n",
              "</div>"
            ],
            "text/plain": [
              "                Age       Fare\n",
              "Embarked                      \n",
              "0         29.445397  27.476284\n",
              "1         30.814769  68.296767\n",
              "2         28.089286  18.265775"
            ]
          },
          "metadata": {
            "tags": []
          },
          "execution_count": 40
        }
      ]
    },
    {
      "cell_type": "markdown",
      "metadata": {
        "id": "cCuXi8c7mCpV"
      },
      "source": [
        "#### _Exercise 2.2_\n",
        "Using `np.isin()` call, find a boolean array representing that passengers age is in list `[12,18,24,32,64]`. Store it in `special_ages` Then count passengers with this condition,"
      ]
    },
    {
      "cell_type": "code",
      "metadata": {
        "id": "Sl4MEb4pl-sA",
        "colab": {
          "base_uri": "https://localhost:8080/"
        },
        "outputId": "198bd7df-e35d-4b79-d228-2d711410a844"
      },
      "source": [
        "special_ages = np.isin(df.Age, [12,18,24,32,64])\n",
        "special_ages.sum()"
      ],
      "execution_count": null,
      "outputs": [
        {
          "output_type": "execute_result",
          "data": {
            "text/plain": [
              "77"
            ]
          },
          "metadata": {
            "tags": []
          },
          "execution_count": 41
        }
      ]
    },
    {
      "cell_type": "markdown",
      "metadata": {
        "id": "-5Qt-bf9tv2i"
      },
      "source": [
        "#### _Exercise 2.3_\n",
        "Using `special_ages`, make a new dataframe named `new_dataframe` of rows with special ages condition. Just keep `PassengerId`, `Survived` and `Age` columns in `new_dataframe`."
      ]
    },
    {
      "cell_type": "code",
      "metadata": {
        "id": "ZaouRvZZtNsg",
        "colab": {
          "base_uri": "https://localhost:8080/"
        },
        "outputId": "995f1501-ea70-40bb-f56e-fe31a554b3c3"
      },
      "source": [
        "new_dataframe = df[special_ages][['PassengerId','Survived','Age']]\n",
        "new_dataframe.head()"
      ],
      "execution_count": null,
      "outputs": [
        {
          "output_type": "execute_result",
          "data": {
            "text/html": [
              "<div>\n",
              "<style scoped>\n",
              "    .dataframe tbody tr th:only-of-type {\n",
              "        vertical-align: middle;\n",
              "    }\n",
              "\n",
              "    .dataframe tbody tr th {\n",
              "        vertical-align: top;\n",
              "    }\n",
              "\n",
              "    .dataframe thead th {\n",
              "        text-align: right;\n",
              "    }\n",
              "</style>\n",
              "<table border=\"1\" class=\"dataframe\">\n",
              "  <thead>\n",
              "    <tr style=\"text-align: right;\">\n",
              "      <th></th>\n",
              "      <th>PassengerId</th>\n",
              "      <th>Survived</th>\n",
              "      <th>Age</th>\n",
              "    </tr>\n",
              "  </thead>\n",
              "  <tbody>\n",
              "    <tr>\n",
              "      <th>29</th>\n",
              "      <td>39</td>\n",
              "      <td>0</td>\n",
              "      <td>18.0</td>\n",
              "    </tr>\n",
              "    <tr>\n",
              "      <th>35</th>\n",
              "      <td>50</td>\n",
              "      <td>0</td>\n",
              "      <td>18.0</td>\n",
              "    </tr>\n",
              "    <tr>\n",
              "      <th>52</th>\n",
              "      <td>71</td>\n",
              "      <td>0</td>\n",
              "      <td>32.0</td>\n",
              "    </tr>\n",
              "    <tr>\n",
              "      <th>56</th>\n",
              "      <td>75</td>\n",
              "      <td>1</td>\n",
              "      <td>32.0</td>\n",
              "    </tr>\n",
              "    <tr>\n",
              "      <th>67</th>\n",
              "      <td>90</td>\n",
              "      <td>0</td>\n",
              "      <td>24.0</td>\n",
              "    </tr>\n",
              "  </tbody>\n",
              "</table>\n",
              "</div>"
            ],
            "text/plain": [
              "    PassengerId  Survived   Age\n",
              "29           39         0  18.0\n",
              "35           50         0  18.0\n",
              "52           71         0  32.0\n",
              "56           75         1  32.0\n",
              "67           90         0  24.0"
            ]
          },
          "metadata": {
            "tags": []
          },
          "execution_count": 42
        }
      ]
    },
    {
      "cell_type": "markdown",
      "metadata": {
        "id": "ZIyPtu-AunEf"
      },
      "source": [
        "#### _Exercise 2.4_\n",
        "Try to access third record in `new_dataframe`. You will see you cann't do this by indexing because indexes are same as same record in `df`. You want to use this dataframe independent of `df` so using `df.reset_index()` with `inplace=True`. Verify output of this function."
      ]
    },
    {
      "cell_type": "code",
      "metadata": {
        "id": "Dg5oLktfujJ1",
        "colab": {
          "base_uri": "https://localhost:8080/"
        },
        "outputId": "f71e0363-ab76-43f2-9ed1-5c42f3048d93"
      },
      "source": [
        "new_dataframe.reset_index(inplace=True)\n",
        "new_dataframe.head()"
      ],
      "execution_count": null,
      "outputs": [
        {
          "output_type": "execute_result",
          "data": {
            "text/html": [
              "<div>\n",
              "<style scoped>\n",
              "    .dataframe tbody tr th:only-of-type {\n",
              "        vertical-align: middle;\n",
              "    }\n",
              "\n",
              "    .dataframe tbody tr th {\n",
              "        vertical-align: top;\n",
              "    }\n",
              "\n",
              "    .dataframe thead th {\n",
              "        text-align: right;\n",
              "    }\n",
              "</style>\n",
              "<table border=\"1\" class=\"dataframe\">\n",
              "  <thead>\n",
              "    <tr style=\"text-align: right;\">\n",
              "      <th></th>\n",
              "      <th>index</th>\n",
              "      <th>PassengerId</th>\n",
              "      <th>Survived</th>\n",
              "      <th>Age</th>\n",
              "    </tr>\n",
              "  </thead>\n",
              "  <tbody>\n",
              "    <tr>\n",
              "      <th>0</th>\n",
              "      <td>29</td>\n",
              "      <td>39</td>\n",
              "      <td>0</td>\n",
              "      <td>18.0</td>\n",
              "    </tr>\n",
              "    <tr>\n",
              "      <th>1</th>\n",
              "      <td>35</td>\n",
              "      <td>50</td>\n",
              "      <td>0</td>\n",
              "      <td>18.0</td>\n",
              "    </tr>\n",
              "    <tr>\n",
              "      <th>2</th>\n",
              "      <td>52</td>\n",
              "      <td>71</td>\n",
              "      <td>0</td>\n",
              "      <td>32.0</td>\n",
              "    </tr>\n",
              "    <tr>\n",
              "      <th>3</th>\n",
              "      <td>56</td>\n",
              "      <td>75</td>\n",
              "      <td>1</td>\n",
              "      <td>32.0</td>\n",
              "    </tr>\n",
              "    <tr>\n",
              "      <th>4</th>\n",
              "      <td>67</td>\n",
              "      <td>90</td>\n",
              "      <td>0</td>\n",
              "      <td>24.0</td>\n",
              "    </tr>\n",
              "  </tbody>\n",
              "</table>\n",
              "</div>"
            ],
            "text/plain": [
              "   index  PassengerId  Survived   Age\n",
              "0     29           39         0  18.0\n",
              "1     35           50         0  18.0\n",
              "2     52           71         0  32.0\n",
              "3     56           75         1  32.0\n",
              "4     67           90         0  24.0"
            ]
          },
          "metadata": {
            "tags": []
          },
          "execution_count": 43
        }
      ]
    },
    {
      "cell_type": "markdown",
      "metadata": {
        "id": "IVS_uHfavUkG"
      },
      "source": [
        "#### _Exercise 2.5_\n",
        "Now we want to find all informations about passengers with special age. Using `df.merg()` collect this informations from `df` and add them to `new_dataframe`."
      ]
    },
    {
      "cell_type": "code",
      "metadata": {
        "id": "hewkJCb9vRkM",
        "colab": {
          "base_uri": "https://localhost:8080/"
        },
        "outputId": "6c226e9c-e853-4c90-ba6c-cf32cbe01135"
      },
      "source": [
        "new_dataframe.merge(df, how='left', on='PassengerId', suffixes=('_left', '_right'))"
      ],
      "execution_count": null,
      "outputs": [
        {
          "output_type": "execute_result",
          "data": {
            "text/html": [
              "<div>\n",
              "<style scoped>\n",
              "    .dataframe tbody tr th:only-of-type {\n",
              "        vertical-align: middle;\n",
              "    }\n",
              "\n",
              "    .dataframe tbody tr th {\n",
              "        vertical-align: top;\n",
              "    }\n",
              "\n",
              "    .dataframe thead th {\n",
              "        text-align: right;\n",
              "    }\n",
              "</style>\n",
              "<table border=\"1\" class=\"dataframe\">\n",
              "  <thead>\n",
              "    <tr style=\"text-align: right;\">\n",
              "      <th></th>\n",
              "      <th>index</th>\n",
              "      <th>PassengerId</th>\n",
              "      <th>Survived_left</th>\n",
              "      <th>Age_left</th>\n",
              "      <th>Survived_right</th>\n",
              "      <th>Pclass</th>\n",
              "      <th>Sex</th>\n",
              "      <th>Age_right</th>\n",
              "      <th>SibSp</th>\n",
              "      <th>Parch</th>\n",
              "      <th>Fare</th>\n",
              "      <th>Cabin</th>\n",
              "      <th>Embarked</th>\n",
              "    </tr>\n",
              "  </thead>\n",
              "  <tbody>\n",
              "    <tr>\n",
              "      <th>0</th>\n",
              "      <td>29</td>\n",
              "      <td>39</td>\n",
              "      <td>0</td>\n",
              "      <td>18.0</td>\n",
              "      <td>0</td>\n",
              "      <td>3</td>\n",
              "      <td>0</td>\n",
              "      <td>18.0</td>\n",
              "      <td>2</td>\n",
              "      <td>0</td>\n",
              "      <td>18.0000</td>\n",
              "      <td>False</td>\n",
              "      <td>0</td>\n",
              "    </tr>\n",
              "    <tr>\n",
              "      <th>1</th>\n",
              "      <td>35</td>\n",
              "      <td>50</td>\n",
              "      <td>0</td>\n",
              "      <td>18.0</td>\n",
              "      <td>0</td>\n",
              "      <td>3</td>\n",
              "      <td>0</td>\n",
              "      <td>18.0</td>\n",
              "      <td>1</td>\n",
              "      <td>0</td>\n",
              "      <td>17.8000</td>\n",
              "      <td>False</td>\n",
              "      <td>0</td>\n",
              "    </tr>\n",
              "    <tr>\n",
              "      <th>2</th>\n",
              "      <td>52</td>\n",
              "      <td>71</td>\n",
              "      <td>0</td>\n",
              "      <td>32.0</td>\n",
              "      <td>0</td>\n",
              "      <td>2</td>\n",
              "      <td>1</td>\n",
              "      <td>32.0</td>\n",
              "      <td>0</td>\n",
              "      <td>0</td>\n",
              "      <td>10.5000</td>\n",
              "      <td>False</td>\n",
              "      <td>0</td>\n",
              "    </tr>\n",
              "    <tr>\n",
              "      <th>3</th>\n",
              "      <td>56</td>\n",
              "      <td>75</td>\n",
              "      <td>1</td>\n",
              "      <td>32.0</td>\n",
              "      <td>1</td>\n",
              "      <td>3</td>\n",
              "      <td>1</td>\n",
              "      <td>32.0</td>\n",
              "      <td>0</td>\n",
              "      <td>0</td>\n",
              "      <td>56.4958</td>\n",
              "      <td>False</td>\n",
              "      <td>0</td>\n",
              "    </tr>\n",
              "    <tr>\n",
              "      <th>4</th>\n",
              "      <td>67</td>\n",
              "      <td>90</td>\n",
              "      <td>0</td>\n",
              "      <td>24.0</td>\n",
              "      <td>0</td>\n",
              "      <td>3</td>\n",
              "      <td>1</td>\n",
              "      <td>24.0</td>\n",
              "      <td>0</td>\n",
              "      <td>0</td>\n",
              "      <td>8.0500</td>\n",
              "      <td>False</td>\n",
              "      <td>0</td>\n",
              "    </tr>\n",
              "    <tr>\n",
              "      <th>...</th>\n",
              "      <td>...</td>\n",
              "      <td>...</td>\n",
              "      <td>...</td>\n",
              "      <td>...</td>\n",
              "      <td>...</td>\n",
              "      <td>...</td>\n",
              "      <td>...</td>\n",
              "      <td>...</td>\n",
              "      <td>...</td>\n",
              "      <td>...</td>\n",
              "      <td>...</td>\n",
              "      <td>...</td>\n",
              "      <td>...</td>\n",
              "    </tr>\n",
              "    <tr>\n",
              "      <th>72</th>\n",
              "      <td>667</td>\n",
              "      <td>839</td>\n",
              "      <td>1</td>\n",
              "      <td>32.0</td>\n",
              "      <td>1</td>\n",
              "      <td>3</td>\n",
              "      <td>1</td>\n",
              "      <td>32.0</td>\n",
              "      <td>0</td>\n",
              "      <td>0</td>\n",
              "      <td>56.4958</td>\n",
              "      <td>False</td>\n",
              "      <td>0</td>\n",
              "    </tr>\n",
              "    <tr>\n",
              "      <th>73</th>\n",
              "      <td>681</td>\n",
              "      <td>856</td>\n",
              "      <td>1</td>\n",
              "      <td>18.0</td>\n",
              "      <td>1</td>\n",
              "      <td>3</td>\n",
              "      <td>0</td>\n",
              "      <td>18.0</td>\n",
              "      <td>0</td>\n",
              "      <td>1</td>\n",
              "      <td>9.3500</td>\n",
              "      <td>False</td>\n",
              "      <td>0</td>\n",
              "    </tr>\n",
              "    <tr>\n",
              "      <th>74</th>\n",
              "      <td>684</td>\n",
              "      <td>859</td>\n",
              "      <td>1</td>\n",
              "      <td>24.0</td>\n",
              "      <td>1</td>\n",
              "      <td>3</td>\n",
              "      <td>0</td>\n",
              "      <td>24.0</td>\n",
              "      <td>0</td>\n",
              "      <td>3</td>\n",
              "      <td>19.2583</td>\n",
              "      <td>False</td>\n",
              "      <td>1</td>\n",
              "    </tr>\n",
              "    <tr>\n",
              "      <th>75</th>\n",
              "      <td>688</td>\n",
              "      <td>865</td>\n",
              "      <td>0</td>\n",
              "      <td>24.0</td>\n",
              "      <td>0</td>\n",
              "      <td>2</td>\n",
              "      <td>1</td>\n",
              "      <td>24.0</td>\n",
              "      <td>0</td>\n",
              "      <td>0</td>\n",
              "      <td>13.0000</td>\n",
              "      <td>False</td>\n",
              "      <td>0</td>\n",
              "    </tr>\n",
              "    <tr>\n",
              "      <th>76</th>\n",
              "      <td>711</td>\n",
              "      <td>891</td>\n",
              "      <td>0</td>\n",
              "      <td>32.0</td>\n",
              "      <td>0</td>\n",
              "      <td>3</td>\n",
              "      <td>1</td>\n",
              "      <td>32.0</td>\n",
              "      <td>0</td>\n",
              "      <td>0</td>\n",
              "      <td>7.7500</td>\n",
              "      <td>False</td>\n",
              "      <td>2</td>\n",
              "    </tr>\n",
              "  </tbody>\n",
              "</table>\n",
              "<p>77 rows × 13 columns</p>\n",
              "</div>"
            ],
            "text/plain": [
              "    index  PassengerId  Survived_left  ...     Fare  Cabin  Embarked\n",
              "0      29           39              0  ...  18.0000  False         0\n",
              "1      35           50              0  ...  17.8000  False         0\n",
              "2      52           71              0  ...  10.5000  False         0\n",
              "3      56           75              1  ...  56.4958  False         0\n",
              "4      67           90              0  ...   8.0500  False         0\n",
              "..    ...          ...            ...  ...      ...    ...       ...\n",
              "72    667          839              1  ...  56.4958  False         0\n",
              "73    681          856              1  ...   9.3500  False         0\n",
              "74    684          859              1  ...  19.2583  False         1\n",
              "75    688          865              0  ...  13.0000  False         0\n",
              "76    711          891              0  ...   7.7500  False         2\n",
              "\n",
              "[77 rows x 13 columns]"
            ]
          },
          "metadata": {
            "tags": []
          },
          "execution_count": 44
        }
      ]
    },
    {
      "cell_type": "markdown",
      "metadata": {
        "id": "UQVW8Id-0NcM"
      },
      "source": [
        "### **Lecture 3 : Visualization**"
      ]
    },
    {
      "cell_type": "markdown",
      "metadata": {
        "id": "lCl_rNHL0ikQ"
      },
      "source": [
        "Read _\"clean_titanic.csv\"_ dataset you provided in lecture #0, and store it as dataframe `df`. We will use its data in this lecture. Keep in mind, exercises are sequential and output of each exercise will be used in next exercises."
      ]
    },
    {
      "cell_type": "code",
      "metadata": {
        "id": "gdOEcwAj0dxJ",
        "colab": {
          "base_uri": "https://localhost:8080/",
          "height": 204
        },
        "outputId": "94a496f2-4f35-4d4b-808c-89cb222ad6c8"
      },
      "source": [
        "import matplotlib.pyplot as plt\n",
        "import numpy as np\n",
        "import pandas as pd\n",
        "\n",
        "df = pd.read_csv('clean_titanic.csv')\n",
        "df.head()"
      ],
      "execution_count": null,
      "outputs": [
        {
          "output_type": "execute_result",
          "data": {
            "text/html": [
              "<div>\n",
              "<style scoped>\n",
              "    .dataframe tbody tr th:only-of-type {\n",
              "        vertical-align: middle;\n",
              "    }\n",
              "\n",
              "    .dataframe tbody tr th {\n",
              "        vertical-align: top;\n",
              "    }\n",
              "\n",
              "    .dataframe thead th {\n",
              "        text-align: right;\n",
              "    }\n",
              "</style>\n",
              "<table border=\"1\" class=\"dataframe\">\n",
              "  <thead>\n",
              "    <tr style=\"text-align: right;\">\n",
              "      <th></th>\n",
              "      <th>PassengerId</th>\n",
              "      <th>Survived</th>\n",
              "      <th>Pclass</th>\n",
              "      <th>Sex</th>\n",
              "      <th>Age</th>\n",
              "      <th>SibSp</th>\n",
              "      <th>Parch</th>\n",
              "      <th>Fare</th>\n",
              "      <th>Cabin</th>\n",
              "      <th>Embarked</th>\n",
              "    </tr>\n",
              "  </thead>\n",
              "  <tbody>\n",
              "    <tr>\n",
              "      <th>0</th>\n",
              "      <td>1</td>\n",
              "      <td>0</td>\n",
              "      <td>3</td>\n",
              "      <td>1</td>\n",
              "      <td>22.0</td>\n",
              "      <td>1</td>\n",
              "      <td>0</td>\n",
              "      <td>7.2500</td>\n",
              "      <td>False</td>\n",
              "      <td>0</td>\n",
              "    </tr>\n",
              "    <tr>\n",
              "      <th>1</th>\n",
              "      <td>2</td>\n",
              "      <td>1</td>\n",
              "      <td>1</td>\n",
              "      <td>0</td>\n",
              "      <td>38.0</td>\n",
              "      <td>1</td>\n",
              "      <td>0</td>\n",
              "      <td>71.2833</td>\n",
              "      <td>True</td>\n",
              "      <td>1</td>\n",
              "    </tr>\n",
              "    <tr>\n",
              "      <th>2</th>\n",
              "      <td>3</td>\n",
              "      <td>1</td>\n",
              "      <td>3</td>\n",
              "      <td>0</td>\n",
              "      <td>26.0</td>\n",
              "      <td>0</td>\n",
              "      <td>0</td>\n",
              "      <td>7.9250</td>\n",
              "      <td>False</td>\n",
              "      <td>0</td>\n",
              "    </tr>\n",
              "    <tr>\n",
              "      <th>3</th>\n",
              "      <td>4</td>\n",
              "      <td>1</td>\n",
              "      <td>1</td>\n",
              "      <td>0</td>\n",
              "      <td>35.0</td>\n",
              "      <td>1</td>\n",
              "      <td>0</td>\n",
              "      <td>53.1000</td>\n",
              "      <td>True</td>\n",
              "      <td>0</td>\n",
              "    </tr>\n",
              "    <tr>\n",
              "      <th>4</th>\n",
              "      <td>5</td>\n",
              "      <td>0</td>\n",
              "      <td>3</td>\n",
              "      <td>1</td>\n",
              "      <td>35.0</td>\n",
              "      <td>0</td>\n",
              "      <td>0</td>\n",
              "      <td>8.0500</td>\n",
              "      <td>False</td>\n",
              "      <td>0</td>\n",
              "    </tr>\n",
              "  </tbody>\n",
              "</table>\n",
              "</div>"
            ],
            "text/plain": [
              "   PassengerId  Survived  Pclass  Sex  ...  Parch     Fare  Cabin  Embarked\n",
              "0            1         0       3    1  ...      0   7.2500  False         0\n",
              "1            2         1       1    0  ...      0  71.2833   True         1\n",
              "2            3         1       3    0  ...      0   7.9250  False         0\n",
              "3            4         1       1    0  ...      0  53.1000   True         0\n",
              "4            5         0       3    1  ...      0   8.0500  False         0\n",
              "\n",
              "[5 rows x 10 columns]"
            ]
          },
          "metadata": {
            "tags": []
          },
          "execution_count": 45
        }
      ]
    },
    {
      "cell_type": "markdown",
      "metadata": {
        "id": "AuH1RBdB0NLq"
      },
      "source": [
        "#### _Exercise 3.0_\n",
        "Make a scatter plot for paid fare based on passenger age (Use `plt.scatter` and set `alpha=0.2`)."
      ]
    },
    {
      "cell_type": "code",
      "metadata": {
        "id": "tIBJkU5o0AHq",
        "colab": {
          "base_uri": "https://localhost:8080/",
          "height": 295
        },
        "outputId": "120c2b9c-7c70-4ffa-a3c6-bec279e75b2e"
      },
      "source": [
        "plt.scatter(df.Age, df.Fare, alpha=0.2)\n",
        "plt.title('Paid Fare')\n",
        "plt.ylabel('Fare')\n",
        "plt.xlabel('Age')\n",
        "plt.show()"
      ],
      "execution_count": null,
      "outputs": [
        {
          "output_type": "display_data",
          "data": {
            "image/png": "[encoded data removed]",
            "text/plain": [
              "<Figure size 432x288 with 1 Axes>"
            ]
          },
          "metadata": {
            "tags": [],
            "needs_background": "light"
          }
        }
      ]
    },
    {
      "cell_type": "markdown",
      "metadata": {
        "id": "t9F6Dnuk2bOI"
      },
      "source": [
        "#### _Exercise 3.1_\n",
        "Make a histogram plot for numner of passengers with different embarkeds (Use `plt.hist()`)."
      ]
    },
    {
      "cell_type": "code",
      "metadata": {
        "id": "AYAeuyc41ZUF",
        "colab": {
          "base_uri": "https://localhost:8080/",
          "height": 295
        },
        "outputId": "15813488-b96c-4775-f2b5-d422f6bf6232"
      },
      "source": [
        "plt.hist(df.Embarked)\n",
        "plt.title('Count of Embarked')\n",
        "plt.ylabel('Count')\n",
        "plt.xlabel('Embarked')\n",
        "plt.show()"
      ],
      "execution_count": null,
      "outputs": [
        {
          "output_type": "display_data",
          "data": {
            "image/png": "[encoded data removed]",
            "text/plain": [
              "<Figure size 432x288 with 1 Axes>"
            ]
          },
          "metadata": {
            "tags": [],
            "needs_background": "light"
          }
        }
      ]
    },
    {
      "cell_type": "markdown",
      "metadata": {
        "id": "fS5gyoqg3QZL"
      },
      "source": [
        "#### _Exercise 3.2_\n",
        "Make a pie plot for numner of passengers with different embarkeds (Use `plt.pie()`). You need to use `df.groupby()` to get count of each embarked."
      ]
    },
    {
      "cell_type": "code",
      "metadata": {
        "id": "1g-qTBEO2SNt",
        "colab": {
          "base_uri": "https://localhost:8080/",
          "height": 264
        },
        "outputId": "c41f3479-7abb-48a1-c978-7acc05130ef2"
      },
      "source": [
        "plt.pie(df.groupby('Embarked').PassengerId.count(), labels= [0,1,2])\n",
        "plt.title('Count of Embarked')\n",
        "plt.show()"
      ],
      "execution_count": null,
      "outputs": [
        {
          "output_type": "display_data",
          "data": {
            "image/png": "[encoded data removed]",
            "text/plain": [
              "<Figure size 432x288 with 1 Axes>"
            ]
          },
          "metadata": {
            "tags": []
          }
        }
      ]
    },
    {
      "cell_type": "markdown",
      "metadata": {
        "id": "gUPM1Hi635Vk"
      },
      "source": [
        "#### _Exercise 3.3_\n",
        "Make a plot for mean paied fair by passengers with same age based on ages (Use `plt.plot()`). You need to use `df.groupby()` to get mean of paid fare by each group of same age."
      ]
    },
    {
      "cell_type": "code",
      "metadata": {
        "id": "5Mq_Py0v13LU",
        "colab": {
          "base_uri": "https://localhost:8080/",
          "height": 295
        },
        "outputId": "331d59d0-dab9-48d9-93f2-0206d0f88d30"
      },
      "source": [
        "plt.plot(df.groupby('Age').Fare.mean())\n",
        "plt.title('Paid Fare')\n",
        "plt.ylabel('Fare')\n",
        "plt.xlabel('Age')\n",
        "plt.show()"
      ],
      "execution_count": null,
      "outputs": [
        {
          "output_type": "display_data",
          "data": {
            "image/png": "[encoded data removed]",
            "text/plain": [
              "<Figure size 432x288 with 1 Axes>"
            ]
          },
          "metadata": {
            "tags": [],
            "needs_background": "light"
          }
        }
      ]
    },
    {
      "cell_type": "markdown",
      "metadata": {
        "id": "Ux3FfpBnjbz2"
      },
      "source": [
        "#### _Exercise 3.4_\n",
        "Do what you did in exercise #3.3 again but this time plot tow lines in one figure, one for survived passengers and another for dead passengers. Set survived line color to green and dead line color to red. also add legend to plot."
      ]
    },
    {
      "cell_type": "code",
      "metadata": {
        "id": "AUoZ5lWdi6IQ",
        "colab": {
          "base_uri": "https://localhost:8080/",
          "height": 295
        },
        "outputId": "9301f322-1e6c-43cc-cd93-4e10e09bdfd1"
      },
      "source": [
        "plt.plot(df[df.Survived.astype(bool)].groupby('Age').Fare.mean(), 'g', label='Survived')\n",
        "plt.plot(df[~df.Survived.astype(bool)].groupby('Age').Fare.mean(), 'r', label='Dead')\n",
        "plt.legend()\n",
        "plt.title('Paid Fare')\n",
        "plt.ylabel('Fare')\n",
        "plt.xlabel('Age')\n",
        "plt.show()"
      ],
      "execution_count": null,
      "outputs": [
        {
          "output_type": "display_data",
          "data": {
            "image/png": "[encoded data removed]",
            "text/plain": [
              "<Figure size 432x288 with 1 Axes>"
            ]
          },
          "metadata": {
            "tags": [],
            "needs_background": "light"
          }
        }
      ]
    },
    {
      "cell_type": "markdown",
      "metadata": {
        "id": "QUPC32LRkFH5"
      },
      "source": [
        "#### _Exercise 3.5_\n",
        "Put plots of exercises #3.0, #3.1, #3.2, #3.4 in one plot as subplots."
      ]
    },
    {
      "cell_type": "code",
      "metadata": {
        "id": "BCY48lZrjDsU",
        "colab": {
          "base_uri": "https://localhost:8080/",
          "height": 753
        },
        "outputId": "57b3b954-52c0-44e0-b26b-ac2345a69a14"
      },
      "source": [
        "import matplotlib.pyplot as plt\n",
        "\n",
        "f = plt.figure(figsize=(15, 5))\n",
        "\n",
        "ax1 = plt.subplot(221)\n",
        "ax1.scatter(df.Age, df.Fare, alpha=0.2)\n",
        "plt.title('Paid Fare')\n",
        "plt.ylabel('Fare')\n",
        "plt.xlabel('Age')\n",
        "\n",
        "ax2 = plt.subplot(222)\n",
        "ax2.hist(df.Embarked)\n",
        "plt.title('Count of Embarked')\n",
        "plt.ylabel('Count')\n",
        "plt.xlabel('Embarked')\n",
        "\n",
        "ax3 = plt.subplot(223)\n",
        "ax3.pie(df.groupby('Embarked').PassengerId.count(), labels= [0,1,2])\n",
        "plt.title('Count of Embarked')\n",
        "\n",
        "ax4 = plt.subplot(224)\n",
        "ax4.plot(df[df.Survived.astype(bool)].groupby('Age').Fare.mean(), 'g', label='Survived')\n",
        "ax4.plot(df[~df.Survived.astype(bool)].groupby('Age').Fare.mean(), 'r', label='Dead')\n",
        "plt.legend()\n",
        "plt.title('Paid Fare')\n",
        "plt.ylabel('Fare')\n",
        "plt.xlabel('Age')\n",
        "\n",
        "plt.subplots_adjust(top=2)\n",
        "\n",
        "plt.show()"
      ],
      "execution_count": null,
      "outputs": [
        {
          "output_type": "display_data",
          "data": {
            "image/png": "[encoded data removed]",
            "text/plain": [
              "<Figure size 1080x360 with 4 Axes>"
            ]
          },
          "metadata": {
            "tags": [],
            "needs_background": "light"
          }
        }
      ]
    },
    {
      "cell_type": "code",
      "metadata": {
        "id": "cdHmz5QtmUd1"
      },
      "source": [
        ""
      ],
      "execution_count": null,
      "outputs": []
    }
  ]
}
